{
 "cells": [
  {
   "cell_type": "markdown",
   "metadata": {},
   "source": [
    "# Conversion Rate Challenge\n",
    "\n",
    "\n",
    "## Objectif\n",
    "\n",
    "Optimiser des taux de conversion est une des tâches les plus importantes d'un data scientist.\n",
    "\n",
    "C'est pourquoi, nous allons construire un modèle qui va prédire le taux de conversion de clients sur un site web et faire des recommendations à notre équipe marketing pour pouvoir augmenter notre revenu.\n",
    "\n",
    "\n",
    "## Description du challenge\n",
    "\n",
    "Nous avons récolté des données à propos d'utilisateurs du site d'une entreprise _anonyme_. Votre projet est de :\n",
    "\n",
    "1. Créer un modèle de prédiction du taux de conversion (l'utilisateur va-t-il convertir ou non).\n",
    "\n",
    "2. Trouver des recommendations à faire pour l'équipe Produit & Marketing afin qu'ils puissent améliorer ce taux de conversion.\n",
    "\n",
    "## Données\n",
    "\n",
    "Vous pourrez trouver les données dans votre dossier Projet -- CONVERSION RATE\n"
   ]
  },
  {
   "cell_type": "markdown",
   "metadata": {},
   "source": [
    "## I - Data exploration"
   ]
  },
  {
   "cell_type": "markdown",
   "metadata": {},
   "source": [
    "### A - Import of the data"
   ]
  },
  {
   "cell_type": "code",
   "execution_count": 167,
   "metadata": {},
   "outputs": [],
   "source": [
    "# Import of librairies\n",
    "import pandas as pd\n",
    "import numpy as np\n",
    "\n",
    "from sklearn.model_selection import train_test_split\n",
    "from sklearn.impute import SimpleImputer\n",
    "from sklearn.preprocessing import StandardScaler\n",
    "from sklearn.compose import ColumnTransformer\n",
    "from sklearn.linear_model import LogisticRegressionCV, LogisticRegression\n",
    "from sklearn.metrics import f1_score, confusion_matrix\n",
    "from sklearn.model_selection import GridSearchCV\n",
    "from sklearn.tree import DecisionTreeClassifier\n",
    "from sklearn.model_selection import cross_val_score\n",
    "\n",
    "import matplotlib.pyplot as plt\n",
    "import seaborn as sns\n",
    "from IPython.display import display\n",
    "\n",
    "from sklearn.preprocessing import OneHotEncoder"
   ]
  },
  {
   "cell_type": "code",
   "execution_count": 108,
   "metadata": {},
   "outputs": [],
   "source": [
    "# Import of data\n",
    "data = pd.read_csv('C:/Users/alexi/Downloads/conversion_data_train.csv')"
   ]
  },
  {
   "cell_type": "code",
   "execution_count": 109,
   "metadata": {},
   "outputs": [
    {
     "data": {
      "text/plain": [
       "(284580, 6)"
      ]
     },
     "execution_count": 109,
     "metadata": {},
     "output_type": "execute_result"
    }
   ],
   "source": [
    "data.shape"
   ]
  },
  {
   "cell_type": "markdown",
   "metadata": {},
   "source": [
    "### B - Data structure of the dataframe"
   ]
  },
  {
   "cell_type": "code",
   "execution_count": 47,
   "metadata": {},
   "outputs": [
    {
     "name": "stdout",
     "output_type": "stream",
     "text": [
      "variable description:\n",
      "<class 'pandas.core.frame.DataFrame'>\n",
      "RangeIndex: 316200 entries, 0 to 316199\n",
      "Data columns (total 6 columns):\n",
      "country                316200 non-null object\n",
      "age                    316200 non-null int64\n",
      "new_user               316200 non-null int64\n",
      "source                 316200 non-null object\n",
      "total_pages_visited    316200 non-null int64\n",
      "converted              316200 non-null int64\n",
      "dtypes: int64(4), object(2)\n",
      "memory usage: 14.5+ MB\n",
      "None\n",
      "\n",
      "head:\n",
      "  country  age  new_user source  total_pages_visited  converted\n",
      "0      UK   25         1    Ads                    1          0\n",
      "1      US   23         1    Seo                    5          0\n",
      "2      US   28         1    Seo                    4          0\n",
      "3   China   39         1    Seo                    5          0\n",
      "4      US   30         1    Seo                    6          0\n",
      "\n",
      "description:\n",
      "       country            age       new_user  source  total_pages_visited  \\\n",
      "count   316200  316200.000000  316200.000000  316200        316200.000000   \n",
      "unique       4            NaN            NaN       3                  NaN   \n",
      "top         US            NaN            NaN     Seo                  NaN   \n",
      "freq    178092            NaN            NaN  155040                  NaN   \n",
      "mean       NaN      30.569858       0.685465     NaN             4.872966   \n",
      "std        NaN       8.271802       0.464331     NaN             3.341104   \n",
      "min        NaN      17.000000       0.000000     NaN             1.000000   \n",
      "25%        NaN      24.000000       0.000000     NaN             2.000000   \n",
      "50%        NaN      30.000000       1.000000     NaN             4.000000   \n",
      "75%        NaN      36.000000       1.000000     NaN             7.000000   \n",
      "max        NaN     123.000000       1.000000     NaN            29.000000   \n",
      "\n",
      "            converted  \n",
      "count   316200.000000  \n",
      "unique            NaN  \n",
      "top               NaN  \n",
      "freq              NaN  \n",
      "mean         0.032258  \n",
      "std          0.176685  \n",
      "min          0.000000  \n",
      "25%          0.000000  \n",
      "50%          0.000000  \n",
      "75%          0.000000  \n",
      "max          1.000000  \n"
     ]
    }
   ],
   "source": [
    "# First exploration\n",
    "print(\"variable description:\")\n",
    "print(df.info())\n",
    "print()\n",
    "print(\"head:\")\n",
    "print(df.head())\n",
    "print()\n",
    "print('description:')\n",
    "print(df.describe(include='all'))"
   ]
  },
  {
   "cell_type": "markdown",
   "metadata": {},
   "source": [
    "Analysis of the dataframe structure:\n",
    "- There are no missing value\n",
    "- The dataset is composed of:\n",
    "    - Qualitative values: 'country', 'source'\n",
    "    - Qualitative values: 'age', 'new_user', 'total_pages_visited', 'converted'\n",
    "- For qualitative values, there are 3 different countries and 4 different sources\n",
    "- For quantitative values: \n",
    "    - 'age': the mean and the avegerage are at 30 years old, the population is young\n",
    "    - 'new_user': 69% of users are new\n",
    "    - 'total_pages_visited': average is 4.9, while median is 4. Some people visit lots of pages before converting!\n",
    "    - 'converted': mean is 3.2%, this is global conversion rate"
   ]
  },
  {
   "cell_type": "code",
   "execution_count": 75,
   "metadata": {},
   "outputs": [
    {
     "name": "stdout",
     "output_type": "stream",
     "text": [
      "Unique values of country:\n",
      "['UK' 'US' 'China' 'Germany']\n",
      "\n",
      "Unique values of age:\n",
      "[ 25  23  28  39  30  31  27  29  38  43  24  36  37  33  20  35  17  50\n",
      "  22  18  34  19  42  32  21  48  40  41  26  45  44  49  46  56  52  54\n",
      "  51  47  53  60  57  55  59  61  58  62  65  63  66  67  64  68  69 123\n",
      "  70  73  77  72  79 111]\n",
      "\n",
      "Unique values of new_user:\n",
      "[1 0]\n",
      "\n",
      "Unique values of source:\n",
      "['Ads' 'Seo' 'Direct']\n",
      "\n",
      "Unique values of total_pages_visited:\n",
      "[ 1  5  4  6  2  8  7  3  9 14 10 11 18 15 19 12 13 21 17 23 16 25 26 20\n",
      " 22 24 27 28 29]\n",
      "\n",
      "Unique values of converted:\n",
      "[0 1]\n",
      "\n"
     ]
    }
   ],
   "source": [
    "# Let's explore the unique values of the dataframe\n",
    "for i in df.columns:\n",
    "    print('Unique values of {}:'.format(i))\n",
    "    print(df[i].unique())\n",
    "    print()"
   ]
  },
  {
   "cell_type": "markdown",
   "metadata": {},
   "source": [
    "Analysis of the unique values:\n",
    "- 'country': there are 4 countires, UK, US, China and Germany\n",
    "- 'age': the age is between 25 and 111 years old\n",
    "- 'new_user': 1 or 0, we can infer 1 means the user is new\n",
    "- 'source': there are 3 sources: 'Ads', 'Seo' and 'Direct'. They represent xxxxxxxxx\n",
    "- 'total_pages_visited': it could be the number of webpage visited before the event of possible conversion\n",
    "- 'converted': 1 or 0, we can infer 1 means the user has bought something"
   ]
  },
  {
   "cell_type": "markdown",
   "metadata": {},
   "source": [
    "### C - Data visualization"
   ]
  },
  {
   "cell_type": "code",
   "execution_count": 59,
   "metadata": {},
   "outputs": [
    {
     "data": {
      "image/png": "[encoded data removed]",
      "text/plain": [
       "<Figure size 360x360 with 1 Axes>"
      ]
     },
     "metadata": {
      "needs_background": "light"
     },
     "output_type": "display_data"
    }
   ],
   "source": [
    "_ = sns.relplot(x='age',y='total_pages_visited',data=df)"
   ]
  },
  {
   "cell_type": "code",
   "execution_count": 63,
   "metadata": {
    "scrolled": false
   },
   "outputs": [
    {
     "data": {
      "image/png": "[encoded data removed]",
      "text/plain": [
       "<Figure size 432x288 with 1 Axes>"
      ]
     },
     "metadata": {
      "needs_background": "light"
     },
     "output_type": "display_data"
    }
   ],
   "source": [
    "# Distribution of the age\n",
    "_ = sns.distplot(df['age'])"
   ]
  },
  {
   "cell_type": "code",
   "execution_count": 76,
   "metadata": {},
   "outputs": [
    {
     "data": {
      "image/png": "[encoded data removed]",
      "text/plain": [
       "<Figure size 432x288 with 1 Axes>"
      ]
     },
     "metadata": {
      "needs_background": "light"
     },
     "output_type": "display_data"
    }
   ],
   "source": [
    "# Distribution of the age\n",
    "_ = sns.distplot(df['age'], bins=10)"
   ]
  },
  {
   "cell_type": "code",
   "execution_count": 81,
   "metadata": {},
   "outputs": [
    {
     "data": {
      "image/png": "[encoded data removed]",
      "text/plain": [
       "<Figure size 432x288 with 1 Axes>"
      ]
     },
     "metadata": {
      "needs_background": "light"
     },
     "output_type": "display_data"
    }
   ],
   "source": [
    "# Distribution of the pages visited\n",
    "_ = sns.distplot(df['total_pages_visited'])"
   ]
  },
  {
   "cell_type": "code",
   "execution_count": 57,
   "metadata": {},
   "outputs": [
    {
     "data": {
      "image/png": "[encoded data removed]",
      "text/plain": [
       "<Figure size 432x288 with 1 Axes>"
      ]
     },
     "metadata": {
      "needs_background": "light"
     },
     "output_type": "display_data"
    }
   ],
   "source": [
    "_ = sns.lineplot(x='age',y='total_pages_visited',data=df)"
   ]
  },
  {
   "cell_type": "code",
   "execution_count": 87,
   "metadata": {
    "scrolled": true
   },
   "outputs": [
    {
     "data": {
      "image/png": "[encoded data removed]",
      "text/plain": [
       "<Figure size 360x360 with 1 Axes>"
      ]
     },
     "metadata": {
      "needs_background": "light"
     },
     "output_type": "display_data"
    }
   ],
   "source": [
    "# Conversion by country\n",
    "_ = sns.catplot(x='country',y='converted',kind=\"bar\", data=df)\n",
    "# It seems most of conversion is done in Germany, then Uk and US. China is really small in comparison"
   ]
  },
  {
   "cell_type": "code",
   "execution_count": 89,
   "metadata": {},
   "outputs": [
    {
     "data": {
      "image/png": "[encoded data removed]",
      "text/plain": [
       "<Figure size 360x360 with 1 Axes>"
      ]
     },
     "metadata": {
      "needs_background": "light"
     },
     "output_type": "display_data"
    }
   ],
   "source": [
    "# Conversion by country\n",
    "_ = sns.catplot(x='country',y='new_user',kind=\"bar\", data=df)\n",
    "# The proportion of new user is quite the same for every country"
   ]
  },
  {
   "cell_type": "markdown",
   "metadata": {},
   "source": [
    "## II - Modelling"
   ]
  },
  {
   "cell_type": "markdown",
   "metadata": {},
   "source": [
    "Ideas of analysis:\n",
    "- Conversion by country\n",
    "- Conversion by age\n",
    "- Feature engineering on age"
   ]
  },
  {
   "cell_type": "code",
   "execution_count": 93,
   "metadata": {},
   "outputs": [
    {
     "name": "stdout",
     "output_type": "stream",
     "text": [
      "                          age  new_user  total_pages_visited  converted\n",
      "age                  1.000000  0.012343            -0.045922  -0.088797\n",
      "new_user             0.012343  1.000000            -0.082541  -0.152374\n",
      "total_pages_visited -0.045922 -0.082541             1.000000   0.528994\n",
      "converted           -0.088797 -0.152374             0.528994   1.000000\n"
     ]
    },
    {
     "data": {
      "image/png": "[encoded data removed]",
      "text/plain": [
       "<Figure size 432x288 with 2 Axes>"
      ]
     },
     "metadata": {
      "needs_background": "light"
     },
     "output_type": "display_data"
    }
   ],
   "source": [
    "corr = df.corr()\n",
    "print(corr)\n",
    "_=sns.heatmap(corr)\n",
    "# correlation of page visited and conversion"
   ]
  },
  {
   "cell_type": "code",
   "execution_count": 104,
   "metadata": {},
   "outputs": [
    {
     "data": {
      "text/html": [
       "<div>\n",
       "<style scoped>\n",
       "    .dataframe tbody tr th:only-of-type {\n",
       "        vertical-align: middle;\n",
       "    }\n",
       "\n",
       "    .dataframe tbody tr th {\n",
       "        vertical-align: top;\n",
       "    }\n",
       "\n",
       "    .dataframe thead th {\n",
       "        text-align: right;\n",
       "    }\n",
       "</style>\n",
       "<table border=\"1\" class=\"dataframe\">\n",
       "  <thead>\n",
       "    <tr style=\"text-align: right;\">\n",
       "      <th></th>\n",
       "      <th>country</th>\n",
       "      <th>age</th>\n",
       "      <th>new_user</th>\n",
       "      <th>source</th>\n",
       "      <th>total_pages_visited</th>\n",
       "      <th>converted</th>\n",
       "    </tr>\n",
       "  </thead>\n",
       "  <tbody>\n",
       "    <tr>\n",
       "      <th>count</th>\n",
       "      <td>284580</td>\n",
       "      <td>284580.000000</td>\n",
       "      <td>284580.000000</td>\n",
       "      <td>284580</td>\n",
       "      <td>284580.000000</td>\n",
       "      <td>284580.000000</td>\n",
       "    </tr>\n",
       "    <tr>\n",
       "      <th>unique</th>\n",
       "      <td>4</td>\n",
       "      <td>NaN</td>\n",
       "      <td>NaN</td>\n",
       "      <td>3</td>\n",
       "      <td>NaN</td>\n",
       "      <td>NaN</td>\n",
       "    </tr>\n",
       "    <tr>\n",
       "      <th>top</th>\n",
       "      <td>US</td>\n",
       "      <td>NaN</td>\n",
       "      <td>NaN</td>\n",
       "      <td>Seo</td>\n",
       "      <td>NaN</td>\n",
       "      <td>NaN</td>\n",
       "    </tr>\n",
       "    <tr>\n",
       "      <th>freq</th>\n",
       "      <td>160124</td>\n",
       "      <td>NaN</td>\n",
       "      <td>NaN</td>\n",
       "      <td>139477</td>\n",
       "      <td>NaN</td>\n",
       "      <td>NaN</td>\n",
       "    </tr>\n",
       "    <tr>\n",
       "      <th>mean</th>\n",
       "      <td>NaN</td>\n",
       "      <td>30.564203</td>\n",
       "      <td>0.685452</td>\n",
       "      <td>NaN</td>\n",
       "      <td>4.873252</td>\n",
       "      <td>0.032258</td>\n",
       "    </tr>\n",
       "    <tr>\n",
       "      <th>std</th>\n",
       "      <td>NaN</td>\n",
       "      <td>8.266789</td>\n",
       "      <td>0.464336</td>\n",
       "      <td>NaN</td>\n",
       "      <td>3.341995</td>\n",
       "      <td>0.176685</td>\n",
       "    </tr>\n",
       "    <tr>\n",
       "      <th>min</th>\n",
       "      <td>NaN</td>\n",
       "      <td>17.000000</td>\n",
       "      <td>0.000000</td>\n",
       "      <td>NaN</td>\n",
       "      <td>1.000000</td>\n",
       "      <td>0.000000</td>\n",
       "    </tr>\n",
       "    <tr>\n",
       "      <th>25%</th>\n",
       "      <td>NaN</td>\n",
       "      <td>24.000000</td>\n",
       "      <td>0.000000</td>\n",
       "      <td>NaN</td>\n",
       "      <td>2.000000</td>\n",
       "      <td>0.000000</td>\n",
       "    </tr>\n",
       "    <tr>\n",
       "      <th>50%</th>\n",
       "      <td>NaN</td>\n",
       "      <td>30.000000</td>\n",
       "      <td>1.000000</td>\n",
       "      <td>NaN</td>\n",
       "      <td>4.000000</td>\n",
       "      <td>0.000000</td>\n",
       "    </tr>\n",
       "    <tr>\n",
       "      <th>75%</th>\n",
       "      <td>NaN</td>\n",
       "      <td>36.000000</td>\n",
       "      <td>1.000000</td>\n",
       "      <td>NaN</td>\n",
       "      <td>7.000000</td>\n",
       "      <td>0.000000</td>\n",
       "    </tr>\n",
       "    <tr>\n",
       "      <th>max</th>\n",
       "      <td>NaN</td>\n",
       "      <td>123.000000</td>\n",
       "      <td>1.000000</td>\n",
       "      <td>NaN</td>\n",
       "      <td>29.000000</td>\n",
       "      <td>1.000000</td>\n",
       "    </tr>\n",
       "  </tbody>\n",
       "</table>\n",
       "</div>"
      ],
      "text/plain": [
       "       country            age       new_user  source  total_pages_visited  \\\n",
       "count   284580  284580.000000  284580.000000  284580        284580.000000   \n",
       "unique       4            NaN            NaN       3                  NaN   \n",
       "top         US            NaN            NaN     Seo                  NaN   \n",
       "freq    160124            NaN            NaN  139477                  NaN   \n",
       "mean       NaN      30.564203       0.685452     NaN             4.873252   \n",
       "std        NaN       8.266789       0.464336     NaN             3.341995   \n",
       "min        NaN      17.000000       0.000000     NaN             1.000000   \n",
       "25%        NaN      24.000000       0.000000     NaN             2.000000   \n",
       "50%        NaN      30.000000       1.000000     NaN             4.000000   \n",
       "75%        NaN      36.000000       1.000000     NaN             7.000000   \n",
       "max        NaN     123.000000       1.000000     NaN            29.000000   \n",
       "\n",
       "            converted  \n",
       "count   284580.000000  \n",
       "unique            NaN  \n",
       "top               NaN  \n",
       "freq              NaN  \n",
       "mean         0.032258  \n",
       "std          0.176685  \n",
       "min          0.000000  \n",
       "25%          0.000000  \n",
       "50%          0.000000  \n",
       "75%          0.000000  \n",
       "max          1.000000  "
      ]
     },
     "execution_count": 104,
     "metadata": {},
     "output_type": "execute_result"
    }
   ],
   "source": [
    "df.describe(include='all')"
   ]
  },
  {
   "cell_type": "code",
   "execution_count": 124,
   "metadata": {},
   "outputs": [],
   "source": [
    "features_list = ['country','age','new_user','source','total_pages_visited']\n",
    "numeric_indices = [1,4]\n",
    "categorical_indices = [0,2,3]\n",
    "target_variable = 'converted'"
   ]
  },
  {
   "cell_type": "code",
   "execution_count": 125,
   "metadata": {},
   "outputs": [
    {
     "name": "stdout",
     "output_type": "stream",
     "text": [
      "Variables explicatives :  Index(['country', 'age', 'new_user', 'source', 'total_pages_visited'], dtype='object')\n",
      "\n"
     ]
    }
   ],
   "source": [
    "X = data.loc[:, features_list]\n",
    "Y = data.loc[:, target_variable]\n",
    "\n",
    "print('Variables explicatives : ', X.columns)\n",
    "print()"
   ]
  },
  {
   "cell_type": "code",
   "execution_count": 127,
   "metadata": {},
   "outputs": [
    {
     "data": {
      "text/plain": [
       "0    0\n",
       "1    0\n",
       "2    1\n",
       "3    0\n",
       "4    0\n",
       "Name: converted, dtype: int64"
      ]
     },
     "execution_count": 127,
     "metadata": {},
     "output_type": "execute_result"
    }
   ],
   "source": [
    "Y.head()"
   ]
  },
  {
   "cell_type": "code",
   "execution_count": 136,
   "metadata": {},
   "outputs": [
    {
     "name": "stdout",
     "output_type": "stream",
     "text": [
      "Dividing into train and test sets...\n",
      "...Done.\n",
      "\n"
     ]
    }
   ],
   "source": [
    "# Divide dataset Train set & Test set \n",
    "print(\"Dividing into train and test sets...\")\n",
    "X_train, X_test, Y_train, Y_test = train_test_split(X, Y, test_size=0.2, random_state=0)\n",
    "print(\"...Done.\")\n",
    "print()"
   ]
  },
  {
   "cell_type": "code",
   "execution_count": 137,
   "metadata": {},
   "outputs": [
    {
     "data": {
      "text/html": [
       "<div>\n",
       "<style scoped>\n",
       "    .dataframe tbody tr th:only-of-type {\n",
       "        vertical-align: middle;\n",
       "    }\n",
       "\n",
       "    .dataframe tbody tr th {\n",
       "        vertical-align: top;\n",
       "    }\n",
       "\n",
       "    .dataframe thead th {\n",
       "        text-align: right;\n",
       "    }\n",
       "</style>\n",
       "<table border=\"1\" class=\"dataframe\">\n",
       "  <thead>\n",
       "    <tr style=\"text-align: right;\">\n",
       "      <th></th>\n",
       "      <th>country</th>\n",
       "      <th>age</th>\n",
       "      <th>new_user</th>\n",
       "      <th>source</th>\n",
       "      <th>total_pages_visited</th>\n",
       "    </tr>\n",
       "  </thead>\n",
       "  <tbody>\n",
       "    <tr>\n",
       "      <th>17050</th>\n",
       "      <td>US</td>\n",
       "      <td>29</td>\n",
       "      <td>1</td>\n",
       "      <td>Seo</td>\n",
       "      <td>4</td>\n",
       "    </tr>\n",
       "    <tr>\n",
       "      <th>260342</th>\n",
       "      <td>US</td>\n",
       "      <td>23</td>\n",
       "      <td>0</td>\n",
       "      <td>Direct</td>\n",
       "      <td>7</td>\n",
       "    </tr>\n",
       "    <tr>\n",
       "      <th>278164</th>\n",
       "      <td>UK</td>\n",
       "      <td>33</td>\n",
       "      <td>1</td>\n",
       "      <td>Seo</td>\n",
       "      <td>11</td>\n",
       "    </tr>\n",
       "    <tr>\n",
       "      <th>268440</th>\n",
       "      <td>China</td>\n",
       "      <td>25</td>\n",
       "      <td>1</td>\n",
       "      <td>Seo</td>\n",
       "      <td>5</td>\n",
       "    </tr>\n",
       "    <tr>\n",
       "      <th>157837</th>\n",
       "      <td>US</td>\n",
       "      <td>40</td>\n",
       "      <td>0</td>\n",
       "      <td>Seo</td>\n",
       "      <td>1</td>\n",
       "    </tr>\n",
       "  </tbody>\n",
       "</table>\n",
       "</div>"
      ],
      "text/plain": [
       "       country  age  new_user  source  total_pages_visited\n",
       "17050       US   29         1     Seo                    4\n",
       "260342      US   23         0  Direct                    7\n",
       "278164      UK   33         1     Seo                   11\n",
       "268440   China   25         1     Seo                    5\n",
       "157837      US   40         0     Seo                    1"
      ]
     },
     "execution_count": 137,
     "metadata": {},
     "output_type": "execute_result"
    }
   ],
   "source": [
    "X_train.head()"
   ]
  },
  {
   "cell_type": "code",
   "execution_count": 138,
   "metadata": {},
   "outputs": [
    {
     "name": "stdout",
     "output_type": "stream",
     "text": [
      "Convert pandas DataFrames to numpy arrays...\n",
      "...Done\n",
      "[['US' 29 1 'Seo' 4]\n",
      " ['US' 23 0 'Direct' 7]\n",
      " ['UK' 33 1 'Seo' 11]\n",
      " ...\n",
      " ['UK' 31 1 'Direct' 6]\n",
      " ['UK' 25 1 'Seo' 5]\n",
      " ['US' 34 1 'Ads' 3]]\n"
     ]
    }
   ],
   "source": [
    "# Convert pandas DataFrames to numpy arrays before using scikit-learn\n",
    "print(\"Convert pandas DataFrames to numpy arrays...\")\n",
    "X_train = X_train.values\n",
    "X_test = X_test.values\n",
    "Y_train = Y_train.values\n",
    "Y_test = Y_test.values\n",
    "print(\"...Done\")\n",
    "\n",
    "print(X_train)"
   ]
  },
  {
   "cell_type": "code",
   "execution_count": 141,
   "metadata": {},
   "outputs": [],
   "source": [
    "numeric_features = [1,4]\n",
    "numeric_transformer = StandardScaler()\n",
    "categorical_features = [0,2,3]\n",
    "categorical_transformer = OneHotEncoder()\n",
    "feature_encoder = ColumnTransformer(\n",
    "transformers=[\n",
    "    ('num', numeric_transformer, numeric_features),\n",
    "    ('cat', categorical_transformer, categorical_features)\n",
    "]\n",
    ")\n",
    "X_train = feature_encoder.fit_transform(X_train)\n"
   ]
  },
  {
   "cell_type": "code",
   "execution_count": 143,
   "metadata": {},
   "outputs": [
    {
     "name": "stdout",
     "output_type": "stream",
     "text": [
      "(227664, 11)\n"
     ]
    }
   ],
   "source": [
    "print(X_train.shape)"
   ]
  },
  {
   "cell_type": "code",
   "execution_count": 168,
   "metadata": {},
   "outputs": [
    {
     "name": "stdout",
     "output_type": "stream",
     "text": [
      "Fitting 10 folds for each of 36 candidates, totalling 360 fits\n"
     ]
    },
    {
     "name": "stderr",
     "output_type": "stream",
     "text": [
      "[Parallel(n_jobs=1)]: Using backend SequentialBackend with 1 concurrent workers.\n"
     ]
    },
    {
     "name": "stdout",
     "output_type": "stream",
     "text": [
      "[CV] max_depth=1, min_samples_leaf=1 .................................\n",
      "[CV] ..... max_depth=1, min_samples_leaf=1, score=0.737, total=   0.8s\n",
      "[CV] max_depth=1, min_samples_leaf=1 .................................\n"
     ]
    },
    {
     "name": "stderr",
     "output_type": "stream",
     "text": [
      "[Parallel(n_jobs=1)]: Done   1 out of   1 | elapsed:    0.7s remaining:    0.0s\n"
     ]
    },
    {
     "name": "stdout",
     "output_type": "stream",
     "text": [
      "[CV] ..... max_depth=1, min_samples_leaf=1, score=0.705, total=   0.4s\n",
      "[CV] max_depth=1, min_samples_leaf=1 .................................\n"
     ]
    },
    {
     "name": "stderr",
     "output_type": "stream",
     "text": [
      "[Parallel(n_jobs=1)]: Done   2 out of   2 | elapsed:    1.2s remaining:    0.0s\n"
     ]
    },
    {
     "name": "stdout",
     "output_type": "stream",
     "text": [
      "[CV] ..... max_depth=1, min_samples_leaf=1, score=0.717, total=   0.9s\n",
      "[CV] max_depth=1, min_samples_leaf=1 .................................\n"
     ]
    },
    {
     "name": "stderr",
     "output_type": "stream",
     "text": [
      "[Parallel(n_jobs=1)]: Done   3 out of   3 | elapsed:    2.1s remaining:    0.0s\n"
     ]
    },
    {
     "name": "stdout",
     "output_type": "stream",
     "text": [
      "[CV] ..... max_depth=1, min_samples_leaf=1, score=0.701, total=   0.7s\n",
      "[CV] max_depth=1, min_samples_leaf=1 .................................\n"
     ]
    },
    {
     "name": "stderr",
     "output_type": "stream",
     "text": [
      "[Parallel(n_jobs=1)]: Done   4 out of   4 | elapsed:    2.8s remaining:    0.0s\n"
     ]
    },
    {
     "name": "stdout",
     "output_type": "stream",
     "text": [
      "[CV] ..... max_depth=1, min_samples_leaf=1, score=0.706, total=   0.7s\n",
      "[CV] max_depth=1, min_samples_leaf=1 .................................\n",
      "[CV] ..... max_depth=1, min_samples_leaf=1, score=0.713, total=   0.6s\n",
      "[CV] max_depth=1, min_samples_leaf=1 .................................\n",
      "[CV] ..... max_depth=1, min_samples_leaf=1, score=0.689, total=   0.5s\n",
      "[CV] max_depth=1, min_samples_leaf=1 .................................\n",
      "[CV] ..... max_depth=1, min_samples_leaf=1, score=0.709, total=   0.5s\n",
      "[CV] max_depth=1, min_samples_leaf=1 .................................\n",
      "[CV] ..... max_depth=1, min_samples_leaf=1, score=0.719, total=   0.4s\n",
      "[CV] max_depth=1, min_samples_leaf=1 .................................\n",
      "[CV] ..... max_depth=1, min_samples_leaf=1, score=0.706, total=   0.3s\n",
      "[CV] max_depth=1, min_samples_leaf=5 .................................\n",
      "[CV] ..... max_depth=1, min_samples_leaf=5, score=0.737, total=   0.3s\n",
      "[CV] max_depth=1, min_samples_leaf=5 .................................\n",
      "[CV] ..... max_depth=1, min_samples_leaf=5, score=0.705, total=   0.4s\n",
      "[CV] max_depth=1, min_samples_leaf=5 .................................\n",
      "[CV] ..... max_depth=1, min_samples_leaf=5, score=0.717, total=   0.4s\n",
      "[CV] max_depth=1, min_samples_leaf=5 .................................\n",
      "[CV] ..... max_depth=1, min_samples_leaf=5, score=0.701, total=   0.3s\n",
      "[CV] max_depth=1, min_samples_leaf=5 .................................\n",
      "[CV] ..... max_depth=1, min_samples_leaf=5, score=0.706, total=   0.3s\n",
      "[CV] max_depth=1, min_samples_leaf=5 .................................\n",
      "[CV] ..... max_depth=1, min_samples_leaf=5, score=0.713, total=   0.2s\n",
      "[CV] max_depth=1, min_samples_leaf=5 .................................\n",
      "[CV] ..... max_depth=1, min_samples_leaf=5, score=0.689, total=   0.2s\n",
      "[CV] max_depth=1, min_samples_leaf=5 .................................\n",
      "[CV] ..... max_depth=1, min_samples_leaf=5, score=0.709, total=   0.3s\n",
      "[CV] max_depth=1, min_samples_leaf=5 .................................\n",
      "[CV] ..... max_depth=1, min_samples_leaf=5, score=0.719, total=   0.2s\n",
      "[CV] max_depth=1, min_samples_leaf=5 .................................\n",
      "[CV] ..... max_depth=1, min_samples_leaf=5, score=0.706, total=   0.2s\n",
      "[CV] max_depth=1, min_samples_leaf=10 ................................\n",
      "[CV] .... max_depth=1, min_samples_leaf=10, score=0.737, total=   0.3s\n",
      "[CV] max_depth=1, min_samples_leaf=10 ................................\n",
      "[CV] .... max_depth=1, min_samples_leaf=10, score=0.705, total=   0.2s\n",
      "[CV] max_depth=1, min_samples_leaf=10 ................................\n",
      "[CV] .... max_depth=1, min_samples_leaf=10, score=0.717, total=   0.2s\n",
      "[CV] max_depth=1, min_samples_leaf=10 ................................\n",
      "[CV] .... max_depth=1, min_samples_leaf=10, score=0.701, total=   0.3s\n",
      "[CV] max_depth=1, min_samples_leaf=10 ................................\n",
      "[CV] .... max_depth=1, min_samples_leaf=10, score=0.706, total=   0.3s\n",
      "[CV] max_depth=1, min_samples_leaf=10 ................................\n",
      "[CV] .... max_depth=1, min_samples_leaf=10, score=0.713, total=   0.3s\n",
      "[CV] max_depth=1, min_samples_leaf=10 ................................\n",
      "[CV] .... max_depth=1, min_samples_leaf=10, score=0.689, total=   0.3s\n",
      "[CV] max_depth=1, min_samples_leaf=10 ................................\n",
      "[CV] .... max_depth=1, min_samples_leaf=10, score=0.709, total=   0.2s\n",
      "[CV] max_depth=1, min_samples_leaf=10 ................................\n",
      "[CV] .... max_depth=1, min_samples_leaf=10, score=0.719, total=   0.3s\n",
      "[CV] max_depth=1, min_samples_leaf=10 ................................\n",
      "[CV] .... max_depth=1, min_samples_leaf=10, score=0.706, total=   0.2s\n",
      "[CV] max_depth=1, min_samples_leaf=20 ................................\n",
      "[CV] .... max_depth=1, min_samples_leaf=20, score=0.737, total=   0.3s\n",
      "[CV] max_depth=1, min_samples_leaf=20 ................................\n",
      "[CV] .... max_depth=1, min_samples_leaf=20, score=0.705, total=   0.2s\n",
      "[CV] max_depth=1, min_samples_leaf=20 ................................\n",
      "[CV] .... max_depth=1, min_samples_leaf=20, score=0.717, total=   0.3s\n",
      "[CV] max_depth=1, min_samples_leaf=20 ................................\n",
      "[CV] .... max_depth=1, min_samples_leaf=20, score=0.701, total=   0.3s\n",
      "[CV] max_depth=1, min_samples_leaf=20 ................................\n",
      "[CV] .... max_depth=1, min_samples_leaf=20, score=0.706, total=   0.2s\n",
      "[CV] max_depth=1, min_samples_leaf=20 ................................\n",
      "[CV] .... max_depth=1, min_samples_leaf=20, score=0.713, total=   0.2s\n",
      "[CV] max_depth=1, min_samples_leaf=20 ................................\n",
      "[CV] .... max_depth=1, min_samples_leaf=20, score=0.689, total=   0.2s\n",
      "[CV] max_depth=1, min_samples_leaf=20 ................................\n",
      "[CV] .... max_depth=1, min_samples_leaf=20, score=0.709, total=   0.3s\n",
      "[CV] max_depth=1, min_samples_leaf=20 ................................\n",
      "[CV] .... max_depth=1, min_samples_leaf=20, score=0.719, total=   0.2s\n",
      "[CV] max_depth=1, min_samples_leaf=20 ................................\n",
      "[CV] .... max_depth=1, min_samples_leaf=20, score=0.706, total=   0.2s\n",
      "[CV] max_depth=2, min_samples_leaf=1 .................................\n",
      "[CV] ..... max_depth=2, min_samples_leaf=1, score=0.649, total=   0.4s\n",
      "[CV] max_depth=2, min_samples_leaf=1 .................................\n",
      "[CV] ..... max_depth=2, min_samples_leaf=1, score=0.647, total=   0.3s\n",
      "[CV] max_depth=2, min_samples_leaf=1 .................................\n",
      "[CV] ..... max_depth=2, min_samples_leaf=1, score=0.671, total=   0.4s\n",
      "[CV] max_depth=2, min_samples_leaf=1 .................................\n",
      "[CV] ..... max_depth=2, min_samples_leaf=1, score=0.634, total=   0.4s\n",
      "[CV] max_depth=2, min_samples_leaf=1 .................................\n",
      "[CV] ..... max_depth=2, min_samples_leaf=1, score=0.634, total=   0.3s\n",
      "[CV] max_depth=2, min_samples_leaf=1 .................................\n",
      "[CV] ..... max_depth=2, min_samples_leaf=1, score=0.646, total=   0.3s\n",
      "[CV] max_depth=2, min_samples_leaf=1 .................................\n",
      "[CV] ..... max_depth=2, min_samples_leaf=1, score=0.611, total=   0.4s\n",
      "[CV] max_depth=2, min_samples_leaf=1 .................................\n",
      "[CV] ..... max_depth=2, min_samples_leaf=1, score=0.655, total=   0.4s\n",
      "[CV] max_depth=2, min_samples_leaf=1 .................................\n",
      "[CV] ..... max_depth=2, min_samples_leaf=1, score=0.647, total=   0.5s\n",
      "[CV] max_depth=2, min_samples_leaf=1 .................................\n",
      "[CV] ..... max_depth=2, min_samples_leaf=1, score=0.620, total=   0.3s\n",
      "[CV] max_depth=2, min_samples_leaf=5 .................................\n",
      "[CV] ..... max_depth=2, min_samples_leaf=5, score=0.649, total=   0.3s\n",
      "[CV] max_depth=2, min_samples_leaf=5 .................................\n",
      "[CV] ..... max_depth=2, min_samples_leaf=5, score=0.647, total=   0.4s\n",
      "[CV] max_depth=2, min_samples_leaf=5 .................................\n",
      "[CV] ..... max_depth=2, min_samples_leaf=5, score=0.671, total=   0.3s\n",
      "[CV] max_depth=2, min_samples_leaf=5 .................................\n",
      "[CV] ..... max_depth=2, min_samples_leaf=5, score=0.634, total=   0.4s\n",
      "[CV] max_depth=2, min_samples_leaf=5 .................................\n",
      "[CV] ..... max_depth=2, min_samples_leaf=5, score=0.634, total=   0.5s\n",
      "[CV] max_depth=2, min_samples_leaf=5 .................................\n",
      "[CV] ..... max_depth=2, min_samples_leaf=5, score=0.646, total=   0.3s\n",
      "[CV] max_depth=2, min_samples_leaf=5 .................................\n",
      "[CV] ..... max_depth=2, min_samples_leaf=5, score=0.611, total=   0.5s\n",
      "[CV] max_depth=2, min_samples_leaf=5 .................................\n",
      "[CV] ..... max_depth=2, min_samples_leaf=5, score=0.655, total=   0.4s\n",
      "[CV] max_depth=2, min_samples_leaf=5 .................................\n",
      "[CV] ..... max_depth=2, min_samples_leaf=5, score=0.647, total=   0.5s\n",
      "[CV] max_depth=2, min_samples_leaf=5 .................................\n",
      "[CV] ..... max_depth=2, min_samples_leaf=5, score=0.620, total=   0.4s\n",
      "[CV] max_depth=2, min_samples_leaf=10 ................................\n",
      "[CV] .... max_depth=2, min_samples_leaf=10, score=0.649, total=   0.2s\n",
      "[CV] max_depth=2, min_samples_leaf=10 ................................\n",
      "[CV] .... max_depth=2, min_samples_leaf=10, score=0.647, total=   0.2s\n",
      "[CV] max_depth=2, min_samples_leaf=10 ................................\n"
     ]
    },
    {
     "name": "stdout",
     "output_type": "stream",
     "text": [
      "[CV] .... max_depth=2, min_samples_leaf=10, score=0.671, total=   0.2s\n",
      "[CV] max_depth=2, min_samples_leaf=10 ................................\n",
      "[CV] .... max_depth=2, min_samples_leaf=10, score=0.634, total=   0.2s\n",
      "[CV] max_depth=2, min_samples_leaf=10 ................................\n",
      "[CV] .... max_depth=2, min_samples_leaf=10, score=0.634, total=   0.2s\n",
      "[CV] max_depth=2, min_samples_leaf=10 ................................\n",
      "[CV] .... max_depth=2, min_samples_leaf=10, score=0.646, total=   0.3s\n",
      "[CV] max_depth=2, min_samples_leaf=10 ................................\n",
      "[CV] .... max_depth=2, min_samples_leaf=10, score=0.611, total=   0.3s\n",
      "[CV] max_depth=2, min_samples_leaf=10 ................................\n",
      "[CV] .... max_depth=2, min_samples_leaf=10, score=0.655, total=   0.4s\n",
      "[CV] max_depth=2, min_samples_leaf=10 ................................\n",
      "[CV] .... max_depth=2, min_samples_leaf=10, score=0.647, total=   0.4s\n",
      "[CV] max_depth=2, min_samples_leaf=10 ................................\n",
      "[CV] .... max_depth=2, min_samples_leaf=10, score=0.620, total=   0.4s\n",
      "[CV] max_depth=2, min_samples_leaf=20 ................................\n",
      "[CV] .... max_depth=2, min_samples_leaf=20, score=0.649, total=   0.5s\n",
      "[CV] max_depth=2, min_samples_leaf=20 ................................\n",
      "[CV] .... max_depth=2, min_samples_leaf=20, score=0.647, total=   0.7s\n",
      "[CV] max_depth=2, min_samples_leaf=20 ................................\n",
      "[CV] .... max_depth=2, min_samples_leaf=20, score=0.671, total=   0.8s\n",
      "[CV] max_depth=2, min_samples_leaf=20 ................................\n",
      "[CV] .... max_depth=2, min_samples_leaf=20, score=0.634, total=   0.2s\n",
      "[CV] max_depth=2, min_samples_leaf=20 ................................\n",
      "[CV] .... max_depth=2, min_samples_leaf=20, score=0.634, total=   0.3s\n",
      "[CV] max_depth=2, min_samples_leaf=20 ................................\n",
      "[CV] .... max_depth=2, min_samples_leaf=20, score=0.646, total=   0.2s\n",
      "[CV] max_depth=2, min_samples_leaf=20 ................................\n",
      "[CV] .... max_depth=2, min_samples_leaf=20, score=0.611, total=   0.2s\n",
      "[CV] max_depth=2, min_samples_leaf=20 ................................\n",
      "[CV] .... max_depth=2, min_samples_leaf=20, score=0.655, total=   0.2s\n",
      "[CV] max_depth=2, min_samples_leaf=20 ................................\n",
      "[CV] .... max_depth=2, min_samples_leaf=20, score=0.647, total=   0.2s\n",
      "[CV] max_depth=2, min_samples_leaf=20 ................................\n",
      "[CV] .... max_depth=2, min_samples_leaf=20, score=0.620, total=   0.2s\n",
      "[CV] max_depth=3, min_samples_leaf=1 .................................\n",
      "[CV] ..... max_depth=3, min_samples_leaf=1, score=0.746, total=   0.3s\n",
      "[CV] max_depth=3, min_samples_leaf=1 .................................\n",
      "[CV] ..... max_depth=3, min_samples_leaf=1, score=0.732, total=   0.5s\n",
      "[CV] max_depth=3, min_samples_leaf=1 .................................\n",
      "[CV] ..... max_depth=3, min_samples_leaf=1, score=0.760, total=   0.5s\n",
      "[CV] max_depth=3, min_samples_leaf=1 .................................\n",
      "[CV] ..... max_depth=3, min_samples_leaf=1, score=0.720, total=   0.6s\n",
      "[CV] max_depth=3, min_samples_leaf=1 .................................\n",
      "[CV] ..... max_depth=3, min_samples_leaf=1, score=0.721, total=   0.5s\n",
      "[CV] max_depth=3, min_samples_leaf=1 .................................\n",
      "[CV] ..... max_depth=3, min_samples_leaf=1, score=0.724, total=   0.5s\n",
      "[CV] max_depth=3, min_samples_leaf=1 .................................\n",
      "[CV] ..... max_depth=3, min_samples_leaf=1, score=0.708, total=   0.4s\n",
      "[CV] max_depth=3, min_samples_leaf=1 .................................\n",
      "[CV] ..... max_depth=3, min_samples_leaf=1, score=0.733, total=   0.4s\n",
      "[CV] max_depth=3, min_samples_leaf=1 .................................\n",
      "[CV] ..... max_depth=3, min_samples_leaf=1, score=0.749, total=   0.4s\n",
      "[CV] max_depth=3, min_samples_leaf=1 .................................\n",
      "[CV] ..... max_depth=3, min_samples_leaf=1, score=0.734, total=   0.4s\n",
      "[CV] max_depth=3, min_samples_leaf=5 .................................\n",
      "[CV] ..... max_depth=3, min_samples_leaf=5, score=0.746, total=   0.4s\n",
      "[CV] max_depth=3, min_samples_leaf=5 .................................\n",
      "[CV] ..... max_depth=3, min_samples_leaf=5, score=0.732, total=   0.4s\n",
      "[CV] max_depth=3, min_samples_leaf=5 .................................\n",
      "[CV] ..... max_depth=3, min_samples_leaf=5, score=0.760, total=   0.4s\n",
      "[CV] max_depth=3, min_samples_leaf=5 .................................\n",
      "[CV] ..... max_depth=3, min_samples_leaf=5, score=0.720, total=   0.4s\n",
      "[CV] max_depth=3, min_samples_leaf=5 .................................\n",
      "[CV] ..... max_depth=3, min_samples_leaf=5, score=0.721, total=   0.4s\n",
      "[CV] max_depth=3, min_samples_leaf=5 .................................\n",
      "[CV] ..... max_depth=3, min_samples_leaf=5, score=0.724, total=   0.4s\n",
      "[CV] max_depth=3, min_samples_leaf=5 .................................\n",
      "[CV] ..... max_depth=3, min_samples_leaf=5, score=0.708, total=   0.4s\n",
      "[CV] max_depth=3, min_samples_leaf=5 .................................\n",
      "[CV] ..... max_depth=3, min_samples_leaf=5, score=0.733, total=   0.5s\n",
      "[CV] max_depth=3, min_samples_leaf=5 .................................\n",
      "[CV] ..... max_depth=3, min_samples_leaf=5, score=0.749, total=   0.5s\n",
      "[CV] max_depth=3, min_samples_leaf=5 .................................\n",
      "[CV] ..... max_depth=3, min_samples_leaf=5, score=0.734, total=   0.4s\n",
      "[CV] max_depth=3, min_samples_leaf=10 ................................\n",
      "[CV] .... max_depth=3, min_samples_leaf=10, score=0.746, total=   0.4s\n",
      "[CV] max_depth=3, min_samples_leaf=10 ................................\n",
      "[CV] .... max_depth=3, min_samples_leaf=10, score=0.732, total=   0.6s\n",
      "[CV] max_depth=3, min_samples_leaf=10 ................................\n",
      "[CV] .... max_depth=3, min_samples_leaf=10, score=0.760, total=   0.3s\n",
      "[CV] max_depth=3, min_samples_leaf=10 ................................\n",
      "[CV] .... max_depth=3, min_samples_leaf=10, score=0.720, total=   0.3s\n",
      "[CV] max_depth=3, min_samples_leaf=10 ................................\n",
      "[CV] .... max_depth=3, min_samples_leaf=10, score=0.721, total=   0.4s\n",
      "[CV] max_depth=3, min_samples_leaf=10 ................................\n",
      "[CV] .... max_depth=3, min_samples_leaf=10, score=0.724, total=   0.4s\n",
      "[CV] max_depth=3, min_samples_leaf=10 ................................\n",
      "[CV] .... max_depth=3, min_samples_leaf=10, score=0.708, total=   0.4s\n",
      "[CV] max_depth=3, min_samples_leaf=10 ................................\n",
      "[CV] .... max_depth=3, min_samples_leaf=10, score=0.733, total=   0.8s\n",
      "[CV] max_depth=3, min_samples_leaf=10 ................................\n",
      "[CV] .... max_depth=3, min_samples_leaf=10, score=0.749, total=   0.9s\n",
      "[CV] max_depth=3, min_samples_leaf=10 ................................\n",
      "[CV] .... max_depth=3, min_samples_leaf=10, score=0.734, total=   1.1s\n",
      "[CV] max_depth=3, min_samples_leaf=20 ................................\n",
      "[CV] .... max_depth=3, min_samples_leaf=20, score=0.746, total=   1.3s\n",
      "[CV] max_depth=3, min_samples_leaf=20 ................................\n",
      "[CV] .... max_depth=3, min_samples_leaf=20, score=0.732, total=   0.6s\n",
      "[CV] max_depth=3, min_samples_leaf=20 ................................\n",
      "[CV] .... max_depth=3, min_samples_leaf=20, score=0.760, total=   0.7s\n",
      "[CV] max_depth=3, min_samples_leaf=20 ................................\n",
      "[CV] .... max_depth=3, min_samples_leaf=20, score=0.720, total=   0.7s\n",
      "[CV] max_depth=3, min_samples_leaf=20 ................................\n",
      "[CV] .... max_depth=3, min_samples_leaf=20, score=0.721, total=   0.5s\n",
      "[CV] max_depth=3, min_samples_leaf=20 ................................\n",
      "[CV] .... max_depth=3, min_samples_leaf=20, score=0.724, total=   0.7s\n",
      "[CV] max_depth=3, min_samples_leaf=20 ................................\n",
      "[CV] .... max_depth=3, min_samples_leaf=20, score=0.708, total=   1.1s\n",
      "[CV] max_depth=3, min_samples_leaf=20 ................................\n",
      "[CV] .... max_depth=3, min_samples_leaf=20, score=0.733, total=   1.0s\n",
      "[CV] max_depth=3, min_samples_leaf=20 ................................\n",
      "[CV] .... max_depth=3, min_samples_leaf=20, score=0.749, total=   0.8s\n",
      "[CV] max_depth=3, min_samples_leaf=20 ................................\n",
      "[CV] .... max_depth=3, min_samples_leaf=20, score=0.734, total=   0.7s\n",
      "[CV] max_depth=4, min_samples_leaf=1 .................................\n"
     ]
    },
    {
     "name": "stdout",
     "output_type": "stream",
     "text": [
      "[CV] ..... max_depth=4, min_samples_leaf=1, score=0.749, total=   1.2s\n",
      "[CV] max_depth=4, min_samples_leaf=1 .................................\n",
      "[CV] ..... max_depth=4, min_samples_leaf=1, score=0.741, total=   1.3s\n",
      "[CV] max_depth=4, min_samples_leaf=1 .................................\n",
      "[CV] ..... max_depth=4, min_samples_leaf=1, score=0.762, total=   1.1s\n",
      "[CV] max_depth=4, min_samples_leaf=1 .................................\n",
      "[CV] ..... max_depth=4, min_samples_leaf=1, score=0.727, total=   0.9s\n",
      "[CV] max_depth=4, min_samples_leaf=1 .................................\n",
      "[CV] ..... max_depth=4, min_samples_leaf=1, score=0.727, total=   1.1s\n",
      "[CV] max_depth=4, min_samples_leaf=1 .................................\n",
      "[CV] ..... max_depth=4, min_samples_leaf=1, score=0.727, total=   0.8s\n",
      "[CV] max_depth=4, min_samples_leaf=1 .................................\n",
      "[CV] ..... max_depth=4, min_samples_leaf=1, score=0.716, total=   0.6s\n",
      "[CV] max_depth=4, min_samples_leaf=1 .................................\n",
      "[CV] ..... max_depth=4, min_samples_leaf=1, score=0.737, total=   0.7s\n",
      "[CV] max_depth=4, min_samples_leaf=1 .................................\n",
      "[CV] ..... max_depth=4, min_samples_leaf=1, score=0.757, total=   0.7s\n",
      "[CV] max_depth=4, min_samples_leaf=1 .................................\n",
      "[CV] ..... max_depth=4, min_samples_leaf=1, score=0.735, total=   0.7s\n",
      "[CV] max_depth=4, min_samples_leaf=5 .................................\n",
      "[CV] ..... max_depth=4, min_samples_leaf=5, score=0.749, total=   0.7s\n",
      "[CV] max_depth=4, min_samples_leaf=5 .................................\n",
      "[CV] ..... max_depth=4, min_samples_leaf=5, score=0.741, total=   0.7s\n",
      "[CV] max_depth=4, min_samples_leaf=5 .................................\n",
      "[CV] ..... max_depth=4, min_samples_leaf=5, score=0.762, total=   0.6s\n",
      "[CV] max_depth=4, min_samples_leaf=5 .................................\n",
      "[CV] ..... max_depth=4, min_samples_leaf=5, score=0.727, total=   0.6s\n",
      "[CV] max_depth=4, min_samples_leaf=5 .................................\n",
      "[CV] ..... max_depth=4, min_samples_leaf=5, score=0.727, total=   0.7s\n",
      "[CV] max_depth=4, min_samples_leaf=5 .................................\n",
      "[CV] ..... max_depth=4, min_samples_leaf=5, score=0.727, total=   0.6s\n",
      "[CV] max_depth=4, min_samples_leaf=5 .................................\n",
      "[CV] ..... max_depth=4, min_samples_leaf=5, score=0.716, total=   0.6s\n",
      "[CV] max_depth=4, min_samples_leaf=5 .................................\n",
      "[CV] ..... max_depth=4, min_samples_leaf=5, score=0.737, total=   0.7s\n",
      "[CV] max_depth=4, min_samples_leaf=5 .................................\n",
      "[CV] ..... max_depth=4, min_samples_leaf=5, score=0.757, total=   0.7s\n",
      "[CV] max_depth=4, min_samples_leaf=5 .................................\n",
      "[CV] ..... max_depth=4, min_samples_leaf=5, score=0.735, total=   0.7s\n",
      "[CV] max_depth=4, min_samples_leaf=10 ................................\n",
      "[CV] .... max_depth=4, min_samples_leaf=10, score=0.749, total=   0.6s\n",
      "[CV] max_depth=4, min_samples_leaf=10 ................................\n",
      "[CV] .... max_depth=4, min_samples_leaf=10, score=0.741, total=   0.6s\n",
      "[CV] max_depth=4, min_samples_leaf=10 ................................\n",
      "[CV] .... max_depth=4, min_samples_leaf=10, score=0.762, total=   0.6s\n",
      "[CV] max_depth=4, min_samples_leaf=10 ................................\n",
      "[CV] .... max_depth=4, min_samples_leaf=10, score=0.727, total=   0.6s\n",
      "[CV] max_depth=4, min_samples_leaf=10 ................................\n",
      "[CV] .... max_depth=4, min_samples_leaf=10, score=0.727, total=   0.6s\n",
      "[CV] max_depth=4, min_samples_leaf=10 ................................\n",
      "[CV] .... max_depth=4, min_samples_leaf=10, score=0.727, total=   0.5s\n",
      "[CV] max_depth=4, min_samples_leaf=10 ................................\n",
      "[CV] .... max_depth=4, min_samples_leaf=10, score=0.716, total=   0.8s\n",
      "[CV] max_depth=4, min_samples_leaf=10 ................................\n",
      "[CV] .... max_depth=4, min_samples_leaf=10, score=0.737, total=   1.0s\n",
      "[CV] max_depth=4, min_samples_leaf=10 ................................\n",
      "[CV] .... max_depth=4, min_samples_leaf=10, score=0.757, total=   0.7s\n",
      "[CV] max_depth=4, min_samples_leaf=10 ................................\n",
      "[CV] .... max_depth=4, min_samples_leaf=10, score=0.735, total=   0.7s\n",
      "[CV] max_depth=4, min_samples_leaf=20 ................................\n",
      "[CV] .... max_depth=4, min_samples_leaf=20, score=0.749, total=   0.7s\n",
      "[CV] max_depth=4, min_samples_leaf=20 ................................\n",
      "[CV] .... max_depth=4, min_samples_leaf=20, score=0.741, total=   0.6s\n",
      "[CV] max_depth=4, min_samples_leaf=20 ................................\n",
      "[CV] .... max_depth=4, min_samples_leaf=20, score=0.762, total=   0.5s\n",
      "[CV] max_depth=4, min_samples_leaf=20 ................................\n",
      "[CV] .... max_depth=4, min_samples_leaf=20, score=0.727, total=   0.8s\n",
      "[CV] max_depth=4, min_samples_leaf=20 ................................\n",
      "[CV] .... max_depth=4, min_samples_leaf=20, score=0.727, total=   0.6s\n",
      "[CV] max_depth=4, min_samples_leaf=20 ................................\n",
      "[CV] .... max_depth=4, min_samples_leaf=20, score=0.727, total=   0.6s\n",
      "[CV] max_depth=4, min_samples_leaf=20 ................................\n",
      "[CV] .... max_depth=4, min_samples_leaf=20, score=0.718, total=   0.5s\n",
      "[CV] max_depth=4, min_samples_leaf=20 ................................\n",
      "[CV] .... max_depth=4, min_samples_leaf=20, score=0.737, total=   0.6s\n",
      "[CV] max_depth=4, min_samples_leaf=20 ................................\n",
      "[CV] .... max_depth=4, min_samples_leaf=20, score=0.757, total=   0.6s\n",
      "[CV] max_depth=4, min_samples_leaf=20 ................................\n",
      "[CV] .... max_depth=4, min_samples_leaf=20, score=0.735, total=   0.6s\n",
      "[CV] max_depth=5, min_samples_leaf=1 .................................\n",
      "[CV] ..... max_depth=5, min_samples_leaf=1, score=0.748, total=   0.6s\n",
      "[CV] max_depth=5, min_samples_leaf=1 .................................\n",
      "[CV] ..... max_depth=5, min_samples_leaf=1, score=0.749, total=   0.7s\n",
      "[CV] max_depth=5, min_samples_leaf=1 .................................\n",
      "[CV] ..... max_depth=5, min_samples_leaf=1, score=0.763, total=   0.7s\n",
      "[CV] max_depth=5, min_samples_leaf=1 .................................\n",
      "[CV] ..... max_depth=5, min_samples_leaf=1, score=0.728, total=   1.2s\n",
      "[CV] max_depth=5, min_samples_leaf=1 .................................\n",
      "[CV] ..... max_depth=5, min_samples_leaf=1, score=0.727, total=   1.2s\n",
      "[CV] max_depth=5, min_samples_leaf=1 .................................\n",
      "[CV] ..... max_depth=5, min_samples_leaf=1, score=0.727, total=   0.7s\n",
      "[CV] max_depth=5, min_samples_leaf=1 .................................\n",
      "[CV] ..... max_depth=5, min_samples_leaf=1, score=0.718, total=   1.0s\n",
      "[CV] max_depth=5, min_samples_leaf=1 .................................\n",
      "[CV] ..... max_depth=5, min_samples_leaf=1, score=0.742, total=   1.1s\n",
      "[CV] max_depth=5, min_samples_leaf=1 .................................\n",
      "[CV] ..... max_depth=5, min_samples_leaf=1, score=0.757, total=   0.7s\n",
      "[CV] max_depth=5, min_samples_leaf=1 .................................\n",
      "[CV] ..... max_depth=5, min_samples_leaf=1, score=0.735, total=   0.7s\n",
      "[CV] max_depth=5, min_samples_leaf=5 .................................\n",
      "[CV] ..... max_depth=5, min_samples_leaf=5, score=0.748, total=   1.0s\n",
      "[CV] max_depth=5, min_samples_leaf=5 .................................\n",
      "[CV] ..... max_depth=5, min_samples_leaf=5, score=0.749, total=   0.8s\n",
      "[CV] max_depth=5, min_samples_leaf=5 .................................\n",
      "[CV] ..... max_depth=5, min_samples_leaf=5, score=0.763, total=   0.7s\n",
      "[CV] max_depth=5, min_samples_leaf=5 .................................\n",
      "[CV] ..... max_depth=5, min_samples_leaf=5, score=0.728, total=   0.9s\n",
      "[CV] max_depth=5, min_samples_leaf=5 .................................\n",
      "[CV] ..... max_depth=5, min_samples_leaf=5, score=0.727, total=   0.7s\n",
      "[CV] max_depth=5, min_samples_leaf=5 .................................\n",
      "[CV] ..... max_depth=5, min_samples_leaf=5, score=0.727, total=   0.6s\n",
      "[CV] max_depth=5, min_samples_leaf=5 .................................\n",
      "[CV] ..... max_depth=5, min_samples_leaf=5, score=0.718, total=   0.6s\n",
      "[CV] max_depth=5, min_samples_leaf=5 .................................\n",
      "[CV] ..... max_depth=5, min_samples_leaf=5, score=0.742, total=   0.6s\n",
      "[CV] max_depth=5, min_samples_leaf=5 .................................\n"
     ]
    },
    {
     "name": "stdout",
     "output_type": "stream",
     "text": [
      "[CV] ..... max_depth=5, min_samples_leaf=5, score=0.757, total=   0.6s\n",
      "[CV] max_depth=5, min_samples_leaf=5 .................................\n",
      "[CV] ..... max_depth=5, min_samples_leaf=5, score=0.735, total=   0.6s\n",
      "[CV] max_depth=5, min_samples_leaf=10 ................................\n",
      "[CV] .... max_depth=5, min_samples_leaf=10, score=0.748, total=   0.6s\n",
      "[CV] max_depth=5, min_samples_leaf=10 ................................\n",
      "[CV] .... max_depth=5, min_samples_leaf=10, score=0.749, total=   0.6s\n",
      "[CV] max_depth=5, min_samples_leaf=10 ................................\n",
      "[CV] .... max_depth=5, min_samples_leaf=10, score=0.763, total=   0.6s\n",
      "[CV] max_depth=5, min_samples_leaf=10 ................................\n",
      "[CV] .... max_depth=5, min_samples_leaf=10, score=0.728, total=   0.6s\n",
      "[CV] max_depth=5, min_samples_leaf=10 ................................\n",
      "[CV] .... max_depth=5, min_samples_leaf=10, score=0.727, total=   0.6s\n",
      "[CV] max_depth=5, min_samples_leaf=10 ................................\n",
      "[CV] .... max_depth=5, min_samples_leaf=10, score=0.727, total=   0.7s\n",
      "[CV] max_depth=5, min_samples_leaf=10 ................................\n",
      "[CV] .... max_depth=5, min_samples_leaf=10, score=0.716, total=   1.0s\n",
      "[CV] max_depth=5, min_samples_leaf=10 ................................\n",
      "[CV] .... max_depth=5, min_samples_leaf=10, score=0.741, total=   1.0s\n",
      "[CV] max_depth=5, min_samples_leaf=10 ................................\n",
      "[CV] .... max_depth=5, min_samples_leaf=10, score=0.757, total=   0.9s\n",
      "[CV] max_depth=5, min_samples_leaf=10 ................................\n",
      "[CV] .... max_depth=5, min_samples_leaf=10, score=0.735, total=   1.4s\n",
      "[CV] max_depth=5, min_samples_leaf=20 ................................\n",
      "[CV] .... max_depth=5, min_samples_leaf=20, score=0.749, total=   1.1s\n",
      "[CV] max_depth=5, min_samples_leaf=20 ................................\n",
      "[CV] .... max_depth=5, min_samples_leaf=20, score=0.749, total=   0.9s\n",
      "[CV] max_depth=5, min_samples_leaf=20 ................................\n",
      "[CV] .... max_depth=5, min_samples_leaf=20, score=0.762, total=   0.7s\n",
      "[CV] max_depth=5, min_samples_leaf=20 ................................\n",
      "[CV] .... max_depth=5, min_samples_leaf=20, score=0.727, total=   0.7s\n",
      "[CV] max_depth=5, min_samples_leaf=20 ................................\n",
      "[CV] .... max_depth=5, min_samples_leaf=20, score=0.727, total=   0.7s\n",
      "[CV] max_depth=5, min_samples_leaf=20 ................................\n",
      "[CV] .... max_depth=5, min_samples_leaf=20, score=0.727, total=   0.7s\n",
      "[CV] max_depth=5, min_samples_leaf=20 ................................\n",
      "[CV] .... max_depth=5, min_samples_leaf=20, score=0.718, total=   0.7s\n",
      "[CV] max_depth=5, min_samples_leaf=20 ................................\n",
      "[CV] .... max_depth=5, min_samples_leaf=20, score=0.741, total=   1.3s\n",
      "[CV] max_depth=5, min_samples_leaf=20 ................................\n",
      "[CV] .... max_depth=5, min_samples_leaf=20, score=0.757, total=   1.7s\n",
      "[CV] max_depth=5, min_samples_leaf=20 ................................\n",
      "[CV] .... max_depth=5, min_samples_leaf=20, score=0.735, total=   0.9s\n",
      "[CV] max_depth=6, min_samples_leaf=1 .................................\n",
      "[CV] ..... max_depth=6, min_samples_leaf=1, score=0.758, total=   1.1s\n",
      "[CV] max_depth=6, min_samples_leaf=1 .................................\n",
      "[CV] ..... max_depth=6, min_samples_leaf=1, score=0.762, total=   1.3s\n",
      "[CV] max_depth=6, min_samples_leaf=1 .................................\n",
      "[CV] ..... max_depth=6, min_samples_leaf=1, score=0.777, total=   1.3s\n",
      "[CV] max_depth=6, min_samples_leaf=1 .................................\n",
      "[CV] ..... max_depth=6, min_samples_leaf=1, score=0.749, total=   1.2s\n",
      "[CV] max_depth=6, min_samples_leaf=1 .................................\n",
      "[CV] ..... max_depth=6, min_samples_leaf=1, score=0.751, total=   0.9s\n",
      "[CV] max_depth=6, min_samples_leaf=1 .................................\n",
      "[CV] ..... max_depth=6, min_samples_leaf=1, score=0.748, total=   0.9s\n",
      "[CV] max_depth=6, min_samples_leaf=1 .................................\n",
      "[CV] ..... max_depth=6, min_samples_leaf=1, score=0.763, total=   0.9s\n",
      "[CV] max_depth=6, min_samples_leaf=1 .................................\n",
      "[CV] ..... max_depth=6, min_samples_leaf=1, score=0.757, total=   1.2s\n",
      "[CV] max_depth=6, min_samples_leaf=1 .................................\n",
      "[CV] ..... max_depth=6, min_samples_leaf=1, score=0.779, total=   0.9s\n",
      "[CV] max_depth=6, min_samples_leaf=1 .................................\n",
      "[CV] ..... max_depth=6, min_samples_leaf=1, score=0.745, total=   1.1s\n",
      "[CV] max_depth=6, min_samples_leaf=5 .................................\n",
      "[CV] ..... max_depth=6, min_samples_leaf=5, score=0.756, total=   0.9s\n",
      "[CV] max_depth=6, min_samples_leaf=5 .................................\n",
      "[CV] ..... max_depth=6, min_samples_leaf=5, score=0.762, total=   0.9s\n",
      "[CV] max_depth=6, min_samples_leaf=5 .................................\n",
      "[CV] ..... max_depth=6, min_samples_leaf=5, score=0.776, total=   0.7s\n",
      "[CV] max_depth=6, min_samples_leaf=5 .................................\n",
      "[CV] ..... max_depth=6, min_samples_leaf=5, score=0.748, total=   0.8s\n",
      "[CV] max_depth=6, min_samples_leaf=5 .................................\n",
      "[CV] ..... max_depth=6, min_samples_leaf=5, score=0.751, total=   1.0s\n",
      "[CV] max_depth=6, min_samples_leaf=5 .................................\n",
      "[CV] ..... max_depth=6, min_samples_leaf=5, score=0.748, total=   0.9s\n",
      "[CV] max_depth=6, min_samples_leaf=5 .................................\n",
      "[CV] ..... max_depth=6, min_samples_leaf=5, score=0.764, total=   0.9s\n",
      "[CV] max_depth=6, min_samples_leaf=5 .................................\n",
      "[CV] ..... max_depth=6, min_samples_leaf=5, score=0.757, total=   0.8s\n",
      "[CV] max_depth=6, min_samples_leaf=5 .................................\n",
      "[CV] ..... max_depth=6, min_samples_leaf=5, score=0.779, total=   0.8s\n",
      "[CV] max_depth=6, min_samples_leaf=5 .................................\n",
      "[CV] ..... max_depth=6, min_samples_leaf=5, score=0.745, total=   0.9s\n",
      "[CV] max_depth=6, min_samples_leaf=10 ................................\n",
      "[CV] .... max_depth=6, min_samples_leaf=10, score=0.756, total=   0.8s\n",
      "[CV] max_depth=6, min_samples_leaf=10 ................................\n",
      "[CV] .... max_depth=6, min_samples_leaf=10, score=0.762, total=   0.9s\n",
      "[CV] max_depth=6, min_samples_leaf=10 ................................\n",
      "[CV] .... max_depth=6, min_samples_leaf=10, score=0.776, total=   0.9s\n",
      "[CV] max_depth=6, min_samples_leaf=10 ................................\n",
      "[CV] .... max_depth=6, min_samples_leaf=10, score=0.749, total=   1.2s\n",
      "[CV] max_depth=6, min_samples_leaf=10 ................................\n",
      "[CV] .... max_depth=6, min_samples_leaf=10, score=0.750, total=   1.1s\n",
      "[CV] max_depth=6, min_samples_leaf=10 ................................\n",
      "[CV] .... max_depth=6, min_samples_leaf=10, score=0.748, total=   1.1s\n",
      "[CV] max_depth=6, min_samples_leaf=10 ................................\n",
      "[CV] .... max_depth=6, min_samples_leaf=10, score=0.762, total=   0.9s\n",
      "[CV] max_depth=6, min_samples_leaf=10 ................................\n",
      "[CV] .... max_depth=6, min_samples_leaf=10, score=0.754, total=   0.7s\n",
      "[CV] max_depth=6, min_samples_leaf=10 ................................\n",
      "[CV] .... max_depth=6, min_samples_leaf=10, score=0.778, total=   0.8s\n",
      "[CV] max_depth=6, min_samples_leaf=10 ................................\n",
      "[CV] .... max_depth=6, min_samples_leaf=10, score=0.745, total=   0.7s\n",
      "[CV] max_depth=6, min_samples_leaf=20 ................................\n",
      "[CV] .... max_depth=6, min_samples_leaf=20, score=0.757, total=   0.7s\n",
      "[CV] max_depth=6, min_samples_leaf=20 ................................\n",
      "[CV] .... max_depth=6, min_samples_leaf=20, score=0.762, total=   0.8s\n",
      "[CV] max_depth=6, min_samples_leaf=20 ................................\n",
      "[CV] .... max_depth=6, min_samples_leaf=20, score=0.775, total=   0.9s\n",
      "[CV] max_depth=6, min_samples_leaf=20 ................................\n",
      "[CV] .... max_depth=6, min_samples_leaf=20, score=0.748, total=   0.9s\n",
      "[CV] max_depth=6, min_samples_leaf=20 ................................\n",
      "[CV] .... max_depth=6, min_samples_leaf=20, score=0.750, total=   1.6s\n",
      "[CV] max_depth=6, min_samples_leaf=20 ................................\n",
      "[CV] .... max_depth=6, min_samples_leaf=20, score=0.748, total=   1.1s\n",
      "[CV] max_depth=6, min_samples_leaf=20 ................................\n"
     ]
    },
    {
     "name": "stdout",
     "output_type": "stream",
     "text": [
      "[CV] .... max_depth=6, min_samples_leaf=20, score=0.764, total=   1.1s\n",
      "[CV] max_depth=6, min_samples_leaf=20 ................................\n",
      "[CV] .... max_depth=6, min_samples_leaf=20, score=0.754, total=   1.1s\n",
      "[CV] max_depth=6, min_samples_leaf=20 ................................\n",
      "[CV] .... max_depth=6, min_samples_leaf=20, score=0.779, total=   1.4s\n",
      "[CV] max_depth=6, min_samples_leaf=20 ................................\n",
      "[CV] .... max_depth=6, min_samples_leaf=20, score=0.745, total=   1.3s\n",
      "[CV] max_depth=7, min_samples_leaf=1 .................................\n",
      "[CV] ..... max_depth=7, min_samples_leaf=1, score=0.775, total=   1.5s\n",
      "[CV] max_depth=7, min_samples_leaf=1 .................................\n",
      "[CV] ..... max_depth=7, min_samples_leaf=1, score=0.756, total=   1.1s\n",
      "[CV] max_depth=7, min_samples_leaf=1 .................................\n",
      "[CV] ..... max_depth=7, min_samples_leaf=1, score=0.786, total=   1.3s\n",
      "[CV] max_depth=7, min_samples_leaf=1 .................................\n",
      "[CV] ..... max_depth=7, min_samples_leaf=1, score=0.750, total=   1.3s\n",
      "[CV] max_depth=7, min_samples_leaf=1 .................................\n",
      "[CV] ..... max_depth=7, min_samples_leaf=1, score=0.753, total=   0.9s\n",
      "[CV] max_depth=7, min_samples_leaf=1 .................................\n",
      "[CV] ..... max_depth=7, min_samples_leaf=1, score=0.750, total=   0.8s\n",
      "[CV] max_depth=7, min_samples_leaf=1 .................................\n",
      "[CV] ..... max_depth=7, min_samples_leaf=1, score=0.758, total=   0.8s\n",
      "[CV] max_depth=7, min_samples_leaf=1 .................................\n",
      "[CV] ..... max_depth=7, min_samples_leaf=1, score=0.758, total=   1.0s\n",
      "[CV] max_depth=7, min_samples_leaf=1 .................................\n",
      "[CV] ..... max_depth=7, min_samples_leaf=1, score=0.780, total=   1.3s\n",
      "[CV] max_depth=7, min_samples_leaf=1 .................................\n",
      "[CV] ..... max_depth=7, min_samples_leaf=1, score=0.751, total=   1.0s\n",
      "[CV] max_depth=7, min_samples_leaf=5 .................................\n",
      "[CV] ..... max_depth=7, min_samples_leaf=5, score=0.774, total=   1.2s\n",
      "[CV] max_depth=7, min_samples_leaf=5 .................................\n",
      "[CV] ..... max_depth=7, min_samples_leaf=5, score=0.756, total=   1.0s\n",
      "[CV] max_depth=7, min_samples_leaf=5 .................................\n",
      "[CV] ..... max_depth=7, min_samples_leaf=5, score=0.785, total=   1.1s\n",
      "[CV] max_depth=7, min_samples_leaf=5 .................................\n",
      "[CV] ..... max_depth=7, min_samples_leaf=5, score=0.749, total=   1.0s\n",
      "[CV] max_depth=7, min_samples_leaf=5 .................................\n",
      "[CV] ..... max_depth=7, min_samples_leaf=5, score=0.753, total=   0.9s\n",
      "[CV] max_depth=7, min_samples_leaf=5 .................................\n",
      "[CV] ..... max_depth=7, min_samples_leaf=5, score=0.751, total=   1.0s\n",
      "[CV] max_depth=7, min_samples_leaf=5 .................................\n",
      "[CV] ..... max_depth=7, min_samples_leaf=5, score=0.759, total=   0.9s\n",
      "[CV] max_depth=7, min_samples_leaf=5 .................................\n",
      "[CV] ..... max_depth=7, min_samples_leaf=5, score=0.760, total=   1.0s\n",
      "[CV] max_depth=7, min_samples_leaf=5 .................................\n",
      "[CV] ..... max_depth=7, min_samples_leaf=5, score=0.780, total=   1.0s\n",
      "[CV] max_depth=7, min_samples_leaf=5 .................................\n",
      "[CV] ..... max_depth=7, min_samples_leaf=5, score=0.751, total=   1.1s\n",
      "[CV] max_depth=7, min_samples_leaf=10 ................................\n",
      "[CV] .... max_depth=7, min_samples_leaf=10, score=0.773, total=   0.9s\n",
      "[CV] max_depth=7, min_samples_leaf=10 ................................\n",
      "[CV] .... max_depth=7, min_samples_leaf=10, score=0.755, total=   0.8s\n",
      "[CV] max_depth=7, min_samples_leaf=10 ................................\n",
      "[CV] .... max_depth=7, min_samples_leaf=10, score=0.785, total=   0.9s\n",
      "[CV] max_depth=7, min_samples_leaf=10 ................................\n",
      "[CV] .... max_depth=7, min_samples_leaf=10, score=0.750, total=   1.1s\n",
      "[CV] max_depth=7, min_samples_leaf=10 ................................\n",
      "[CV] .... max_depth=7, min_samples_leaf=10, score=0.752, total=   1.1s\n",
      "[CV] max_depth=7, min_samples_leaf=10 ................................\n",
      "[CV] .... max_depth=7, min_samples_leaf=10, score=0.751, total=   0.9s\n",
      "[CV] max_depth=7, min_samples_leaf=10 ................................\n",
      "[CV] .... max_depth=7, min_samples_leaf=10, score=0.757, total=   1.0s\n",
      "[CV] max_depth=7, min_samples_leaf=10 ................................\n",
      "[CV] .... max_depth=7, min_samples_leaf=10, score=0.759, total=   1.1s\n",
      "[CV] max_depth=7, min_samples_leaf=10 ................................\n",
      "[CV] .... max_depth=7, min_samples_leaf=10, score=0.779, total=   1.0s\n",
      "[CV] max_depth=7, min_samples_leaf=10 ................................\n",
      "[CV] .... max_depth=7, min_samples_leaf=10, score=0.751, total=   1.0s\n",
      "[CV] max_depth=7, min_samples_leaf=20 ................................\n",
      "[CV] .... max_depth=7, min_samples_leaf=20, score=0.767, total=   1.0s\n",
      "[CV] max_depth=7, min_samples_leaf=20 ................................\n",
      "[CV] .... max_depth=7, min_samples_leaf=20, score=0.755, total=   1.0s\n",
      "[CV] max_depth=7, min_samples_leaf=20 ................................\n",
      "[CV] .... max_depth=7, min_samples_leaf=20, score=0.785, total=   1.0s\n",
      "[CV] max_depth=7, min_samples_leaf=20 ................................\n",
      "[CV] .... max_depth=7, min_samples_leaf=20, score=0.748, total=   1.0s\n",
      "[CV] max_depth=7, min_samples_leaf=20 ................................\n",
      "[CV] .... max_depth=7, min_samples_leaf=20, score=0.752, total=   1.0s\n",
      "[CV] max_depth=7, min_samples_leaf=20 ................................\n",
      "[CV] .... max_depth=7, min_samples_leaf=20, score=0.751, total=   1.1s\n",
      "[CV] max_depth=7, min_samples_leaf=20 ................................\n",
      "[CV] .... max_depth=7, min_samples_leaf=20, score=0.760, total=   1.1s\n",
      "[CV] max_depth=7, min_samples_leaf=20 ................................\n",
      "[CV] .... max_depth=7, min_samples_leaf=20, score=0.759, total=   0.9s\n",
      "[CV] max_depth=7, min_samples_leaf=20 ................................\n",
      "[CV] .... max_depth=7, min_samples_leaf=20, score=0.780, total=   1.3s\n",
      "[CV] max_depth=7, min_samples_leaf=20 ................................\n",
      "[CV] .... max_depth=7, min_samples_leaf=20, score=0.752, total=   1.1s\n",
      "[CV] max_depth=8, min_samples_leaf=1 .................................\n",
      "[CV] ..... max_depth=8, min_samples_leaf=1, score=0.758, total=   1.0s\n",
      "[CV] max_depth=8, min_samples_leaf=1 .................................\n",
      "[CV] ..... max_depth=8, min_samples_leaf=1, score=0.752, total=   1.1s\n",
      "[CV] max_depth=8, min_samples_leaf=1 .................................\n",
      "[CV] ..... max_depth=8, min_samples_leaf=1, score=0.786, total=   1.3s\n",
      "[CV] max_depth=8, min_samples_leaf=1 .................................\n",
      "[CV] ..... max_depth=8, min_samples_leaf=1, score=0.746, total=   1.2s\n",
      "[CV] max_depth=8, min_samples_leaf=1 .................................\n",
      "[CV] ..... max_depth=8, min_samples_leaf=1, score=0.745, total=   1.4s\n",
      "[CV] max_depth=8, min_samples_leaf=1 .................................\n",
      "[CV] ..... max_depth=8, min_samples_leaf=1, score=0.747, total=   1.2s\n",
      "[CV] max_depth=8, min_samples_leaf=1 .................................\n",
      "[CV] ..... max_depth=8, min_samples_leaf=1, score=0.747, total=   1.6s\n",
      "[CV] max_depth=8, min_samples_leaf=1 .................................\n",
      "[CV] ..... max_depth=8, min_samples_leaf=1, score=0.747, total=   1.5s\n",
      "[CV] max_depth=8, min_samples_leaf=1 .................................\n",
      "[CV] ..... max_depth=8, min_samples_leaf=1, score=0.782, total=   1.1s\n",
      "[CV] max_depth=8, min_samples_leaf=1 .................................\n",
      "[CV] ..... max_depth=8, min_samples_leaf=1, score=0.740, total=   1.1s\n",
      "[CV] max_depth=8, min_samples_leaf=5 .................................\n",
      "[CV] ..... max_depth=8, min_samples_leaf=5, score=0.756, total=   1.5s\n",
      "[CV] max_depth=8, min_samples_leaf=5 .................................\n",
      "[CV] ..... max_depth=8, min_samples_leaf=5, score=0.753, total=   1.7s\n",
      "[CV] max_depth=8, min_samples_leaf=5 .................................\n",
      "[CV] ..... max_depth=8, min_samples_leaf=5, score=0.786, total=   1.8s\n",
      "[CV] max_depth=8, min_samples_leaf=5 .................................\n",
      "[CV] ..... max_depth=8, min_samples_leaf=5, score=0.747, total=   1.2s\n",
      "[CV] max_depth=8, min_samples_leaf=5 .................................\n"
     ]
    },
    {
     "name": "stdout",
     "output_type": "stream",
     "text": [
      "[CV] ..... max_depth=8, min_samples_leaf=5, score=0.745, total=   1.5s\n",
      "[CV] max_depth=8, min_samples_leaf=5 .................................\n",
      "[CV] ..... max_depth=8, min_samples_leaf=5, score=0.749, total=   2.0s\n",
      "[CV] max_depth=8, min_samples_leaf=5 .................................\n",
      "[CV] ..... max_depth=8, min_samples_leaf=5, score=0.748, total=   1.4s\n",
      "[CV] max_depth=8, min_samples_leaf=5 .................................\n",
      "[CV] ..... max_depth=8, min_samples_leaf=5, score=0.750, total=   1.1s\n",
      "[CV] max_depth=8, min_samples_leaf=5 .................................\n",
      "[CV] ..... max_depth=8, min_samples_leaf=5, score=0.782, total=   1.1s\n",
      "[CV] max_depth=8, min_samples_leaf=5 .................................\n",
      "[CV] ..... max_depth=8, min_samples_leaf=5, score=0.746, total=   1.2s\n",
      "[CV] max_depth=8, min_samples_leaf=10 ................................\n",
      "[CV] .... max_depth=8, min_samples_leaf=10, score=0.756, total=   1.0s\n",
      "[CV] max_depth=8, min_samples_leaf=10 ................................\n",
      "[CV] .... max_depth=8, min_samples_leaf=10, score=0.752, total=   1.2s\n",
      "[CV] max_depth=8, min_samples_leaf=10 ................................\n",
      "[CV] .... max_depth=8, min_samples_leaf=10, score=0.787, total=   1.9s\n",
      "[CV] max_depth=8, min_samples_leaf=10 ................................\n",
      "[CV] .... max_depth=8, min_samples_leaf=10, score=0.750, total=   1.2s\n",
      "[CV] max_depth=8, min_samples_leaf=10 ................................\n",
      "[CV] .... max_depth=8, min_samples_leaf=10, score=0.744, total=   1.3s\n",
      "[CV] max_depth=8, min_samples_leaf=10 ................................\n",
      "[CV] .... max_depth=8, min_samples_leaf=10, score=0.751, total=   0.9s\n",
      "[CV] max_depth=8, min_samples_leaf=10 ................................\n",
      "[CV] .... max_depth=8, min_samples_leaf=10, score=0.746, total=   1.0s\n",
      "[CV] max_depth=8, min_samples_leaf=10 ................................\n",
      "[CV] .... max_depth=8, min_samples_leaf=10, score=0.745, total=   1.1s\n",
      "[CV] max_depth=8, min_samples_leaf=10 ................................\n",
      "[CV] .... max_depth=8, min_samples_leaf=10, score=0.781, total=   1.4s\n",
      "[CV] max_depth=8, min_samples_leaf=10 ................................\n",
      "[CV] .... max_depth=8, min_samples_leaf=10, score=0.744, total=   1.1s\n",
      "[CV] max_depth=8, min_samples_leaf=20 ................................\n",
      "[CV] .... max_depth=8, min_samples_leaf=20, score=0.760, total=   1.0s\n",
      "[CV] max_depth=8, min_samples_leaf=20 ................................\n",
      "[CV] .... max_depth=8, min_samples_leaf=20, score=0.753, total=   1.0s\n",
      "[CV] max_depth=8, min_samples_leaf=20 ................................\n",
      "[CV] .... max_depth=8, min_samples_leaf=20, score=0.780, total=   0.9s\n",
      "[CV] max_depth=8, min_samples_leaf=20 ................................\n",
      "[CV] .... max_depth=8, min_samples_leaf=20, score=0.748, total=   1.0s\n",
      "[CV] max_depth=8, min_samples_leaf=20 ................................\n",
      "[CV] .... max_depth=8, min_samples_leaf=20, score=0.744, total=   1.2s\n",
      "[CV] max_depth=8, min_samples_leaf=20 ................................\n",
      "[CV] .... max_depth=8, min_samples_leaf=20, score=0.749, total=   0.9s\n",
      "[CV] max_depth=8, min_samples_leaf=20 ................................\n",
      "[CV] .... max_depth=8, min_samples_leaf=20, score=0.745, total=   1.0s\n",
      "[CV] max_depth=8, min_samples_leaf=20 ................................\n",
      "[CV] .... max_depth=8, min_samples_leaf=20, score=0.747, total=   1.1s\n",
      "[CV] max_depth=8, min_samples_leaf=20 ................................\n",
      "[CV] .... max_depth=8, min_samples_leaf=20, score=0.781, total=   1.4s\n",
      "[CV] max_depth=8, min_samples_leaf=20 ................................\n",
      "[CV] .... max_depth=8, min_samples_leaf=20, score=0.741, total=   1.2s\n",
      "[CV] max_depth=9, min_samples_leaf=1 .................................\n",
      "[CV] ..... max_depth=9, min_samples_leaf=1, score=0.748, total=   1.3s\n",
      "[CV] max_depth=9, min_samples_leaf=1 .................................\n",
      "[CV] ..... max_depth=9, min_samples_leaf=1, score=0.751, total=   2.2s\n",
      "[CV] max_depth=9, min_samples_leaf=1 .................................\n",
      "[CV] ..... max_depth=9, min_samples_leaf=1, score=0.776, total=   1.7s\n",
      "[CV] max_depth=9, min_samples_leaf=1 .................................\n",
      "[CV] ..... max_depth=9, min_samples_leaf=1, score=0.748, total=   1.2s\n",
      "[CV] max_depth=9, min_samples_leaf=1 .................................\n",
      "[CV] ..... max_depth=9, min_samples_leaf=1, score=0.745, total=   1.6s\n",
      "[CV] max_depth=9, min_samples_leaf=1 .................................\n",
      "[CV] ..... max_depth=9, min_samples_leaf=1, score=0.745, total=   1.2s\n",
      "[CV] max_depth=9, min_samples_leaf=1 .................................\n",
      "[CV] ..... max_depth=9, min_samples_leaf=1, score=0.746, total=   1.2s\n",
      "[CV] max_depth=9, min_samples_leaf=1 .................................\n",
      "[CV] ..... max_depth=9, min_samples_leaf=1, score=0.750, total=   1.0s\n",
      "[CV] max_depth=9, min_samples_leaf=1 .................................\n",
      "[CV] ..... max_depth=9, min_samples_leaf=1, score=0.776, total=   0.9s\n",
      "[CV] max_depth=9, min_samples_leaf=1 .................................\n",
      "[CV] ..... max_depth=9, min_samples_leaf=1, score=0.733, total=   0.9s\n",
      "[CV] max_depth=9, min_samples_leaf=5 .................................\n",
      "[CV] ..... max_depth=9, min_samples_leaf=5, score=0.748, total=   1.2s\n",
      "[CV] max_depth=9, min_samples_leaf=5 .................................\n",
      "[CV] ..... max_depth=9, min_samples_leaf=5, score=0.758, total=   1.1s\n",
      "[CV] max_depth=9, min_samples_leaf=5 .................................\n",
      "[CV] ..... max_depth=9, min_samples_leaf=5, score=0.776, total=   1.1s\n",
      "[CV] max_depth=9, min_samples_leaf=5 .................................\n",
      "[CV] ..... max_depth=9, min_samples_leaf=5, score=0.744, total=   1.1s\n",
      "[CV] max_depth=9, min_samples_leaf=5 .................................\n",
      "[CV] ..... max_depth=9, min_samples_leaf=5, score=0.744, total=   1.3s\n",
      "[CV] max_depth=9, min_samples_leaf=5 .................................\n",
      "[CV] ..... max_depth=9, min_samples_leaf=5, score=0.745, total=   1.9s\n",
      "[CV] max_depth=9, min_samples_leaf=5 .................................\n",
      "[CV] ..... max_depth=9, min_samples_leaf=5, score=0.749, total=   1.4s\n",
      "[CV] max_depth=9, min_samples_leaf=5 .................................\n",
      "[CV] ..... max_depth=9, min_samples_leaf=5, score=0.756, total=   1.3s\n",
      "[CV] max_depth=9, min_samples_leaf=5 .................................\n",
      "[CV] ..... max_depth=9, min_samples_leaf=5, score=0.776, total=   2.0s\n",
      "[CV] max_depth=9, min_samples_leaf=5 .................................\n",
      "[CV] ..... max_depth=9, min_samples_leaf=5, score=0.746, total=   1.3s\n",
      "[CV] max_depth=9, min_samples_leaf=10 ................................\n",
      "[CV] .... max_depth=9, min_samples_leaf=10, score=0.748, total=   1.2s\n",
      "[CV] max_depth=9, min_samples_leaf=10 ................................\n",
      "[CV] .... max_depth=9, min_samples_leaf=10, score=0.758, total=   1.2s\n",
      "[CV] max_depth=9, min_samples_leaf=10 ................................\n",
      "[CV] .... max_depth=9, min_samples_leaf=10, score=0.778, total=   1.4s\n",
      "[CV] max_depth=9, min_samples_leaf=10 ................................\n",
      "[CV] .... max_depth=9, min_samples_leaf=10, score=0.751, total=   1.1s\n",
      "[CV] max_depth=9, min_samples_leaf=10 ................................\n",
      "[CV] .... max_depth=9, min_samples_leaf=10, score=0.743, total=   1.0s\n",
      "[CV] max_depth=9, min_samples_leaf=10 ................................\n",
      "[CV] .... max_depth=9, min_samples_leaf=10, score=0.746, total=   1.1s\n",
      "[CV] max_depth=9, min_samples_leaf=10 ................................\n",
      "[CV] .... max_depth=9, min_samples_leaf=10, score=0.755, total=   1.3s\n",
      "[CV] max_depth=9, min_samples_leaf=10 ................................\n",
      "[CV] .... max_depth=9, min_samples_leaf=10, score=0.750, total=   1.1s\n",
      "[CV] max_depth=9, min_samples_leaf=10 ................................\n",
      "[CV] .... max_depth=9, min_samples_leaf=10, score=0.777, total=   1.0s\n",
      "[CV] max_depth=9, min_samples_leaf=10 ................................\n",
      "[CV] .... max_depth=9, min_samples_leaf=10, score=0.745, total=   1.1s\n",
      "[CV] max_depth=9, min_samples_leaf=20 ................................\n",
      "[CV] .... max_depth=9, min_samples_leaf=20, score=0.757, total=   1.3s\n",
      "[CV] max_depth=9, min_samples_leaf=20 ................................\n",
      "[CV] .... max_depth=9, min_samples_leaf=20, score=0.757, total=   1.2s\n",
      "[CV] max_depth=9, min_samples_leaf=20 ................................\n"
     ]
    },
    {
     "name": "stdout",
     "output_type": "stream",
     "text": [
      "[CV] .... max_depth=9, min_samples_leaf=20, score=0.783, total=   1.1s\n",
      "[CV] max_depth=9, min_samples_leaf=20 ................................\n",
      "[CV] .... max_depth=9, min_samples_leaf=20, score=0.748, total=   1.0s\n",
      "[CV] max_depth=9, min_samples_leaf=20 ................................\n",
      "[CV] .... max_depth=9, min_samples_leaf=20, score=0.746, total=   1.0s\n",
      "[CV] max_depth=9, min_samples_leaf=20 ................................\n",
      "[CV] .... max_depth=9, min_samples_leaf=20, score=0.751, total=   1.1s\n",
      "[CV] max_depth=9, min_samples_leaf=20 ................................\n",
      "[CV] .... max_depth=9, min_samples_leaf=20, score=0.751, total=   1.0s\n",
      "[CV] max_depth=9, min_samples_leaf=20 ................................\n",
      "[CV] .... max_depth=9, min_samples_leaf=20, score=0.748, total=   1.0s\n",
      "[CV] max_depth=9, min_samples_leaf=20 ................................\n",
      "[CV] .... max_depth=9, min_samples_leaf=20, score=0.775, total=   1.1s\n",
      "[CV] max_depth=9, min_samples_leaf=20 ................................\n",
      "[CV] .... max_depth=9, min_samples_leaf=20, score=0.749, total=   1.0s\n"
     ]
    },
    {
     "name": "stderr",
     "output_type": "stream",
     "text": [
      "[Parallel(n_jobs=1)]: Done 360 out of 360 | elapsed:  4.9min finished\n"
     ]
    },
    {
     "data": {
      "text/plain": [
       "GridSearchCV(cv=10, error_score='raise-deprecating',\n",
       "             estimator=DecisionTreeClassifier(class_weight=None,\n",
       "                                              criterion='gini', max_depth=None,\n",
       "                                              max_features=None,\n",
       "                                              max_leaf_nodes=None,\n",
       "                                              min_impurity_decrease=0.0,\n",
       "                                              min_impurity_split=None,\n",
       "                                              min_samples_leaf=1,\n",
       "                                              min_samples_split=2,\n",
       "                                              min_weight_fraction_leaf=0.0,\n",
       "                                              presort=False, random_state=None,\n",
       "                                              splitter='best'),\n",
       "             iid='warn', n_jobs=None,\n",
       "             param_grid={'max_depth': array([1, 2, 3, 4, 5, 6, 7, 8, 9]),\n",
       "                         'min_samples_leaf': [1, 5, 10, 20]},\n",
       "             pre_dispatch='2*n_jobs', refit=True, return_train_score=False,\n",
       "             scoring='f1', verbose=5)"
      ]
     },
     "execution_count": 168,
     "metadata": {},
     "output_type": "execute_result"
    }
   ],
   "source": [
    "algo = DecisionTreeClassifier()\n",
    "params = {'max_depth' : np.arange(5,10),\n",
    "         'min_samples_leaf' : [1,2,3,4,5],\n",
    "         'max_features ' : [1,2,3,4,5,6,7,8,9,10]}\n",
    "\n",
    "classifier =  GridSearchCV(estimator=algo, param_grid= params, scoring='f1', cv = 10,verbose=5,n_jobs=-1)\n",
    "classifier.fit(X_train, Y_train)"
   ]
  },
  {
   "cell_type": "code",
   "execution_count": 172,
   "metadata": {
    "scrolled": true
   },
   "outputs": [
    {
     "data": {
      "text/plain": [
       "{'max_depth': 7, 'min_samples_leaf': 1}"
      ]
     },
     "execution_count": 172,
     "metadata": {},
     "output_type": "execute_result"
    }
   ],
   "source": [
    "classifier.best_params_"
   ]
  },
  {
   "cell_type": "code",
   "execution_count": 179,
   "metadata": {},
   "outputs": [
    {
     "data": {
      "text/plain": [
       "0.9855400941738702"
      ]
     },
     "execution_count": 179,
     "metadata": {},
     "output_type": "execute_result"
    }
   ],
   "source": [
    "classifier.best_estimator_.score(X_test, Y_test)"
   ]
  },
  {
   "cell_type": "code",
   "execution_count": 180,
   "metadata": {},
   "outputs": [
    {
     "data": {
      "text/plain": [
       "0.986348302761965"
      ]
     },
     "execution_count": 180,
     "metadata": {},
     "output_type": "execute_result"
    }
   ],
   "source": [
    "classifier.best_estimator_.score(X_train, Y_train)"
   ]
  },
  {
   "cell_type": "code",
   "execution_count": 181,
   "metadata": {
    "scrolled": true
   },
   "outputs": [
    {
     "name": "stdout",
     "output_type": "stream",
     "text": [
      "Predictions on training set...\n",
      "...Done.\n",
      "[0 0 0 ... 0 0 0]\n",
      "\n"
     ]
    }
   ],
   "source": [
    "# Predictions on training set\n",
    "print(\"Predictions on training set...\")\n",
    "Y_train_pred = classifier.predict(X_train)\n",
    "print(\"...Done.\")\n",
    "print(Y_train_pred)\n",
    "print()"
   ]
  },
  {
   "cell_type": "code",
   "execution_count": 183,
   "metadata": {},
   "outputs": [
    {
     "name": "stdout",
     "output_type": "stream",
     "text": [
      "f1 score de train: 0.7675044883303412\n",
      "f1 score de test: 0.7580596565230492\n"
     ]
    }
   ],
   "source": [
    "print('f1 score de train:', f1_score(Y_train_pred, Y_train))\n",
    "print('f1 score de test:', f1_score(Y_test_pred, Y_test))"
   ]
  },
  {
   "cell_type": "markdown",
   "metadata": {},
   "source": [
    "## TEST PIPELINE"
   ]
  },
  {
   "cell_type": "code",
   "execution_count": 149,
   "metadata": {},
   "outputs": [
    {
     "name": "stdout",
     "output_type": "stream",
     "text": [
      "Encoding categorical features and standardizing numerical features...\n",
      "...Done\n",
      "[[-1.27912164  0.63598611  0.          0.          0.          1.\n",
      "   0.          1.          1.          0.          0.        ]\n",
      " [ 0.05165043  0.03803388  0.          0.          0.          1.\n",
      "   0.          1.          0.          0.          1.        ]\n",
      " [-0.3112874  -0.26094223  0.          0.          0.          1.\n",
      "   1.          0.          0.          0.          1.        ]\n",
      " [-0.67422524 -0.26094223  0.          1.          0.          0.\n",
      "   0.          1.          1.          0.          0.        ]\n",
      " [ 1.62438106  0.63598611  0.          0.          0.          1.\n",
      "   1.          0.          1.          0.          0.        ]]\n"
     ]
    }
   ],
   "source": [
    "# Use X_test, and the same preprocessings as in training pipeline, \n",
    "# but call \"transform()\" instead of \"fit_transform\" methods (see example below)\n",
    "\n",
    "print(\"Encoding categorical features and standardizing numerical features...\")\n",
    "\n",
    "X_test = feature_encoder.transform(X_test)\n",
    "print(\"...Done\")\n",
    "print(X_test[0:5,:])"
   ]
  },
  {
   "cell_type": "code",
   "execution_count": 150,
   "metadata": {},
   "outputs": [
    {
     "name": "stdout",
     "output_type": "stream",
     "text": [
      "Predictions on test set...\n",
      "...Done.\n",
      "[0 0 0 ... 0 0 0]\n",
      "\n"
     ]
    }
   ],
   "source": [
    "# Predictions on test set\n",
    "print(\"Predictions on test set...\")\n",
    "Y_test_pred = classifier.predict(X_test)\n",
    "print(\"...Done.\")\n",
    "print(Y_test_pred)\n",
    "print()"
   ]
  },
  {
   "cell_type": "markdown",
   "metadata": {},
   "source": [
    "## Performance assessment"
   ]
  },
  {
   "cell_type": "code",
   "execution_count": 151,
   "metadata": {},
   "outputs": [
    {
     "name": "stdout",
     "output_type": "stream",
     "text": [
      "f1-score on train set :  0.7652606956915415\n",
      "f1-score on test set :  0.7580596565230492\n"
     ]
    }
   ],
   "source": [
    "# WARNING : Use the same score as the one that will be used by Kaggle !\n",
    "# Here, the f1-score will be used to assess the performances on the leaderboard\n",
    "print(\"f1-score on train set : \", f1_score(Y_train, Y_train_pred))\n",
    "print(\"f1-score on test set : \", f1_score(Y_test, Y_test_pred))"
   ]
  },
  {
   "cell_type": "code",
   "execution_count": 152,
   "metadata": {
    "scrolled": true
   },
   "outputs": [
    {
     "name": "stdout",
     "output_type": "stream",
     "text": [
      "Confusion matrix on train set : \n",
      "[[219482    852]\n",
      " [  2259   5071]]\n",
      "\n",
      "Confusion matrix on test set : \n",
      "[[54855   211]\n",
      " [  592  1258]]\n",
      "\n"
     ]
    }
   ],
   "source": [
    "# You can also check more performance metrics to better understand what your model is doing\n",
    "print(\"Confusion matrix on train set : \")\n",
    "print(confusion_matrix(Y_train, Y_train_pred))\n",
    "print()\n",
    "print(\"Confusion matrix on test set : \")\n",
    "print(confusion_matrix(Y_test, Y_test_pred))\n",
    "print()"
   ]
  },
  {
   "cell_type": "markdown",
   "metadata": {},
   "source": [
    "## Train best classifier on all data and use it to make predictions on X_without_labels"
   ]
  },
  {
   "cell_type": "code",
   "execution_count": 157,
   "metadata": {},
   "outputs": [
    {
     "name": "stderr",
     "output_type": "stream",
     "text": [
      "C:\\Users\\alexi\\Anaconda3\\lib\\site-packages\\sklearn\\linear_model\\logistic.py:432: FutureWarning: Default solver will be changed to 'lbfgs' in 0.22. Specify a solver to silence this warning.\n",
      "  FutureWarning)\n"
     ]
    },
    {
     "data": {
      "text/plain": [
       "LogisticRegression(C=1.0, class_weight=None, dual=False, fit_intercept=True,\n",
       "                   intercept_scaling=1, l1_ratio=None, max_iter=100,\n",
       "                   multi_class='warn', n_jobs=None, penalty='l2',\n",
       "                   random_state=None, solver='warn', tol=0.0001, verbose=0,\n",
       "                   warm_start=False)"
      ]
     },
     "execution_count": 157,
     "metadata": {},
     "output_type": "execute_result"
    }
   ],
   "source": [
    "# Concatenate our train and test set to train your best classifier on all data with labels\n",
    "X = np.append(X_train,X_test,axis=0)\n",
    "Y = np.append(Y_train,Y_test)\n",
    "\n",
    "classifier.fit(X,Y)"
   ]
  },
  {
   "cell_type": "code",
   "execution_count": 158,
   "metadata": {},
   "outputs": [
    {
     "name": "stdout",
     "output_type": "stream",
     "text": [
      "Prediction set (without labels) : (31620, 5)\n",
      "Convert pandas DataFrames to numpy arrays...\n",
      "...Done\n",
      "[['UK' 28 0 'Seo' 16]\n",
      " ['UK' 22 1 'Direct' 5]\n",
      " ['China' 32 1 'Seo' 1]\n",
      " ['US' 32 1 'Ads' 6]\n",
      " ['China' 25 0 'Seo' 3]]\n"
     ]
    }
   ],
   "source": [
    "# Read data without labels\n",
    "data_without_labels = pd.read_csv('C:/Users/alexi/Downloads/conversion_data_test.csv')\n",
    "print('Prediction set (without labels) :', data_without_labels.shape)\n",
    "\n",
    "# Warning : check consistency of features_list (must be the same than the features \n",
    "# used by your best classifier)\n",
    "features_list = ['country','age','new_user','source','total_pages_visited']\n",
    "X_without_labels = data_without_labels.loc[:, features_list]\n",
    "\n",
    "# Convert pandas DataFrames to numpy arrays before using scikit-learn\n",
    "print(\"Convert pandas DataFrames to numpy arrays...\")\n",
    "X_without_labels = X_without_labels.values\n",
    "print(\"...Done\")\n",
    "\n",
    "print(X_without_labels[0:5,:])"
   ]
  },
  {
   "cell_type": "code",
   "execution_count": 159,
   "metadata": {},
   "outputs": [
    {
     "name": "stdout",
     "output_type": "stream",
     "text": [
      "Encoding categorical features and standardizing numerical features...\n",
      "...Done\n",
      "[[-0.3112874   3.32677112  0.          0.          1.          0.\n",
      "   1.          0.          0.          0.          1.        ]\n",
      " [-1.03716308  0.03803388  0.          0.          1.          0.\n",
      "   0.          1.          0.          1.          0.        ]\n",
      " [ 0.17262971 -1.15787057  1.          0.          0.          0.\n",
      "   0.          1.          0.          0.          1.        ]\n",
      " [ 0.17262971  0.33701     0.          0.          0.          1.\n",
      "   0.          1.          1.          0.          0.        ]\n",
      " [-0.67422524 -0.55991834  1.          0.          0.          0.\n",
      "   1.          0.          0.          0.          1.        ]]\n"
     ]
    }
   ],
   "source": [
    "# WARNING : PUT HERE THE SAME PREPROCESSING AS FOR YOUR TEST SET\n",
    "# CHECK YOU ARE USING X_without_labels\n",
    "print(\"Encoding categorical features and standardizing numerical features...\")\n",
    "\n",
    "X_without_labels = feature_encoder.transform(X_without_labels)\n",
    "print(\"...Done\")\n",
    "print(X_without_labels[0:5,:])"
   ]
  },
  {
   "cell_type": "code",
   "execution_count": 160,
   "metadata": {},
   "outputs": [],
   "source": [
    "# Make predictions and dump to file\n",
    "# WARNING : MAKE SURE THE FILE IS A CSV WITH ONE COLUMN NAMED 'converted' AND NO INDEX !\n",
    "# WARNING : FILE NAME MUST HAVE FORMAT 'conversion_data_test_predictions_[name].csv'\n",
    "# where [name] is the name of your team/model separated by a '-'\n",
    "# For example : [name] = AURELIE-baseline\n",
    "data = {\n",
    "    'converted': classifier.predict(X_without_labels)\n",
    "}\n",
    "\n",
    "Y_predictions = pd.DataFrame(columns=['converted'],data=data)\n",
    "Y_predictions.to_csv('C:/Users/alexi/Downloads/conversion_data_test_LesPingouinsv{}.csv'.format(iteration), index=False)\n",
    "iteration +=1"
   ]
  },
  {
   "cell_type": "code",
   "execution_count": 171,
   "metadata": {},
   "outputs": [
    {
     "data": {
      "text/plain": [
       "1"
      ]
     },
     "execution_count": 171,
     "metadata": {},
     "output_type": "execute_result"
    }
   ],
   "source": [
    "iteration"
   ]
  }
 ],
 "metadata": {
  "kernelspec": {
   "display_name": "Python 3",
   "language": "python",
   "name": "python3"
  },
  "language_info": {
   "codemirror_mode": {
    "name": "ipython",
    "version": 3
   },
   "file_extension": ".py",
   "mimetype": "text/x-python",
   "name": "python",
   "nbconvert_exporter": "python",
   "pygments_lexer": "ipython3",
   "version": "3.7.3"
  }
 },
 "nbformat": 4,
 "nbformat_minor": 2
}
