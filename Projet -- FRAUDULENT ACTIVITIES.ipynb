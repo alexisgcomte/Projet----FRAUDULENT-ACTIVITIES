{
 "cells": [
  {
   "cell_type": "markdown",
   "metadata": {},
   "source": [
    "# Projet -- FRAUDULENT ACTIVITIES"
   ]
  },
  {
   "cell_type": "markdown",
   "metadata": {},
   "source": [
    "## I - Loading the data"
   ]
  },
  {
   "cell_type": "code",
   "execution_count": 2,
   "metadata": {},
   "outputs": [],
   "source": [
    "# Import of librairies\n",
    "import pandas as pd\n",
    "import numpy as np\n",
    "import matplotlib.pyplot as plt\n",
    "import seaborn as sns\n",
    "\n",
    "from sklearn.preprocessing import OneHotEncoder\n",
    "\n",
    "# Can be cleared\n",
    "from sklearn.model_selection import train_test_split\n",
    "from sklearn.impute import SimpleImputer\n",
    "from sklearn.preprocessing import StandardScaler\n",
    "from sklearn.compose import ColumnTransformer\n",
    "from sklearn.linear_model import LogisticRegressionCV, LogisticRegression\n",
    "from sklearn.metrics import f1_score, confusion_matrix\n",
    "from sklearn.model_selection import GridSearchCV\n",
    "from sklearn.tree import DecisionTreeClassifier\n",
    "from sklearn.model_selection import cross_val_score"
   ]
  },
  {
   "cell_type": "code",
   "execution_count": 45,
   "metadata": {},
   "outputs": [],
   "source": [
    "# Import of dataset of website transaction\n",
    "df_fraud = pd.read_csv('https://raw.githubusercontent.com/JedhaBootcamp/FULL_STACK_12_WEEK_PROGRAM/master/S0.4%20--%20R%C3%A9duction%20de%20Dimensions%20%26%20Boosting/Projet%20--%20FRAUDULENT%20ACTIVITIES/Datasets/Fraud_Data.csv?token=ANTSBPCLDAXBYCDOFYVOLI2543BXO')\n",
    "\n",
    "# Import of dataset of IP adresses\n",
    "df_ip = pd.read_csv('https://raw.githubusercontent.com/JedhaBootcamp/FULL_STACK_12_WEEK_PROGRAM/master/S0.4%20--%20R%C3%A9duction%20de%20Dimensions%20%26%20Boosting/Projet%20--%20FRAUDULENT%20ACTIVITIES/Datasets/IpAddress_to_Country.csv?token=ANTSBPBS57FW6ZRHFUSH5OS543BX2')"
   ]
  },
  {
   "cell_type": "markdown",
   "metadata": {},
   "source": [
    "## II - Data structure of the dataframe"
   ]
  },
  {
   "cell_type": "markdown",
   "metadata": {},
   "source": [
    "### A - Exploration of IP adress dataframe"
   ]
  },
  {
   "cell_type": "code",
   "execution_count": 4,
   "metadata": {},
   "outputs": [
    {
     "name": "stdout",
     "output_type": "stream",
     "text": [
      "Shape:\n",
      "(138846, 3)\n",
      "\n",
      "Variable description:\n",
      "<class 'pandas.core.frame.DataFrame'>\n",
      "RangeIndex: 138846 entries, 0 to 138845\n",
      "Data columns (total 3 columns):\n",
      "lower_bound_ip_address    138846 non-null float64\n",
      "upper_bound_ip_address    138846 non-null int64\n",
      "country                   138846 non-null object\n",
      "dtypes: float64(1), int64(1), object(1)\n",
      "memory usage: 3.2+ MB\n",
      "None\n",
      "\n",
      "Head:\n",
      "   lower_bound_ip_address  upper_bound_ip_address    country\n",
      "0              16777216.0                16777471  Australia\n",
      "1              16777472.0                16777727      China\n",
      "2              16777728.0                16778239      China\n",
      "3              16778240.0                16779263  Australia\n",
      "4              16779264.0                16781311      China\n",
      "\n",
      "Description:\n",
      "        lower_bound_ip_address  upper_bound_ip_address        country\n",
      "count             1.388460e+05            1.388460e+05         138846\n",
      "unique                     NaN                     NaN            235\n",
      "top                        NaN                     NaN  United States\n",
      "freq                       NaN                     NaN          46868\n",
      "mean              2.724532e+09            2.724557e+09            NaN\n",
      "std               8.975215e+08            8.974979e+08            NaN\n",
      "min               1.677722e+07            1.677747e+07            NaN\n",
      "25%               1.919930e+09            1.920008e+09            NaN\n",
      "50%               3.230887e+09            3.230888e+09            NaN\n",
      "75%               3.350465e+09            3.350466e+09            NaN\n",
      "max               3.758096e+09            3.758096e+09            NaN\n",
      "Missing values:\n",
      "\n",
      "lower_bound_ip_address    0\n",
      "upper_bound_ip_address    0\n",
      "country                   0\n",
      "dtype: int64\n",
      "\n",
      "Count of different values:\n",
      "lower_bound_ip_address : 138846\n",
      "upper_bound_ip_address : 138846\n",
      "country : 235\n"
     ]
    }
   ],
   "source": [
    "# First exploration\n",
    "print('Shape:')\n",
    "print(df_ip.shape)\n",
    "print()\n",
    "print('Variable description:')\n",
    "print(df_ip.info())\n",
    "print()\n",
    "print('Head:')\n",
    "print(df_ip.head())\n",
    "print()\n",
    "print('Description:')\n",
    "print(df_ip.describe(include='all'))\n",
    "print('Missing values:')\n",
    "print()\n",
    "print(df_ip.isna().sum())\n",
    "print()\n",
    "print('Count of different values:')\n",
    "for i in range(len(df_ip.columns)):\n",
    "    print(df_ip.columns[i],':',len(df_ip[df_ip.columns[i]].unique()))"
   ]
  },
  {
   "cell_type": "markdown",
   "metadata": {},
   "source": [
    "#### Analysis :\n",
    "3 variables:\n",
    "- two for description of IP adress\n",
    "- one for the country\n",
    "No missing value"
   ]
  },
  {
   "cell_type": "code",
   "execution_count": 5,
   "metadata": {},
   "outputs": [
    {
     "name": "stdout",
     "output_type": "stream",
     "text": [
      "United States                            31.0\n",
      "Canada                                    4.6\n",
      "Russian Federation                        4.5\n",
      "Australia                                 4.2\n",
      "Germany                                   4.0\n",
      "United Kingdom                            3.6\n",
      "Brazil                                    3.2\n",
      "China                                     2.5\n",
      "Poland                                    2.0\n",
      "Japan                                     2.0\n",
      "Ukraine                                   1.9\n",
      "France                                    1.9\n",
      "Netherlands                               1.7\n",
      "Switzerland                               1.2\n",
      "Italy                                     1.1\n",
      "India                                     1.0\n",
      "Sweden                                    0.9\n",
      "New Zealand                               0.9\n",
      "Romania                                   0.8\n",
      "Austria                                   0.8\n",
      "Spain                                     0.7\n",
      "Indonesia                                 0.7\n",
      "South Africa                              0.7\n",
      "Mexico                                    0.7\n",
      "Hong Kong                                 0.7\n",
      "Korea Republic of                         0.6\n",
      "Argentina                                 0.6\n",
      "Norway                                    0.6\n",
      "Czech Republic                            0.6\n",
      "Denmark                                   0.6\n",
      "                                         ... \n",
      "French Guiana                             0.0\n",
      "Djibouti                                  0.0\n",
      "Chad                                      0.0\n",
      "Aruba                                     0.0\n",
      "Ethiopia                                  0.0\n",
      "Palau                                     0.0\n",
      "Turkmenistan                              0.0\n",
      "Norfolk Island                            0.0\n",
      "Guinea-bissau                             0.0\n",
      "Martinique                                0.0\n",
      "Kiribati                                  0.0\n",
      "British Indian Ocean Territory            0.0\n",
      "Wallis and Futuna Islands                 0.0\n",
      "Montserrat                                0.0\n",
      "Niue                                      0.0\n",
      "Nauru                                     0.0\n",
      "Micronesia Federated States of            0.0\n",
      "Cook Islands                              0.0\n",
      "Comoros                                   0.0\n",
      "Mayotte                                   0.0\n",
      "Saint Lucia                               0.0\n",
      "Sao Tome and Principe                     0.0\n",
      "American Samoa                            0.0\n",
      "Tuvalu                                    0.0\n",
      "St. Pierre and Miquelon                   0.0\n",
      "Marshall Islands                          0.0\n",
      "Timor-leste                               0.0\n",
      "Korea Democratic People's Republic of     0.0\n",
      "Tokelau                                   0.0\n",
      "Eritrea                                   0.0\n",
      "Name: country, Length: 235, dtype: float64\n"
     ]
    }
   ],
   "source": [
    "# Analysis of country repartition\n",
    "print(round(df_ip['country'].value_counts()/df_fraud.shape[0]*100,1))"
   ]
  },
  {
   "cell_type": "code",
   "execution_count": 6,
   "metadata": {},
   "outputs": [
    {
     "name": "stdout",
     "output_type": "stream",
     "text": [
      "top 5: 44.3 %\n",
      "top 10: 59.5 %\n",
      "top 15: 68.2 %\n",
      "top 20: 73.0 %\n"
     ]
    }
   ],
   "source": [
    "# Analysis of country top\n",
    "print('top 5:',round(df_ip['country'].value_counts()[0:4].sum()/df_fraud.shape[0]*100,1),'%')\n",
    "print('top 10:',round(df_ip['country'].value_counts()[0:9].sum()/df_fraud.shape[0]*100,1),'%')\n",
    "print('top 15:',round(df_ip['country'].value_counts()[0:14].sum()/df_fraud.shape[0]*100,1),'%')\n",
    "print('top 20:',round(df_ip['country'].value_counts()[0:19].sum()/df_fraud.shape[0]*100,1),'%')"
   ]
  },
  {
   "cell_type": "markdown",
   "metadata": {},
   "source": [
    "There is strong top: top 5 is 44% of connexions, top 15 is 68%. US alone is 31%."
   ]
  },
  {
   "cell_type": "markdown",
   "metadata": {},
   "source": [
    "### B - Exploration of fraud  dataframe"
   ]
  },
  {
   "cell_type": "code",
   "execution_count": 7,
   "metadata": {
    "scrolled": true
   },
   "outputs": [
    {
     "name": "stdout",
     "output_type": "stream",
     "text": [
      "Shape:\n",
      "(151112, 11)\n",
      "\n",
      "Variable description:\n",
      "<class 'pandas.core.frame.DataFrame'>\n",
      "RangeIndex: 151112 entries, 0 to 151111\n",
      "Data columns (total 11 columns):\n",
      "user_id           151112 non-null int64\n",
      "signup_time       151112 non-null object\n",
      "purchase_time     151112 non-null object\n",
      "purchase_value    151112 non-null int64\n",
      "device_id         151112 non-null object\n",
      "source            151112 non-null object\n",
      "browser           151112 non-null object\n",
      "sex               151112 non-null object\n",
      "age               151112 non-null int64\n",
      "ip_address        151112 non-null float64\n",
      "class             151112 non-null int64\n",
      "dtypes: float64(1), int64(4), object(6)\n",
      "memory usage: 12.7+ MB\n",
      "None\n",
      "\n",
      "Head:\n",
      "   user_id          signup_time        purchase_time  purchase_value  \\\n",
      "0    22058  2015-02-24 22:55:49  2015-04-18 02:47:11              34   \n",
      "1   333320  2015-06-07 20:39:50  2015-06-08 01:38:54              16   \n",
      "2     1359  2015-01-01 18:52:44  2015-01-01 18:52:45              15   \n",
      "3   150084  2015-04-28 21:13:25  2015-05-04 13:54:50              44   \n",
      "4   221365  2015-07-21 07:09:52  2015-09-09 18:40:53              39   \n",
      "\n",
      "       device_id source browser sex  age    ip_address  class  \n",
      "0  QVPSPJUOCKZAR    SEO  Chrome   M   39  7.327584e+08      0  \n",
      "1  EOGFQPIZPYXFZ    Ads  Chrome   F   53  3.503114e+08      0  \n",
      "2  YSSKYOSJHPPLJ    SEO   Opera   M   53  2.621474e+09      1  \n",
      "3  ATGTXKYKUDUQN    SEO  Safari   M   41  3.840542e+09      0  \n",
      "4  NAUITBZFJKHWW    Ads  Safari   M   45  4.155831e+08      0  \n",
      "\n",
      "Description:\n",
      "              user_id          signup_time        purchase_time  \\\n",
      "count   151112.000000               151112               151112   \n",
      "unique            NaN               151112               150679   \n",
      "top               NaN  2015-03-30 05:16:05  2015-09-10 09:04:53   \n",
      "freq              NaN                    1                    3   \n",
      "mean    200171.040970                  NaN                  NaN   \n",
      "std     115369.285024                  NaN                  NaN   \n",
      "min          2.000000                  NaN                  NaN   \n",
      "25%     100642.500000                  NaN                  NaN   \n",
      "50%     199958.000000                  NaN                  NaN   \n",
      "75%     300054.000000                  NaN                  NaN   \n",
      "max     400000.000000                  NaN                  NaN   \n",
      "\n",
      "        purchase_value      device_id  source browser     sex            age  \\\n",
      "count    151112.000000         151112  151112  151112  151112  151112.000000   \n",
      "unique             NaN         137956       3       5       2            NaN   \n",
      "top                NaN  ITUMJCKWEYNDD     SEO  Chrome       M            NaN   \n",
      "freq               NaN             20   60615   61432   88293            NaN   \n",
      "mean         36.935372            NaN     NaN     NaN     NaN      33.140704   \n",
      "std          18.322762            NaN     NaN     NaN     NaN       8.617733   \n",
      "min           9.000000            NaN     NaN     NaN     NaN      18.000000   \n",
      "25%          22.000000            NaN     NaN     NaN     NaN      27.000000   \n",
      "50%          35.000000            NaN     NaN     NaN     NaN      33.000000   \n",
      "75%          49.000000            NaN     NaN     NaN     NaN      39.000000   \n",
      "max         154.000000            NaN     NaN     NaN     NaN      76.000000   \n",
      "\n",
      "          ip_address          class  \n",
      "count   1.511120e+05  151112.000000  \n",
      "unique           NaN            NaN  \n",
      "top              NaN            NaN  \n",
      "freq             NaN            NaN  \n",
      "mean    2.152145e+09       0.093646  \n",
      "std     1.248497e+09       0.291336  \n",
      "min     5.209350e+04       0.000000  \n",
      "25%     1.085934e+09       0.000000  \n",
      "50%     2.154770e+09       0.000000  \n",
      "75%     3.243258e+09       0.000000  \n",
      "max     4.294850e+09       1.000000  \n",
      "Missing values:\n",
      "\n",
      "user_id           0\n",
      "signup_time       0\n",
      "purchase_time     0\n",
      "purchase_value    0\n",
      "device_id         0\n",
      "source            0\n",
      "browser           0\n",
      "sex               0\n",
      "age               0\n",
      "ip_address        0\n",
      "class             0\n",
      "dtype: int64\n",
      "\n",
      "Count of different values:\n",
      "user_id : 151112\n",
      "signup_time : 151112\n",
      "purchase_time : 150679\n",
      "purchase_value : 122\n",
      "device_id : 137956\n",
      "source : 3\n",
      "browser : 5\n",
      "sex : 2\n",
      "age : 58\n",
      "ip_address : 143512\n",
      "class : 2\n"
     ]
    }
   ],
   "source": [
    "# First exploration\n",
    "print('Shape:')\n",
    "print(df_fraud.shape)\n",
    "print()\n",
    "print('Variable description:')\n",
    "print(df_fraud.info())\n",
    "print()\n",
    "print('Head:')\n",
    "print(df_fraud.head())\n",
    "print()\n",
    "print('Description:')\n",
    "print(df_fraud.describe(include='all'))\n",
    "print('Missing values:')\n",
    "print()\n",
    "print(df_fraud.isna().sum())\n",
    "print()\n",
    "print('Count of different values:')\n",
    "for i in range(len(df_fraud.columns)):\n",
    "    print(df_fraud.columns[i],':',len(df_fraud[df_fraud.columns[i]].unique()))"
   ]
  },
  {
   "cell_type": "code",
   "execution_count": 8,
   "metadata": {
    "scrolled": true
   },
   "outputs": [
    {
     "name": "stdout",
     "output_type": "stream",
     "text": [
      "Chrome     40.65329\n",
      "IE         24.30449\n",
      "Safari     16.32365\n",
      "FireFox    16.28593\n",
      "Opera       2.43263\n",
      "Name: browser, dtype: float64\n"
     ]
    }
   ],
   "source": [
    "# Analysis of browser repartition\n",
    "print(round(df_fraud['browser'].value_counts()/df_fraud.shape[0]*100,5))"
   ]
  },
  {
   "cell_type": "code",
   "execution_count": 9,
   "metadata": {
    "scrolled": true
   },
   "outputs": [
    {
     "name": "stdout",
     "output_type": "stream",
     "text": [
      "SEO       40.11263\n",
      "Ads       39.62690\n",
      "Direct    20.26047\n",
      "Name: source, dtype: float64\n"
     ]
    }
   ],
   "source": [
    "# Analysis of source repartition\n",
    "print(round(df_fraud['source'].value_counts()/df_fraud.shape[0]*100,5))"
   ]
  },
  {
   "cell_type": "code",
   "execution_count": 10,
   "metadata": {},
   "outputs": [
    {
     "name": "stdout",
     "output_type": "stream",
     "text": [
      "M    58.42885\n",
      "F    41.57115\n",
      "Name: sex, dtype: float64\n"
     ]
    }
   ],
   "source": [
    "# Analysis of sex repartition\n",
    "print(round(df_fraud['sex'].value_counts()/df_fraud.shape[0]*100,5))"
   ]
  },
  {
   "cell_type": "markdown",
   "metadata": {},
   "source": [
    "#### Analysis :\n",
    "11 variables:\n",
    "- Target is 'class'. Values are 1 or 0: 1 is fraud. It seems there is 9% of Fraud\n",
    "- Among the descriptive features are:\n",
    "    - Numeric features:\n",
    "        - users_id: 151 112 id, the size of dataset. Therefore, all are unique.\n",
    "        - purchase_value: 122 different values, it would be interesting to anlysis\n",
    "        - age : 33.1 is mean and 33.0 is median: population centered of 33 year old.\n",
    "        - ip_adress : 143 512 different adresses, some people are from the same area. Is there a concentration?\n",
    "    - Categorical features:\n",
    "        - signup_time: when the buyer registered first. TimeID. Same number as ID number: everybody signup once!\n",
    "        - purchase_time: when the buyer bought. TimeID. A bit lower than signup_time: not everybody buy something.\n",
    "        - device_id : 138k. Some people are buying from the same device.\n",
    "        - source: how did the buyer come to buy. Only 3: 'SEO' (search engine optimisation, 40%), 'Ads' (40%) and 'Direct' (20%).\n",
    "        - browser: which browser did the buyer use. Only 5 browsers: 'Chrome' (41%), 'IE' (24%), 'Safari' (16%), 'Firefox' (16%), 'Opera' (2%)\n",
    "        - sex : 58% are male.\n",
    "\n",
    "Some first remarks:\n",
    "    - users_id and ip_adress have to be treated like categorical features\n",
    "    - signup_time is a time code\n",
    "        \n",
    "No missing value"
   ]
  },
  {
   "cell_type": "markdown",
   "metadata": {},
   "source": [
    "\n",
    "## III - Incorporate of the country from the IP adress"
   ]
  },
  {
   "cell_type": "code",
   "execution_count": 29,
   "metadata": {},
   "outputs": [
    {
     "data": {
      "text/html": [
       "<div>\n",
       "<style scoped>\n",
       "    .dataframe tbody tr th:only-of-type {\n",
       "        vertical-align: middle;\n",
       "    }\n",
       "\n",
       "    .dataframe tbody tr th {\n",
       "        vertical-align: top;\n",
       "    }\n",
       "\n",
       "    .dataframe thead th {\n",
       "        text-align: right;\n",
       "    }\n",
       "</style>\n",
       "<table border=\"1\" class=\"dataframe\">\n",
       "  <thead>\n",
       "    <tr style=\"text-align: right;\">\n",
       "      <th></th>\n",
       "      <th>user_id</th>\n",
       "      <th>signup_time</th>\n",
       "      <th>purchase_time</th>\n",
       "      <th>purchase_value</th>\n",
       "      <th>device_id</th>\n",
       "      <th>source</th>\n",
       "      <th>browser</th>\n",
       "      <th>sex</th>\n",
       "      <th>age</th>\n",
       "      <th>ip_address</th>\n",
       "      <th>class</th>\n",
       "      <th>country</th>\n",
       "    </tr>\n",
       "  </thead>\n",
       "  <tbody>\n",
       "    <tr>\n",
       "      <th>0</th>\n",
       "      <td>22058</td>\n",
       "      <td>2015-02-24 22:55:49</td>\n",
       "      <td>2015-04-18 02:47:11</td>\n",
       "      <td>34</td>\n",
       "      <td>QVPSPJUOCKZAR</td>\n",
       "      <td>SEO</td>\n",
       "      <td>Chrome</td>\n",
       "      <td>M</td>\n",
       "      <td>39</td>\n",
       "      <td>7.327584e+08</td>\n",
       "      <td>0</td>\n",
       "      <td>Japan</td>\n",
       "    </tr>\n",
       "    <tr>\n",
       "      <th>1</th>\n",
       "      <td>333320</td>\n",
       "      <td>2015-06-07 20:39:50</td>\n",
       "      <td>2015-06-08 01:38:54</td>\n",
       "      <td>16</td>\n",
       "      <td>EOGFQPIZPYXFZ</td>\n",
       "      <td>Ads</td>\n",
       "      <td>Chrome</td>\n",
       "      <td>F</td>\n",
       "      <td>53</td>\n",
       "      <td>3.503114e+08</td>\n",
       "      <td>0</td>\n",
       "      <td>United States</td>\n",
       "    </tr>\n",
       "    <tr>\n",
       "      <th>2</th>\n",
       "      <td>1359</td>\n",
       "      <td>2015-01-01 18:52:44</td>\n",
       "      <td>2015-01-01 18:52:45</td>\n",
       "      <td>15</td>\n",
       "      <td>YSSKYOSJHPPLJ</td>\n",
       "      <td>SEO</td>\n",
       "      <td>Opera</td>\n",
       "      <td>M</td>\n",
       "      <td>53</td>\n",
       "      <td>2.621474e+09</td>\n",
       "      <td>1</td>\n",
       "      <td>United States</td>\n",
       "    </tr>\n",
       "    <tr>\n",
       "      <th>3</th>\n",
       "      <td>150084</td>\n",
       "      <td>2015-04-28 21:13:25</td>\n",
       "      <td>2015-05-04 13:54:50</td>\n",
       "      <td>44</td>\n",
       "      <td>ATGTXKYKUDUQN</td>\n",
       "      <td>SEO</td>\n",
       "      <td>Safari</td>\n",
       "      <td>M</td>\n",
       "      <td>41</td>\n",
       "      <td>3.840542e+09</td>\n",
       "      <td>0</td>\n",
       "      <td>Unknown</td>\n",
       "    </tr>\n",
       "    <tr>\n",
       "      <th>4</th>\n",
       "      <td>221365</td>\n",
       "      <td>2015-07-21 07:09:52</td>\n",
       "      <td>2015-09-09 18:40:53</td>\n",
       "      <td>39</td>\n",
       "      <td>NAUITBZFJKHWW</td>\n",
       "      <td>Ads</td>\n",
       "      <td>Safari</td>\n",
       "      <td>M</td>\n",
       "      <td>45</td>\n",
       "      <td>4.155831e+08</td>\n",
       "      <td>0</td>\n",
       "      <td>United States</td>\n",
       "    </tr>\n",
       "  </tbody>\n",
       "</table>\n",
       "</div>"
      ],
      "text/plain": [
       "   user_id          signup_time        purchase_time  purchase_value  \\\n",
       "0    22058  2015-02-24 22:55:49  2015-04-18 02:47:11              34   \n",
       "1   333320  2015-06-07 20:39:50  2015-06-08 01:38:54              16   \n",
       "2     1359  2015-01-01 18:52:44  2015-01-01 18:52:45              15   \n",
       "3   150084  2015-04-28 21:13:25  2015-05-04 13:54:50              44   \n",
       "4   221365  2015-07-21 07:09:52  2015-09-09 18:40:53              39   \n",
       "\n",
       "       device_id source browser sex  age    ip_address  class        country  \n",
       "0  QVPSPJUOCKZAR    SEO  Chrome   M   39  7.327584e+08      0          Japan  \n",
       "1  EOGFQPIZPYXFZ    Ads  Chrome   F   53  3.503114e+08      0  United States  \n",
       "2  YSSKYOSJHPPLJ    SEO   Opera   M   53  2.621474e+09      1  United States  \n",
       "3  ATGTXKYKUDUQN    SEO  Safari   M   41  3.840542e+09      0        Unknown  \n",
       "4  NAUITBZFJKHWW    Ads  Safari   M   45  4.155831e+08      0  United States  "
      ]
     },
     "execution_count": 29,
     "metadata": {},
     "output_type": "execute_result"
    }
   ],
   "source": [
    "# A fonction to have the country in the first dataset, courtesy from Marine Gubler\n",
    "\n",
    "def find_country(x):\n",
    "  countries = df_ip[\n",
    "      (df_ip.lower_bound_ip_address < x) & \n",
    "      (df_ip.upper_bound_ip_address > x)\n",
    "  ].country\n",
    "  if len(countries) == 0:\n",
    "    return 'Unknown'\n",
    "  return countries.values[0]\n",
    "\n",
    "df_fraud['country'] = df_fraud.ip_address.apply(lambda x: find_country(x))\n",
    "df_fraud.head()"
   ]
  },
  {
   "cell_type": "code",
   "execution_count": 30,
   "metadata": {},
   "outputs": [
    {
     "name": "stdout",
     "output_type": "stream",
     "text": [
      "United States                      38.41455\n",
      "Unknown                            14.53624\n",
      "China                               7.96628\n",
      "Japan                               4.83482\n",
      "United Kingdom                      2.97131\n",
      "Korea Republic of                   2.75425\n",
      "Germany                             2.41278\n",
      "France                              2.09183\n",
      "Canada                              1.96874\n",
      "Brazil                              1.95947\n",
      "Italy                               1.28646\n",
      "Australia                           1.22029\n",
      "Netherlands                         1.11176\n",
      "Russian Federation                  1.06941\n",
      "India                               0.86691\n",
      "Taiwan; Republic of China (ROC)     0.81860\n",
      "Mexico                              0.74183\n",
      "Sweden                              0.72132\n",
      "Spain                               0.67963\n",
      "South Africa                        0.55456\n",
      "Switzerland                         0.51948\n",
      "Poland                              0.48242\n",
      "Argentina                           0.43742\n",
      "Indonesia                           0.42948\n",
      "Norway                              0.40301\n",
      "Colombia                            0.39838\n",
      "Turkey                              0.37588\n",
      "Viet Nam                            0.36397\n",
      "Romania                             0.34742\n",
      "Denmark                             0.32426\n",
      "                                     ...   \n",
      "Botswana                            0.00199\n",
      "Virgin Islands (U.S.)               0.00199\n",
      "Burkina Faso                        0.00132\n",
      "Gibraltar                           0.00132\n",
      "Bermuda                             0.00132\n",
      "Liechtenstein                       0.00132\n",
      "Saint Kitts and Nevis               0.00132\n",
      "Maldives                            0.00132\n",
      "Benin                               0.00132\n",
      "Lesotho                             0.00132\n",
      "Fiji                                0.00132\n",
      "Bhutan                              0.00132\n",
      "San Marino                          0.00066\n",
      "Guadeloupe                          0.00066\n",
      "British Indian Ocean Territory      0.00066\n",
      "Dominica                            0.00066\n",
      "Cape Verde                          0.00066\n",
      "Madagascar                          0.00066\n",
      "Burundi                             0.00066\n",
      "Saint Martin                        0.00066\n",
      "Yemen                               0.00066\n",
      "Niger                               0.00066\n",
      "Gambia                              0.00066\n",
      "Bonaire; Sint Eustatius; Saba       0.00066\n",
      "Tajikistan                          0.00066\n",
      "South Sudan                         0.00066\n",
      "Myanmar                             0.00066\n",
      "Nauru                               0.00066\n",
      "Vanuatu                             0.00066\n",
      "Turkmenistan                        0.00066\n",
      "Name: country, Length: 182, dtype: float64\n"
     ]
    }
   ],
   "source": [
    "# Analysis of country\n",
    "print(round(df_fraud['country'].value_counts()/df_fraud.shape[0]*100,5))"
   ]
  },
  {
   "cell_type": "code",
   "execution_count": 35,
   "metadata": {},
   "outputs": [
    {
     "name": "stdout",
     "output_type": "stream",
     "text": [
      "top 5: 44.3 %\n",
      "top 10: 59.5 %\n",
      "top 15: 68.2 %\n",
      "top 20: 73.0 %\n"
     ]
    }
   ],
   "source": [
    "# Analysis of country top\n",
    "print('top 5:',round(df_ip['country'].value_counts()[0:4].sum()/df_fraud.shape[0]*100,1),'%')\n",
    "print('top 10:',round(df_ip['country'].value_counts()[0:9].sum()/df_fraud.shape[0]*100,1),'%')\n",
    "print('top 15:',round(df_ip['country'].value_counts()[0:14].sum()/df_fraud.shape[0]*100,1),'%')\n",
    "print('top 20:',round(df_ip['country'].value_counts()[0:19].sum()/df_fraud.shape[0]*100,1),'%')"
   ]
  },
  {
   "cell_type": "markdown",
   "metadata": {},
   "source": [
    "Analysis of the new columns:\n",
    "- top 5 sir 44%, top 20 73%\n",
    "- 15% of countries are missing"
   ]
  },
  {
   "cell_type": "code",
   "execution_count": 31,
   "metadata": {},
   "outputs": [],
   "source": [
    "# Simplification of the dataset name, as it remains the only one.\n",
    "df = df_fraud"
   ]
  },
  {
   "cell_type": "code",
   "execution_count": 69,
   "metadata": {},
   "outputs": [],
   "source": [
    "# Export du CSV\n",
    "\n",
    "df.to_csv('C:/Users/alexi/Documents/MonGitHub/Projet -- FRAUDULENT ACTIVITIES/Datasets/new_fraud_dataset.csv',index=False)"
   ]
  },
  {
   "cell_type": "markdown",
   "metadata": {},
   "source": [
    "## IV - Data structure of the dataframe"
   ]
  },
  {
   "cell_type": "markdown",
   "metadata": {},
   "source": [
    "### Taking the new dataset structure"
   ]
  },
  {
   "cell_type": "code",
   "execution_count": 44,
   "metadata": {},
   "outputs": [],
   "source": [
    "# It took quite an amount of time to make the country column, so for further analysis we will use this second state dataset\n",
    "\n",
    "df = pd.read_csv('https://raw.githubusercontent.com/alexisgcomte/Projet----FRAUDULENT-ACTIVITIES/master/Datasets/new_fraud_dataset.csv')"
   ]
  },
  {
   "cell_type": "markdown",
   "metadata": {},
   "source": [
    "### General Analysis"
   ]
  },
  {
   "cell_type": "code",
   "execution_count": 41,
   "metadata": {},
   "outputs": [
    {
     "ename": "TypeError",
     "evalue": "unsupported operand type(s) for /: 'str' and 'int'",
     "output_type": "error",
     "traceback": [
      "\u001b[1;31m---------------------------------------------------------------------------\u001b[0m",
      "\u001b[1;31mTypeError\u001b[0m                                 Traceback (most recent call last)",
      "\u001b[1;32m<ipython-input-41-83d479952f5f>\u001b[0m in \u001b[0;36m<module>\u001b[1;34m\u001b[0m\n\u001b[1;32m----> 1\u001b[1;33m \u001b[0m_\u001b[0m \u001b[1;33m=\u001b[0m \u001b[0msns\u001b[0m\u001b[1;33m.\u001b[0m\u001b[0mbarplot\u001b[0m\u001b[1;33m(\u001b[0m\u001b[0mx\u001b[0m\u001b[1;33m=\u001b[0m\u001b[1;34m'source'\u001b[0m\u001b[1;33m,\u001b[0m \u001b[0mdata\u001b[0m\u001b[1;33m=\u001b[0m\u001b[0mdf\u001b[0m\u001b[1;33m,\u001b[0m \u001b[0mhue\u001b[0m\u001b[1;33m=\u001b[0m\u001b[1;34m'source'\u001b[0m\u001b[1;33m)\u001b[0m\u001b[1;33m\u001b[0m\u001b[1;33m\u001b[0m\u001b[0m\n\u001b[0m",
      "\u001b[1;32m~\\Anaconda3\\lib\\site-packages\\seaborn\\categorical.py\u001b[0m in \u001b[0;36mbarplot\u001b[1;34m(x, y, hue, data, order, hue_order, estimator, ci, n_boot, units, orient, color, palette, saturation, errcolor, errwidth, capsize, dodge, ax, **kwargs)\u001b[0m\n\u001b[0;32m   3147\u001b[0m                           \u001b[0mestimator\u001b[0m\u001b[1;33m,\u001b[0m \u001b[0mci\u001b[0m\u001b[1;33m,\u001b[0m \u001b[0mn_boot\u001b[0m\u001b[1;33m,\u001b[0m \u001b[0munits\u001b[0m\u001b[1;33m,\u001b[0m\u001b[1;33m\u001b[0m\u001b[1;33m\u001b[0m\u001b[0m\n\u001b[0;32m   3148\u001b[0m                           \u001b[0morient\u001b[0m\u001b[1;33m,\u001b[0m \u001b[0mcolor\u001b[0m\u001b[1;33m,\u001b[0m \u001b[0mpalette\u001b[0m\u001b[1;33m,\u001b[0m \u001b[0msaturation\u001b[0m\u001b[1;33m,\u001b[0m\u001b[1;33m\u001b[0m\u001b[1;33m\u001b[0m\u001b[0m\n\u001b[1;32m-> 3149\u001b[1;33m                           errcolor, errwidth, capsize, dodge)\n\u001b[0m\u001b[0;32m   3150\u001b[0m \u001b[1;33m\u001b[0m\u001b[0m\n\u001b[0;32m   3151\u001b[0m     \u001b[1;32mif\u001b[0m \u001b[0max\u001b[0m \u001b[1;32mis\u001b[0m \u001b[1;32mNone\u001b[0m\u001b[1;33m:\u001b[0m\u001b[1;33m\u001b[0m\u001b[1;33m\u001b[0m\u001b[0m\n",
      "\u001b[1;32m~\\Anaconda3\\lib\\site-packages\\seaborn\\categorical.py\u001b[0m in \u001b[0;36m__init__\u001b[1;34m(self, x, y, hue, data, order, hue_order, estimator, ci, n_boot, units, orient, color, palette, saturation, errcolor, errwidth, capsize, dodge)\u001b[0m\n\u001b[0;32m   1607\u001b[0m                                  order, hue_order, units)\n\u001b[0;32m   1608\u001b[0m         \u001b[0mself\u001b[0m\u001b[1;33m.\u001b[0m\u001b[0mestablish_colors\u001b[0m\u001b[1;33m(\u001b[0m\u001b[0mcolor\u001b[0m\u001b[1;33m,\u001b[0m \u001b[0mpalette\u001b[0m\u001b[1;33m,\u001b[0m \u001b[0msaturation\u001b[0m\u001b[1;33m)\u001b[0m\u001b[1;33m\u001b[0m\u001b[1;33m\u001b[0m\u001b[0m\n\u001b[1;32m-> 1609\u001b[1;33m         \u001b[0mself\u001b[0m\u001b[1;33m.\u001b[0m\u001b[0mestimate_statistic\u001b[0m\u001b[1;33m(\u001b[0m\u001b[0mestimator\u001b[0m\u001b[1;33m,\u001b[0m \u001b[0mci\u001b[0m\u001b[1;33m,\u001b[0m \u001b[0mn_boot\u001b[0m\u001b[1;33m)\u001b[0m\u001b[1;33m\u001b[0m\u001b[1;33m\u001b[0m\u001b[0m\n\u001b[0m\u001b[0;32m   1610\u001b[0m \u001b[1;33m\u001b[0m\u001b[0m\n\u001b[0;32m   1611\u001b[0m         \u001b[0mself\u001b[0m\u001b[1;33m.\u001b[0m\u001b[0mdodge\u001b[0m \u001b[1;33m=\u001b[0m \u001b[0mdodge\u001b[0m\u001b[1;33m\u001b[0m\u001b[1;33m\u001b[0m\u001b[0m\n",
      "\u001b[1;32m~\\Anaconda3\\lib\\site-packages\\seaborn\\categorical.py\u001b[0m in \u001b[0;36mestimate_statistic\u001b[1;34m(self, estimator, ci, n_boot)\u001b[0m\n\u001b[0;32m   1491\u001b[0m                     \u001b[0mstatistic\u001b[0m\u001b[1;33m.\u001b[0m\u001b[0mappend\u001b[0m\u001b[1;33m(\u001b[0m\u001b[0mnp\u001b[0m\u001b[1;33m.\u001b[0m\u001b[0mnan\u001b[0m\u001b[1;33m)\u001b[0m\u001b[1;33m\u001b[0m\u001b[1;33m\u001b[0m\u001b[0m\n\u001b[0;32m   1492\u001b[0m                 \u001b[1;32melse\u001b[0m\u001b[1;33m:\u001b[0m\u001b[1;33m\u001b[0m\u001b[1;33m\u001b[0m\u001b[0m\n\u001b[1;32m-> 1493\u001b[1;33m                     \u001b[0mstatistic\u001b[0m\u001b[1;33m.\u001b[0m\u001b[0mappend\u001b[0m\u001b[1;33m(\u001b[0m\u001b[0mestimator\u001b[0m\u001b[1;33m(\u001b[0m\u001b[0mstat_data\u001b[0m\u001b[1;33m)\u001b[0m\u001b[1;33m)\u001b[0m\u001b[1;33m\u001b[0m\u001b[1;33m\u001b[0m\u001b[0m\n\u001b[0m\u001b[0;32m   1494\u001b[0m \u001b[1;33m\u001b[0m\u001b[0m\n\u001b[0;32m   1495\u001b[0m                 \u001b[1;31m# Get a confidence interval for this estimate\u001b[0m\u001b[1;33m\u001b[0m\u001b[1;33m\u001b[0m\u001b[1;33m\u001b[0m\u001b[0m\n",
      "\u001b[1;32m~\\Anaconda3\\lib\\site-packages\\numpy\\core\\fromnumeric.py\u001b[0m in \u001b[0;36mmean\u001b[1;34m(a, axis, dtype, out, keepdims)\u001b[0m\n\u001b[0;32m   3116\u001b[0m \u001b[1;33m\u001b[0m\u001b[0m\n\u001b[0;32m   3117\u001b[0m     return _methods._mean(a, axis=axis, dtype=dtype,\n\u001b[1;32m-> 3118\u001b[1;33m                           out=out, **kwargs)\n\u001b[0m\u001b[0;32m   3119\u001b[0m \u001b[1;33m\u001b[0m\u001b[0m\n\u001b[0;32m   3120\u001b[0m \u001b[1;33m\u001b[0m\u001b[0m\n",
      "\u001b[1;32m~\\Anaconda3\\lib\\site-packages\\numpy\\core\\_methods.py\u001b[0m in \u001b[0;36m_mean\u001b[1;34m(a, axis, dtype, out, keepdims)\u001b[0m\n\u001b[0;32m     85\u001b[0m             \u001b[0mret\u001b[0m \u001b[1;33m=\u001b[0m \u001b[0mret\u001b[0m\u001b[1;33m.\u001b[0m\u001b[0mdtype\u001b[0m\u001b[1;33m.\u001b[0m\u001b[0mtype\u001b[0m\u001b[1;33m(\u001b[0m\u001b[0mret\u001b[0m \u001b[1;33m/\u001b[0m \u001b[0mrcount\u001b[0m\u001b[1;33m)\u001b[0m\u001b[1;33m\u001b[0m\u001b[1;33m\u001b[0m\u001b[0m\n\u001b[0;32m     86\u001b[0m     \u001b[1;32melse\u001b[0m\u001b[1;33m:\u001b[0m\u001b[1;33m\u001b[0m\u001b[1;33m\u001b[0m\u001b[0m\n\u001b[1;32m---> 87\u001b[1;33m         \u001b[0mret\u001b[0m \u001b[1;33m=\u001b[0m \u001b[0mret\u001b[0m \u001b[1;33m/\u001b[0m \u001b[0mrcount\u001b[0m\u001b[1;33m\u001b[0m\u001b[1;33m\u001b[0m\u001b[0m\n\u001b[0m\u001b[0;32m     88\u001b[0m \u001b[1;33m\u001b[0m\u001b[0m\n\u001b[0;32m     89\u001b[0m     \u001b[1;32mreturn\u001b[0m \u001b[0mret\u001b[0m\u001b[1;33m\u001b[0m\u001b[1;33m\u001b[0m\u001b[0m\n",
      "\u001b[1;31mTypeError\u001b[0m: unsupported operand type(s) for /: 'str' and 'int'"
     ]
    }
   ],
   "source": [
    "\n",
    "_ = sns.barplot(x='source', data=df, hue='source')"
   ]
  },
  {
   "cell_type": "code",
   "execution_count": 46,
   "metadata": {},
   "outputs": [
    {
     "ename": "ValueError",
     "evalue": "Could not interpret input 'new_user'",
     "output_type": "error",
     "traceback": [
      "\u001b[1;31m---------------------------------------------------------------------------\u001b[0m",
      "\u001b[1;31mValueError\u001b[0m                                Traceback (most recent call last)",
      "\u001b[1;32m<ipython-input-46-4f0b949bf51c>\u001b[0m in \u001b[0;36m<module>\u001b[1;34m\u001b[0m\n\u001b[0;32m      1\u001b[0m \u001b[1;31m# Conversion by country\u001b[0m\u001b[1;33m\u001b[0m\u001b[1;33m\u001b[0m\u001b[1;33m\u001b[0m\u001b[0m\n\u001b[1;32m----> 2\u001b[1;33m \u001b[0m_\u001b[0m \u001b[1;33m=\u001b[0m \u001b[0msns\u001b[0m\u001b[1;33m.\u001b[0m\u001b[0mcatplot\u001b[0m\u001b[1;33m(\u001b[0m\u001b[0mx\u001b[0m\u001b[1;33m=\u001b[0m\u001b[1;34m'country'\u001b[0m\u001b[1;33m,\u001b[0m\u001b[0my\u001b[0m\u001b[1;33m=\u001b[0m\u001b[1;34m'new_user'\u001b[0m\u001b[1;33m,\u001b[0m\u001b[0mkind\u001b[0m\u001b[1;33m=\u001b[0m\u001b[1;34m\"bar\"\u001b[0m\u001b[1;33m,\u001b[0m \u001b[0mdata\u001b[0m\u001b[1;33m=\u001b[0m\u001b[0mdf\u001b[0m\u001b[1;33m)\u001b[0m\u001b[1;33m\u001b[0m\u001b[1;33m\u001b[0m\u001b[0m\n\u001b[0m\u001b[0;32m      3\u001b[0m \u001b[1;31m# The proportion of new user is quite the same for every country\u001b[0m\u001b[1;33m\u001b[0m\u001b[1;33m\u001b[0m\u001b[1;33m\u001b[0m\u001b[0m\n",
      "\u001b[1;32m~\\Anaconda3\\lib\\site-packages\\seaborn\\categorical.py\u001b[0m in \u001b[0;36mcatplot\u001b[1;34m(x, y, hue, data, row, col, col_wrap, estimator, ci, n_boot, units, order, hue_order, row_order, col_order, kind, height, aspect, orient, color, palette, legend, legend_out, sharex, sharey, margin_titles, facet_kws, **kwargs)\u001b[0m\n\u001b[0;32m   3714\u001b[0m     \u001b[1;31m# facets to ensure representation of all data in the final plot\u001b[0m\u001b[1;33m\u001b[0m\u001b[1;33m\u001b[0m\u001b[1;33m\u001b[0m\u001b[0m\n\u001b[0;32m   3715\u001b[0m     \u001b[0mp\u001b[0m \u001b[1;33m=\u001b[0m \u001b[0m_CategoricalPlotter\u001b[0m\u001b[1;33m(\u001b[0m\u001b[1;33m)\u001b[0m\u001b[1;33m\u001b[0m\u001b[1;33m\u001b[0m\u001b[0m\n\u001b[1;32m-> 3716\u001b[1;33m     \u001b[0mp\u001b[0m\u001b[1;33m.\u001b[0m\u001b[0mestablish_variables\u001b[0m\u001b[1;33m(\u001b[0m\u001b[0mx_\u001b[0m\u001b[1;33m,\u001b[0m \u001b[0my_\u001b[0m\u001b[1;33m,\u001b[0m \u001b[0mhue\u001b[0m\u001b[1;33m,\u001b[0m \u001b[0mdata\u001b[0m\u001b[1;33m,\u001b[0m \u001b[0morient\u001b[0m\u001b[1;33m,\u001b[0m \u001b[0morder\u001b[0m\u001b[1;33m,\u001b[0m \u001b[0mhue_order\u001b[0m\u001b[1;33m)\u001b[0m\u001b[1;33m\u001b[0m\u001b[1;33m\u001b[0m\u001b[0m\n\u001b[0m\u001b[0;32m   3717\u001b[0m     \u001b[0morder\u001b[0m \u001b[1;33m=\u001b[0m \u001b[0mp\u001b[0m\u001b[1;33m.\u001b[0m\u001b[0mgroup_names\u001b[0m\u001b[1;33m\u001b[0m\u001b[1;33m\u001b[0m\u001b[0m\n\u001b[0;32m   3718\u001b[0m     \u001b[0mhue_order\u001b[0m \u001b[1;33m=\u001b[0m \u001b[0mp\u001b[0m\u001b[1;33m.\u001b[0m\u001b[0mhue_names\u001b[0m\u001b[1;33m\u001b[0m\u001b[1;33m\u001b[0m\u001b[0m\n",
      "\u001b[1;32m~\\Anaconda3\\lib\\site-packages\\seaborn\\categorical.py\u001b[0m in \u001b[0;36mestablish_variables\u001b[1;34m(self, x, y, hue, data, orient, order, hue_order, units)\u001b[0m\n\u001b[0;32m    153\u001b[0m                 \u001b[1;32mif\u001b[0m \u001b[0misinstance\u001b[0m\u001b[1;33m(\u001b[0m\u001b[0minput\u001b[0m\u001b[1;33m,\u001b[0m \u001b[0mstring_types\u001b[0m\u001b[1;33m)\u001b[0m\u001b[1;33m:\u001b[0m\u001b[1;33m\u001b[0m\u001b[1;33m\u001b[0m\u001b[0m\n\u001b[0;32m    154\u001b[0m                     \u001b[0merr\u001b[0m \u001b[1;33m=\u001b[0m \u001b[1;34m\"Could not interpret input '{}'\"\u001b[0m\u001b[1;33m.\u001b[0m\u001b[0mformat\u001b[0m\u001b[1;33m(\u001b[0m\u001b[0minput\u001b[0m\u001b[1;33m)\u001b[0m\u001b[1;33m\u001b[0m\u001b[1;33m\u001b[0m\u001b[0m\n\u001b[1;32m--> 155\u001b[1;33m                     \u001b[1;32mraise\u001b[0m \u001b[0mValueError\u001b[0m\u001b[1;33m(\u001b[0m\u001b[0merr\u001b[0m\u001b[1;33m)\u001b[0m\u001b[1;33m\u001b[0m\u001b[1;33m\u001b[0m\u001b[0m\n\u001b[0m\u001b[0;32m    156\u001b[0m \u001b[1;33m\u001b[0m\u001b[0m\n\u001b[0;32m    157\u001b[0m             \u001b[1;31m# Figure out the plotting orientation\u001b[0m\u001b[1;33m\u001b[0m\u001b[1;33m\u001b[0m\u001b[1;33m\u001b[0m\u001b[0m\n",
      "\u001b[1;31mValueError\u001b[0m: Could not interpret input 'new_user'"
     ]
    }
   ],
   "source": [
    "# Conversion by country\n",
    "_ = sns.catplot(x='country',y='new_user',kind=\"bar\", data=df)\n",
    "# The proportion of new user is quite the same for every country"
   ]
  },
  {
   "cell_type": "markdown",
   "metadata": {},
   "source": [
    "## IV - First Modelling"
   ]
  },
  {
   "cell_type": "code",
   "execution_count": 47,
   "metadata": {},
   "outputs": [
    {
     "name": "stdout",
     "output_type": "stream",
     "text": [
      "                Unnamed: 0   user_id  purchase_value       age  ip_address  \\\n",
      "Unnamed: 0        1.000000 -0.002919        0.002794  0.005066    0.000297   \n",
      "user_id          -0.002919  1.000000        0.002617  0.000611   -0.003144   \n",
      "purchase_value    0.002794  0.002617        1.000000  0.002370   -0.000328   \n",
      "age               0.005066  0.000611        0.002370  1.000000    0.001140   \n",
      "ip_address        0.000297 -0.003144       -0.000328  0.001140    1.000000   \n",
      "class             0.000935  0.001945        0.001011  0.006624   -0.005208   \n",
      "\n",
      "                   class  \n",
      "Unnamed: 0      0.000935  \n",
      "user_id         0.001945  \n",
      "purchase_value  0.001011  \n",
      "age             0.006624  \n",
      "ip_address     -0.005208  \n",
      "class           1.000000  \n"
     ]
    },
    {
     "data": {
      "image/png": "[encoded data removed]",
      "text/plain": [
       "<Figure size 432x288 with 2 Axes>"
      ]
     },
     "metadata": {
      "needs_background": "light"
     },
     "output_type": "display_data"
    }
   ],
   "source": [
    "corr = df.corr()\n",
    "print(corr)\n",
    "_=sns.heatmap(corr)\n",
    "# correlation of page visited and conversion"
   ]
  },
  {
   "cell_type": "code",
   "execution_count": 51,
   "metadata": {},
   "outputs": [
    {
     "data": {
      "text/html": [
       "<div>\n",
       "<style scoped>\n",
       "    .dataframe tbody tr th:only-of-type {\n",
       "        vertical-align: middle;\n",
       "    }\n",
       "\n",
       "    .dataframe tbody tr th {\n",
       "        vertical-align: top;\n",
       "    }\n",
       "\n",
       "    .dataframe thead th {\n",
       "        text-align: right;\n",
       "    }\n",
       "</style>\n",
       "<table border=\"1\" class=\"dataframe\">\n",
       "  <thead>\n",
       "    <tr style=\"text-align: right;\">\n",
       "      <th></th>\n",
       "      <th>Unnamed: 0</th>\n",
       "      <th>user_id</th>\n",
       "      <th>signup_time</th>\n",
       "      <th>purchase_time</th>\n",
       "      <th>purchase_value</th>\n",
       "      <th>device_id</th>\n",
       "      <th>source</th>\n",
       "      <th>browser</th>\n",
       "      <th>sex</th>\n",
       "      <th>age</th>\n",
       "      <th>ip_address</th>\n",
       "      <th>class</th>\n",
       "      <th>country</th>\n",
       "    </tr>\n",
       "  </thead>\n",
       "  <tbody>\n",
       "    <tr>\n",
       "      <th>0</th>\n",
       "      <td>0</td>\n",
       "      <td>22058</td>\n",
       "      <td>2015-02-24 22:55:49</td>\n",
       "      <td>2015-04-18 02:47:11</td>\n",
       "      <td>34</td>\n",
       "      <td>QVPSPJUOCKZAR</td>\n",
       "      <td>SEO</td>\n",
       "      <td>Chrome</td>\n",
       "      <td>M</td>\n",
       "      <td>39</td>\n",
       "      <td>7.327584e+08</td>\n",
       "      <td>0</td>\n",
       "      <td>Japan</td>\n",
       "    </tr>\n",
       "    <tr>\n",
       "      <th>1</th>\n",
       "      <td>1</td>\n",
       "      <td>333320</td>\n",
       "      <td>2015-06-07 20:39:50</td>\n",
       "      <td>2015-06-08 01:38:54</td>\n",
       "      <td>16</td>\n",
       "      <td>EOGFQPIZPYXFZ</td>\n",
       "      <td>Ads</td>\n",
       "      <td>Chrome</td>\n",
       "      <td>F</td>\n",
       "      <td>53</td>\n",
       "      <td>3.503114e+08</td>\n",
       "      <td>0</td>\n",
       "      <td>United States</td>\n",
       "    </tr>\n",
       "    <tr>\n",
       "      <th>2</th>\n",
       "      <td>2</td>\n",
       "      <td>1359</td>\n",
       "      <td>2015-01-01 18:52:44</td>\n",
       "      <td>2015-01-01 18:52:45</td>\n",
       "      <td>15</td>\n",
       "      <td>YSSKYOSJHPPLJ</td>\n",
       "      <td>SEO</td>\n",
       "      <td>Opera</td>\n",
       "      <td>M</td>\n",
       "      <td>53</td>\n",
       "      <td>2.621474e+09</td>\n",
       "      <td>1</td>\n",
       "      <td>United States</td>\n",
       "    </tr>\n",
       "    <tr>\n",
       "      <th>3</th>\n",
       "      <td>3</td>\n",
       "      <td>150084</td>\n",
       "      <td>2015-04-28 21:13:25</td>\n",
       "      <td>2015-05-04 13:54:50</td>\n",
       "      <td>44</td>\n",
       "      <td>ATGTXKYKUDUQN</td>\n",
       "      <td>SEO</td>\n",
       "      <td>Safari</td>\n",
       "      <td>M</td>\n",
       "      <td>41</td>\n",
       "      <td>3.840542e+09</td>\n",
       "      <td>0</td>\n",
       "      <td>Unknown</td>\n",
       "    </tr>\n",
       "    <tr>\n",
       "      <th>4</th>\n",
       "      <td>4</td>\n",
       "      <td>221365</td>\n",
       "      <td>2015-07-21 07:09:52</td>\n",
       "      <td>2015-09-09 18:40:53</td>\n",
       "      <td>39</td>\n",
       "      <td>NAUITBZFJKHWW</td>\n",
       "      <td>Ads</td>\n",
       "      <td>Safari</td>\n",
       "      <td>M</td>\n",
       "      <td>45</td>\n",
       "      <td>4.155831e+08</td>\n",
       "      <td>0</td>\n",
       "      <td>United States</td>\n",
       "    </tr>\n",
       "  </tbody>\n",
       "</table>\n",
       "</div>"
      ],
      "text/plain": [
       "   Unnamed: 0  user_id          signup_time        purchase_time  \\\n",
       "0           0    22058  2015-02-24 22:55:49  2015-04-18 02:47:11   \n",
       "1           1   333320  2015-06-07 20:39:50  2015-06-08 01:38:54   \n",
       "2           2     1359  2015-01-01 18:52:44  2015-01-01 18:52:45   \n",
       "3           3   150084  2015-04-28 21:13:25  2015-05-04 13:54:50   \n",
       "4           4   221365  2015-07-21 07:09:52  2015-09-09 18:40:53   \n",
       "\n",
       "   purchase_value      device_id source browser sex  age    ip_address  class  \\\n",
       "0              34  QVPSPJUOCKZAR    SEO  Chrome   M   39  7.327584e+08      0   \n",
       "1              16  EOGFQPIZPYXFZ    Ads  Chrome   F   53  3.503114e+08      0   \n",
       "2              15  YSSKYOSJHPPLJ    SEO   Opera   M   53  2.621474e+09      1   \n",
       "3              44  ATGTXKYKUDUQN    SEO  Safari   M   41  3.840542e+09      0   \n",
       "4              39  NAUITBZFJKHWW    Ads  Safari   M   45  4.155831e+08      0   \n",
       "\n",
       "         country  \n",
       "0          Japan  \n",
       "1  United States  \n",
       "2  United States  \n",
       "3        Unknown  \n",
       "4  United States  "
      ]
     },
     "execution_count": 51,
     "metadata": {},
     "output_type": "execute_result"
    }
   ],
   "source": [
    "df.head()"
   ]
  },
  {
   "cell_type": "code",
   "execution_count": 50,
   "metadata": {},
   "outputs": [
    {
     "name": "stdout",
     "output_type": "stream",
     "text": [
      "Index(['Unnamed: 0', 'user_id', 'signup_time', 'purchase_time',\n",
      "       'purchase_value', 'device_id', 'source', 'browser', 'sex', 'age',\n",
      "       'ip_address', 'country'],\n",
      "      dtype='object')\n",
      "class\n"
     ]
    }
   ],
   "source": [
    "target_variable = 'class'\n",
    "features_list = df.columns.drop(target_variable)\n",
    "numeric_indices = [1,4]\n",
    "categorical_indices = [0,2,3]\n",
    "print(features_list)\n",
    "print(target_variable)"
   ]
  },
  {
   "cell_type": "code",
   "execution_count": 125,
   "metadata": {},
   "outputs": [
    {
     "name": "stdout",
     "output_type": "stream",
     "text": [
      "Variables explicatives :  Index(['country', 'age', 'new_user', 'source', 'total_pages_visited'], dtype='object')\n",
      "\n"
     ]
    }
   ],
   "source": [
    "X = data.loc[:, features_list]\n",
    "Y = data.loc[:, target_variable]\n",
    "\n",
    "print('Variables explicatives : ', X.columns)\n",
    "print()"
   ]
  },
  {
   "cell_type": "code",
   "execution_count": 127,
   "metadata": {},
   "outputs": [
    {
     "data": {
      "text/plain": [
       "0    0\n",
       "1    0\n",
       "2    1\n",
       "3    0\n",
       "4    0\n",
       "Name: converted, dtype: int64"
      ]
     },
     "execution_count": 127,
     "metadata": {},
     "output_type": "execute_result"
    }
   ],
   "source": [
    "Y.head()"
   ]
  },
  {
   "cell_type": "code",
   "execution_count": 136,
   "metadata": {},
   "outputs": [
    {
     "name": "stdout",
     "output_type": "stream",
     "text": [
      "Dividing into train and test sets...\n",
      "...Done.\n",
      "\n"
     ]
    }
   ],
   "source": [
    "# Divide dataset Train set & Test set \n",
    "print(\"Dividing into train and test sets...\")\n",
    "X_train, X_test, Y_train, Y_test = train_test_split(X, Y, test_size=0.2, random_state=0)\n",
    "print(\"...Done.\")\n",
    "print()"
   ]
  },
  {
   "cell_type": "code",
   "execution_count": 137,
   "metadata": {},
   "outputs": [
    {
     "data": {
      "text/html": [
       "<div>\n",
       "<style scoped>\n",
       "    .dataframe tbody tr th:only-of-type {\n",
       "        vertical-align: middle;\n",
       "    }\n",
       "\n",
       "    .dataframe tbody tr th {\n",
       "        vertical-align: top;\n",
       "    }\n",
       "\n",
       "    .dataframe thead th {\n",
       "        text-align: right;\n",
       "    }\n",
       "</style>\n",
       "<table border=\"1\" class=\"dataframe\">\n",
       "  <thead>\n",
       "    <tr style=\"text-align: right;\">\n",
       "      <th></th>\n",
       "      <th>country</th>\n",
       "      <th>age</th>\n",
       "      <th>new_user</th>\n",
       "      <th>source</th>\n",
       "      <th>total_pages_visited</th>\n",
       "    </tr>\n",
       "  </thead>\n",
       "  <tbody>\n",
       "    <tr>\n",
       "      <th>17050</th>\n",
       "      <td>US</td>\n",
       "      <td>29</td>\n",
       "      <td>1</td>\n",
       "      <td>Seo</td>\n",
       "      <td>4</td>\n",
       "    </tr>\n",
       "    <tr>\n",
       "      <th>260342</th>\n",
       "      <td>US</td>\n",
       "      <td>23</td>\n",
       "      <td>0</td>\n",
       "      <td>Direct</td>\n",
       "      <td>7</td>\n",
       "    </tr>\n",
       "    <tr>\n",
       "      <th>278164</th>\n",
       "      <td>UK</td>\n",
       "      <td>33</td>\n",
       "      <td>1</td>\n",
       "      <td>Seo</td>\n",
       "      <td>11</td>\n",
       "    </tr>\n",
       "    <tr>\n",
       "      <th>268440</th>\n",
       "      <td>China</td>\n",
       "      <td>25</td>\n",
       "      <td>1</td>\n",
       "      <td>Seo</td>\n",
       "      <td>5</td>\n",
       "    </tr>\n",
       "    <tr>\n",
       "      <th>157837</th>\n",
       "      <td>US</td>\n",
       "      <td>40</td>\n",
       "      <td>0</td>\n",
       "      <td>Seo</td>\n",
       "      <td>1</td>\n",
       "    </tr>\n",
       "  </tbody>\n",
       "</table>\n",
       "</div>"
      ],
      "text/plain": [
       "       country  age  new_user  source  total_pages_visited\n",
       "17050       US   29         1     Seo                    4\n",
       "260342      US   23         0  Direct                    7\n",
       "278164      UK   33         1     Seo                   11\n",
       "268440   China   25         1     Seo                    5\n",
       "157837      US   40         0     Seo                    1"
      ]
     },
     "execution_count": 137,
     "metadata": {},
     "output_type": "execute_result"
    }
   ],
   "source": [
    "X_train.head()"
   ]
  },
  {
   "cell_type": "code",
   "execution_count": 138,
   "metadata": {},
   "outputs": [
    {
     "name": "stdout",
     "output_type": "stream",
     "text": [
      "Convert pandas DataFrames to numpy arrays...\n",
      "...Done\n",
      "[['US' 29 1 'Seo' 4]\n",
      " ['US' 23 0 'Direct' 7]\n",
      " ['UK' 33 1 'Seo' 11]\n",
      " ...\n",
      " ['UK' 31 1 'Direct' 6]\n",
      " ['UK' 25 1 'Seo' 5]\n",
      " ['US' 34 1 'Ads' 3]]\n"
     ]
    }
   ],
   "source": [
    "# Convert pandas DataFrames to numpy arrays before using scikit-learn\n",
    "print(\"Convert pandas DataFrames to numpy arrays...\")\n",
    "X_train = X_train.values\n",
    "X_test = X_test.values\n",
    "Y_train = Y_train.values\n",
    "Y_test = Y_test.values\n",
    "print(\"...Done\")\n",
    "\n",
    "print(X_train)"
   ]
  },
  {
   "cell_type": "code",
   "execution_count": 141,
   "metadata": {},
   "outputs": [],
   "source": [
    "numeric_features = [1,4]\n",
    "numeric_transformer = StandardScaler()\n",
    "categorical_features = [0,2,3]\n",
    "categorical_transformer = OneHotEncoder()\n",
    "feature_encoder = ColumnTransformer(\n",
    "transformers=[\n",
    "    ('num', numeric_transformer, numeric_features),\n",
    "    ('cat', categorical_transformer, categorical_features)\n",
    "]\n",
    ")\n",
    "X_train = feature_encoder.fit_transform(X_train)\n"
   ]
  },
  {
   "cell_type": "code",
   "execution_count": 143,
   "metadata": {},
   "outputs": [
    {
     "name": "stdout",
     "output_type": "stream",
     "text": [
      "(227664, 11)\n"
     ]
    }
   ],
   "source": [
    "print(X_train.shape)"
   ]
  },
  {
   "cell_type": "code",
   "execution_count": 168,
   "metadata": {},
   "outputs": [
    {
     "name": "stdout",
     "output_type": "stream",
     "text": [
      "Fitting 10 folds for each of 36 candidates, totalling 360 fits\n"
     ]
    },
    {
     "name": "stderr",
     "output_type": "stream",
     "text": [
      "[Parallel(n_jobs=1)]: Using backend SequentialBackend with 1 concurrent workers.\n"
     ]
    },
    {
     "name": "stdout",
     "output_type": "stream",
     "text": [
      "[CV] max_depth=1, min_samples_leaf=1 .................................\n",
      "[CV] ..... max_depth=1, min_samples_leaf=1, score=0.737, total=   0.8s\n",
      "[CV] max_depth=1, min_samples_leaf=1 .................................\n"
     ]
    },
    {
     "name": "stderr",
     "output_type": "stream",
     "text": [
      "[Parallel(n_jobs=1)]: Done   1 out of   1 | elapsed:    0.7s remaining:    0.0s\n"
     ]
    },
    {
     "name": "stdout",
     "output_type": "stream",
     "text": [
      "[CV] ..... max_depth=1, min_samples_leaf=1, score=0.705, total=   0.4s\n",
      "[CV] max_depth=1, min_samples_leaf=1 .................................\n"
     ]
    },
    {
     "name": "stderr",
     "output_type": "stream",
     "text": [
      "[Parallel(n_jobs=1)]: Done   2 out of   2 | elapsed:    1.2s remaining:    0.0s\n"
     ]
    },
    {
     "name": "stdout",
     "output_type": "stream",
     "text": [
      "[CV] ..... max_depth=1, min_samples_leaf=1, score=0.717, total=   0.9s\n",
      "[CV] max_depth=1, min_samples_leaf=1 .................................\n"
     ]
    },
    {
     "name": "stderr",
     "output_type": "stream",
     "text": [
      "[Parallel(n_jobs=1)]: Done   3 out of   3 | elapsed:    2.1s remaining:    0.0s\n"
     ]
    },
    {
     "name": "stdout",
     "output_type": "stream",
     "text": [
      "[CV] ..... max_depth=1, min_samples_leaf=1, score=0.701, total=   0.7s\n",
      "[CV] max_depth=1, min_samples_leaf=1 .................................\n"
     ]
    },
    {
     "name": "stderr",
     "output_type": "stream",
     "text": [
      "[Parallel(n_jobs=1)]: Done   4 out of   4 | elapsed:    2.8s remaining:    0.0s\n"
     ]
    },
    {
     "name": "stdout",
     "output_type": "stream",
     "text": [
      "[CV] ..... max_depth=1, min_samples_leaf=1, score=0.706, total=   0.7s\n",
      "[CV] max_depth=1, min_samples_leaf=1 .................................\n",
      "[CV] ..... max_depth=1, min_samples_leaf=1, score=0.713, total=   0.6s\n",
      "[CV] max_depth=1, min_samples_leaf=1 .................................\n",
      "[CV] ..... max_depth=1, min_samples_leaf=1, score=0.689, total=   0.5s\n",
      "[CV] max_depth=1, min_samples_leaf=1 .................................\n",
      "[CV] ..... max_depth=1, min_samples_leaf=1, score=0.709, total=   0.5s\n",
      "[CV] max_depth=1, min_samples_leaf=1 .................................\n",
      "[CV] ..... max_depth=1, min_samples_leaf=1, score=0.719, total=   0.4s\n",
      "[CV] max_depth=1, min_samples_leaf=1 .................................\n",
      "[CV] ..... max_depth=1, min_samples_leaf=1, score=0.706, total=   0.3s\n",
      "[CV] max_depth=1, min_samples_leaf=5 .................................\n",
      "[CV] ..... max_depth=1, min_samples_leaf=5, score=0.737, total=   0.3s\n",
      "[CV] max_depth=1, min_samples_leaf=5 .................................\n",
      "[CV] ..... max_depth=1, min_samples_leaf=5, score=0.705, total=   0.4s\n",
      "[CV] max_depth=1, min_samples_leaf=5 .................................\n",
      "[CV] ..... max_depth=1, min_samples_leaf=5, score=0.717, total=   0.4s\n",
      "[CV] max_depth=1, min_samples_leaf=5 .................................\n",
      "[CV] ..... max_depth=1, min_samples_leaf=5, score=0.701, total=   0.3s\n",
      "[CV] max_depth=1, min_samples_leaf=5 .................................\n",
      "[CV] ..... max_depth=1, min_samples_leaf=5, score=0.706, total=   0.3s\n",
      "[CV] max_depth=1, min_samples_leaf=5 .................................\n",
      "[CV] ..... max_depth=1, min_samples_leaf=5, score=0.713, total=   0.2s\n",
      "[CV] max_depth=1, min_samples_leaf=5 .................................\n",
      "[CV] ..... max_depth=1, min_samples_leaf=5, score=0.689, total=   0.2s\n",
      "[CV] max_depth=1, min_samples_leaf=5 .................................\n",
      "[CV] ..... max_depth=1, min_samples_leaf=5, score=0.709, total=   0.3s\n",
      "[CV] max_depth=1, min_samples_leaf=5 .................................\n",
      "[CV] ..... max_depth=1, min_samples_leaf=5, score=0.719, total=   0.2s\n",
      "[CV] max_depth=1, min_samples_leaf=5 .................................\n",
      "[CV] ..... max_depth=1, min_samples_leaf=5, score=0.706, total=   0.2s\n",
      "[CV] max_depth=1, min_samples_leaf=10 ................................\n",
      "[CV] .... max_depth=1, min_samples_leaf=10, score=0.737, total=   0.3s\n",
      "[CV] max_depth=1, min_samples_leaf=10 ................................\n",
      "[CV] .... max_depth=1, min_samples_leaf=10, score=0.705, total=   0.2s\n",
      "[CV] max_depth=1, min_samples_leaf=10 ................................\n",
      "[CV] .... max_depth=1, min_samples_leaf=10, score=0.717, total=   0.2s\n",
      "[CV] max_depth=1, min_samples_leaf=10 ................................\n",
      "[CV] .... max_depth=1, min_samples_leaf=10, score=0.701, total=   0.3s\n",
      "[CV] max_depth=1, min_samples_leaf=10 ................................\n",
      "[CV] .... max_depth=1, min_samples_leaf=10, score=0.706, total=   0.3s\n",
      "[CV] max_depth=1, min_samples_leaf=10 ................................\n",
      "[CV] .... max_depth=1, min_samples_leaf=10, score=0.713, total=   0.3s\n",
      "[CV] max_depth=1, min_samples_leaf=10 ................................\n",
      "[CV] .... max_depth=1, min_samples_leaf=10, score=0.689, total=   0.3s\n",
      "[CV] max_depth=1, min_samples_leaf=10 ................................\n",
      "[CV] .... max_depth=1, min_samples_leaf=10, score=0.709, total=   0.2s\n",
      "[CV] max_depth=1, min_samples_leaf=10 ................................\n",
      "[CV] .... max_depth=1, min_samples_leaf=10, score=0.719, total=   0.3s\n",
      "[CV] max_depth=1, min_samples_leaf=10 ................................\n",
      "[CV] .... max_depth=1, min_samples_leaf=10, score=0.706, total=   0.2s\n",
      "[CV] max_depth=1, min_samples_leaf=20 ................................\n",
      "[CV] .... max_depth=1, min_samples_leaf=20, score=0.737, total=   0.3s\n",
      "[CV] max_depth=1, min_samples_leaf=20 ................................\n",
      "[CV] .... max_depth=1, min_samples_leaf=20, score=0.705, total=   0.2s\n",
      "[CV] max_depth=1, min_samples_leaf=20 ................................\n",
      "[CV] .... max_depth=1, min_samples_leaf=20, score=0.717, total=   0.3s\n",
      "[CV] max_depth=1, min_samples_leaf=20 ................................\n",
      "[CV] .... max_depth=1, min_samples_leaf=20, score=0.701, total=   0.3s\n",
      "[CV] max_depth=1, min_samples_leaf=20 ................................\n",
      "[CV] .... max_depth=1, min_samples_leaf=20, score=0.706, total=   0.2s\n",
      "[CV] max_depth=1, min_samples_leaf=20 ................................\n",
      "[CV] .... max_depth=1, min_samples_leaf=20, score=0.713, total=   0.2s\n",
      "[CV] max_depth=1, min_samples_leaf=20 ................................\n",
      "[CV] .... max_depth=1, min_samples_leaf=20, score=0.689, total=   0.2s\n",
      "[CV] max_depth=1, min_samples_leaf=20 ................................\n",
      "[CV] .... max_depth=1, min_samples_leaf=20, score=0.709, total=   0.3s\n",
      "[CV] max_depth=1, min_samples_leaf=20 ................................\n",
      "[CV] .... max_depth=1, min_samples_leaf=20, score=0.719, total=   0.2s\n",
      "[CV] max_depth=1, min_samples_leaf=20 ................................\n",
      "[CV] .... max_depth=1, min_samples_leaf=20, score=0.706, total=   0.2s\n",
      "[CV] max_depth=2, min_samples_leaf=1 .................................\n",
      "[CV] ..... max_depth=2, min_samples_leaf=1, score=0.649, total=   0.4s\n",
      "[CV] max_depth=2, min_samples_leaf=1 .................................\n",
      "[CV] ..... max_depth=2, min_samples_leaf=1, score=0.647, total=   0.3s\n",
      "[CV] max_depth=2, min_samples_leaf=1 .................................\n",
      "[CV] ..... max_depth=2, min_samples_leaf=1, score=0.671, total=   0.4s\n",
      "[CV] max_depth=2, min_samples_leaf=1 .................................\n",
      "[CV] ..... max_depth=2, min_samples_leaf=1, score=0.634, total=   0.4s\n",
      "[CV] max_depth=2, min_samples_leaf=1 .................................\n",
      "[CV] ..... max_depth=2, min_samples_leaf=1, score=0.634, total=   0.3s\n",
      "[CV] max_depth=2, min_samples_leaf=1 .................................\n",
      "[CV] ..... max_depth=2, min_samples_leaf=1, score=0.646, total=   0.3s\n",
      "[CV] max_depth=2, min_samples_leaf=1 .................................\n",
      "[CV] ..... max_depth=2, min_samples_leaf=1, score=0.611, total=   0.4s\n",
      "[CV] max_depth=2, min_samples_leaf=1 .................................\n",
      "[CV] ..... max_depth=2, min_samples_leaf=1, score=0.655, total=   0.4s\n",
      "[CV] max_depth=2, min_samples_leaf=1 .................................\n",
      "[CV] ..... max_depth=2, min_samples_leaf=1, score=0.647, total=   0.5s\n",
      "[CV] max_depth=2, min_samples_leaf=1 .................................\n",
      "[CV] ..... max_depth=2, min_samples_leaf=1, score=0.620, total=   0.3s\n",
      "[CV] max_depth=2, min_samples_leaf=5 .................................\n",
      "[CV] ..... max_depth=2, min_samples_leaf=5, score=0.649, total=   0.3s\n",
      "[CV] max_depth=2, min_samples_leaf=5 .................................\n",
      "[CV] ..... max_depth=2, min_samples_leaf=5, score=0.647, total=   0.4s\n",
      "[CV] max_depth=2, min_samples_leaf=5 .................................\n",
      "[CV] ..... max_depth=2, min_samples_leaf=5, score=0.671, total=   0.3s\n",
      "[CV] max_depth=2, min_samples_leaf=5 .................................\n",
      "[CV] ..... max_depth=2, min_samples_leaf=5, score=0.634, total=   0.4s\n",
      "[CV] max_depth=2, min_samples_leaf=5 .................................\n",
      "[CV] ..... max_depth=2, min_samples_leaf=5, score=0.634, total=   0.5s\n",
      "[CV] max_depth=2, min_samples_leaf=5 .................................\n",
      "[CV] ..... max_depth=2, min_samples_leaf=5, score=0.646, total=   0.3s\n",
      "[CV] max_depth=2, min_samples_leaf=5 .................................\n",
      "[CV] ..... max_depth=2, min_samples_leaf=5, score=0.611, total=   0.5s\n",
      "[CV] max_depth=2, min_samples_leaf=5 .................................\n",
      "[CV] ..... max_depth=2, min_samples_leaf=5, score=0.655, total=   0.4s\n",
      "[CV] max_depth=2, min_samples_leaf=5 .................................\n",
      "[CV] ..... max_depth=2, min_samples_leaf=5, score=0.647, total=   0.5s\n",
      "[CV] max_depth=2, min_samples_leaf=5 .................................\n",
      "[CV] ..... max_depth=2, min_samples_leaf=5, score=0.620, total=   0.4s\n",
      "[CV] max_depth=2, min_samples_leaf=10 ................................\n",
      "[CV] .... max_depth=2, min_samples_leaf=10, score=0.649, total=   0.2s\n",
      "[CV] max_depth=2, min_samples_leaf=10 ................................\n",
      "[CV] .... max_depth=2, min_samples_leaf=10, score=0.647, total=   0.2s\n",
      "[CV] max_depth=2, min_samples_leaf=10 ................................\n"
     ]
    },
    {
     "name": "stdout",
     "output_type": "stream",
     "text": [
      "[CV] .... max_depth=2, min_samples_leaf=10, score=0.671, total=   0.2s\n",
      "[CV] max_depth=2, min_samples_leaf=10 ................................\n",
      "[CV] .... max_depth=2, min_samples_leaf=10, score=0.634, total=   0.2s\n",
      "[CV] max_depth=2, min_samples_leaf=10 ................................\n",
      "[CV] .... max_depth=2, min_samples_leaf=10, score=0.634, total=   0.2s\n",
      "[CV] max_depth=2, min_samples_leaf=10 ................................\n",
      "[CV] .... max_depth=2, min_samples_leaf=10, score=0.646, total=   0.3s\n",
      "[CV] max_depth=2, min_samples_leaf=10 ................................\n",
      "[CV] .... max_depth=2, min_samples_leaf=10, score=0.611, total=   0.3s\n",
      "[CV] max_depth=2, min_samples_leaf=10 ................................\n",
      "[CV] .... max_depth=2, min_samples_leaf=10, score=0.655, total=   0.4s\n",
      "[CV] max_depth=2, min_samples_leaf=10 ................................\n",
      "[CV] .... max_depth=2, min_samples_leaf=10, score=0.647, total=   0.4s\n",
      "[CV] max_depth=2, min_samples_leaf=10 ................................\n",
      "[CV] .... max_depth=2, min_samples_leaf=10, score=0.620, total=   0.4s\n",
      "[CV] max_depth=2, min_samples_leaf=20 ................................\n",
      "[CV] .... max_depth=2, min_samples_leaf=20, score=0.649, total=   0.5s\n",
      "[CV] max_depth=2, min_samples_leaf=20 ................................\n",
      "[CV] .... max_depth=2, min_samples_leaf=20, score=0.647, total=   0.7s\n",
      "[CV] max_depth=2, min_samples_leaf=20 ................................\n",
      "[CV] .... max_depth=2, min_samples_leaf=20, score=0.671, total=   0.8s\n",
      "[CV] max_depth=2, min_samples_leaf=20 ................................\n",
      "[CV] .... max_depth=2, min_samples_leaf=20, score=0.634, total=   0.2s\n",
      "[CV] max_depth=2, min_samples_leaf=20 ................................\n",
      "[CV] .... max_depth=2, min_samples_leaf=20, score=0.634, total=   0.3s\n",
      "[CV] max_depth=2, min_samples_leaf=20 ................................\n",
      "[CV] .... max_depth=2, min_samples_leaf=20, score=0.646, total=   0.2s\n",
      "[CV] max_depth=2, min_samples_leaf=20 ................................\n",
      "[CV] .... max_depth=2, min_samples_leaf=20, score=0.611, total=   0.2s\n",
      "[CV] max_depth=2, min_samples_leaf=20 ................................\n",
      "[CV] .... max_depth=2, min_samples_leaf=20, score=0.655, total=   0.2s\n",
      "[CV] max_depth=2, min_samples_leaf=20 ................................\n",
      "[CV] .... max_depth=2, min_samples_leaf=20, score=0.647, total=   0.2s\n",
      "[CV] max_depth=2, min_samples_leaf=20 ................................\n",
      "[CV] .... max_depth=2, min_samples_leaf=20, score=0.620, total=   0.2s\n",
      "[CV] max_depth=3, min_samples_leaf=1 .................................\n",
      "[CV] ..... max_depth=3, min_samples_leaf=1, score=0.746, total=   0.3s\n",
      "[CV] max_depth=3, min_samples_leaf=1 .................................\n",
      "[CV] ..... max_depth=3, min_samples_leaf=1, score=0.732, total=   0.5s\n",
      "[CV] max_depth=3, min_samples_leaf=1 .................................\n",
      "[CV] ..... max_depth=3, min_samples_leaf=1, score=0.760, total=   0.5s\n",
      "[CV] max_depth=3, min_samples_leaf=1 .................................\n",
      "[CV] ..... max_depth=3, min_samples_leaf=1, score=0.720, total=   0.6s\n",
      "[CV] max_depth=3, min_samples_leaf=1 .................................\n",
      "[CV] ..... max_depth=3, min_samples_leaf=1, score=0.721, total=   0.5s\n",
      "[CV] max_depth=3, min_samples_leaf=1 .................................\n",
      "[CV] ..... max_depth=3, min_samples_leaf=1, score=0.724, total=   0.5s\n",
      "[CV] max_depth=3, min_samples_leaf=1 .................................\n",
      "[CV] ..... max_depth=3, min_samples_leaf=1, score=0.708, total=   0.4s\n",
      "[CV] max_depth=3, min_samples_leaf=1 .................................\n",
      "[CV] ..... max_depth=3, min_samples_leaf=1, score=0.733, total=   0.4s\n",
      "[CV] max_depth=3, min_samples_leaf=1 .................................\n",
      "[CV] ..... max_depth=3, min_samples_leaf=1, score=0.749, total=   0.4s\n",
      "[CV] max_depth=3, min_samples_leaf=1 .................................\n",
      "[CV] ..... max_depth=3, min_samples_leaf=1, score=0.734, total=   0.4s\n",
      "[CV] max_depth=3, min_samples_leaf=5 .................................\n",
      "[CV] ..... max_depth=3, min_samples_leaf=5, score=0.746, total=   0.4s\n",
      "[CV] max_depth=3, min_samples_leaf=5 .................................\n",
      "[CV] ..... max_depth=3, min_samples_leaf=5, score=0.732, total=   0.4s\n",
      "[CV] max_depth=3, min_samples_leaf=5 .................................\n",
      "[CV] ..... max_depth=3, min_samples_leaf=5, score=0.760, total=   0.4s\n",
      "[CV] max_depth=3, min_samples_leaf=5 .................................\n",
      "[CV] ..... max_depth=3, min_samples_leaf=5, score=0.720, total=   0.4s\n",
      "[CV] max_depth=3, min_samples_leaf=5 .................................\n",
      "[CV] ..... max_depth=3, min_samples_leaf=5, score=0.721, total=   0.4s\n",
      "[CV] max_depth=3, min_samples_leaf=5 .................................\n",
      "[CV] ..... max_depth=3, min_samples_leaf=5, score=0.724, total=   0.4s\n",
      "[CV] max_depth=3, min_samples_leaf=5 .................................\n",
      "[CV] ..... max_depth=3, min_samples_leaf=5, score=0.708, total=   0.4s\n",
      "[CV] max_depth=3, min_samples_leaf=5 .................................\n",
      "[CV] ..... max_depth=3, min_samples_leaf=5, score=0.733, total=   0.5s\n",
      "[CV] max_depth=3, min_samples_leaf=5 .................................\n",
      "[CV] ..... max_depth=3, min_samples_leaf=5, score=0.749, total=   0.5s\n",
      "[CV] max_depth=3, min_samples_leaf=5 .................................\n",
      "[CV] ..... max_depth=3, min_samples_leaf=5, score=0.734, total=   0.4s\n",
      "[CV] max_depth=3, min_samples_leaf=10 ................................\n",
      "[CV] .... max_depth=3, min_samples_leaf=10, score=0.746, total=   0.4s\n",
      "[CV] max_depth=3, min_samples_leaf=10 ................................\n",
      "[CV] .... max_depth=3, min_samples_leaf=10, score=0.732, total=   0.6s\n",
      "[CV] max_depth=3, min_samples_leaf=10 ................................\n",
      "[CV] .... max_depth=3, min_samples_leaf=10, score=0.760, total=   0.3s\n",
      "[CV] max_depth=3, min_samples_leaf=10 ................................\n",
      "[CV] .... max_depth=3, min_samples_leaf=10, score=0.720, total=   0.3s\n",
      "[CV] max_depth=3, min_samples_leaf=10 ................................\n",
      "[CV] .... max_depth=3, min_samples_leaf=10, score=0.721, total=   0.4s\n",
      "[CV] max_depth=3, min_samples_leaf=10 ................................\n",
      "[CV] .... max_depth=3, min_samples_leaf=10, score=0.724, total=   0.4s\n",
      "[CV] max_depth=3, min_samples_leaf=10 ................................\n",
      "[CV] .... max_depth=3, min_samples_leaf=10, score=0.708, total=   0.4s\n",
      "[CV] max_depth=3, min_samples_leaf=10 ................................\n",
      "[CV] .... max_depth=3, min_samples_leaf=10, score=0.733, total=   0.8s\n",
      "[CV] max_depth=3, min_samples_leaf=10 ................................\n",
      "[CV] .... max_depth=3, min_samples_leaf=10, score=0.749, total=   0.9s\n",
      "[CV] max_depth=3, min_samples_leaf=10 ................................\n",
      "[CV] .... max_depth=3, min_samples_leaf=10, score=0.734, total=   1.1s\n",
      "[CV] max_depth=3, min_samples_leaf=20 ................................\n",
      "[CV] .... max_depth=3, min_samples_leaf=20, score=0.746, total=   1.3s\n",
      "[CV] max_depth=3, min_samples_leaf=20 ................................\n",
      "[CV] .... max_depth=3, min_samples_leaf=20, score=0.732, total=   0.6s\n",
      "[CV] max_depth=3, min_samples_leaf=20 ................................\n",
      "[CV] .... max_depth=3, min_samples_leaf=20, score=0.760, total=   0.7s\n",
      "[CV] max_depth=3, min_samples_leaf=20 ................................\n",
      "[CV] .... max_depth=3, min_samples_leaf=20, score=0.720, total=   0.7s\n",
      "[CV] max_depth=3, min_samples_leaf=20 ................................\n",
      "[CV] .... max_depth=3, min_samples_leaf=20, score=0.721, total=   0.5s\n",
      "[CV] max_depth=3, min_samples_leaf=20 ................................\n",
      "[CV] .... max_depth=3, min_samples_leaf=20, score=0.724, total=   0.7s\n",
      "[CV] max_depth=3, min_samples_leaf=20 ................................\n",
      "[CV] .... max_depth=3, min_samples_leaf=20, score=0.708, total=   1.1s\n",
      "[CV] max_depth=3, min_samples_leaf=20 ................................\n",
      "[CV] .... max_depth=3, min_samples_leaf=20, score=0.733, total=   1.0s\n",
      "[CV] max_depth=3, min_samples_leaf=20 ................................\n",
      "[CV] .... max_depth=3, min_samples_leaf=20, score=0.749, total=   0.8s\n",
      "[CV] max_depth=3, min_samples_leaf=20 ................................\n",
      "[CV] .... max_depth=3, min_samples_leaf=20, score=0.734, total=   0.7s\n",
      "[CV] max_depth=4, min_samples_leaf=1 .................................\n"
     ]
    },
    {
     "name": "stdout",
     "output_type": "stream",
     "text": [
      "[CV] ..... max_depth=4, min_samples_leaf=1, score=0.749, total=   1.2s\n",
      "[CV] max_depth=4, min_samples_leaf=1 .................................\n",
      "[CV] ..... max_depth=4, min_samples_leaf=1, score=0.741, total=   1.3s\n",
      "[CV] max_depth=4, min_samples_leaf=1 .................................\n",
      "[CV] ..... max_depth=4, min_samples_leaf=1, score=0.762, total=   1.1s\n",
      "[CV] max_depth=4, min_samples_leaf=1 .................................\n",
      "[CV] ..... max_depth=4, min_samples_leaf=1, score=0.727, total=   0.9s\n",
      "[CV] max_depth=4, min_samples_leaf=1 .................................\n",
      "[CV] ..... max_depth=4, min_samples_leaf=1, score=0.727, total=   1.1s\n",
      "[CV] max_depth=4, min_samples_leaf=1 .................................\n",
      "[CV] ..... max_depth=4, min_samples_leaf=1, score=0.727, total=   0.8s\n",
      "[CV] max_depth=4, min_samples_leaf=1 .................................\n",
      "[CV] ..... max_depth=4, min_samples_leaf=1, score=0.716, total=   0.6s\n",
      "[CV] max_depth=4, min_samples_leaf=1 .................................\n",
      "[CV] ..... max_depth=4, min_samples_leaf=1, score=0.737, total=   0.7s\n",
      "[CV] max_depth=4, min_samples_leaf=1 .................................\n",
      "[CV] ..... max_depth=4, min_samples_leaf=1, score=0.757, total=   0.7s\n",
      "[CV] max_depth=4, min_samples_leaf=1 .................................\n",
      "[CV] ..... max_depth=4, min_samples_leaf=1, score=0.735, total=   0.7s\n",
      "[CV] max_depth=4, min_samples_leaf=5 .................................\n",
      "[CV] ..... max_depth=4, min_samples_leaf=5, score=0.749, total=   0.7s\n",
      "[CV] max_depth=4, min_samples_leaf=5 .................................\n",
      "[CV] ..... max_depth=4, min_samples_leaf=5, score=0.741, total=   0.7s\n",
      "[CV] max_depth=4, min_samples_leaf=5 .................................\n",
      "[CV] ..... max_depth=4, min_samples_leaf=5, score=0.762, total=   0.6s\n",
      "[CV] max_depth=4, min_samples_leaf=5 .................................\n",
      "[CV] ..... max_depth=4, min_samples_leaf=5, score=0.727, total=   0.6s\n",
      "[CV] max_depth=4, min_samples_leaf=5 .................................\n",
      "[CV] ..... max_depth=4, min_samples_leaf=5, score=0.727, total=   0.7s\n",
      "[CV] max_depth=4, min_samples_leaf=5 .................................\n",
      "[CV] ..... max_depth=4, min_samples_leaf=5, score=0.727, total=   0.6s\n",
      "[CV] max_depth=4, min_samples_leaf=5 .................................\n",
      "[CV] ..... max_depth=4, min_samples_leaf=5, score=0.716, total=   0.6s\n",
      "[CV] max_depth=4, min_samples_leaf=5 .................................\n",
      "[CV] ..... max_depth=4, min_samples_leaf=5, score=0.737, total=   0.7s\n",
      "[CV] max_depth=4, min_samples_leaf=5 .................................\n",
      "[CV] ..... max_depth=4, min_samples_leaf=5, score=0.757, total=   0.7s\n",
      "[CV] max_depth=4, min_samples_leaf=5 .................................\n",
      "[CV] ..... max_depth=4, min_samples_leaf=5, score=0.735, total=   0.7s\n",
      "[CV] max_depth=4, min_samples_leaf=10 ................................\n",
      "[CV] .... max_depth=4, min_samples_leaf=10, score=0.749, total=   0.6s\n",
      "[CV] max_depth=4, min_samples_leaf=10 ................................\n",
      "[CV] .... max_depth=4, min_samples_leaf=10, score=0.741, total=   0.6s\n",
      "[CV] max_depth=4, min_samples_leaf=10 ................................\n",
      "[CV] .... max_depth=4, min_samples_leaf=10, score=0.762, total=   0.6s\n",
      "[CV] max_depth=4, min_samples_leaf=10 ................................\n",
      "[CV] .... max_depth=4, min_samples_leaf=10, score=0.727, total=   0.6s\n",
      "[CV] max_depth=4, min_samples_leaf=10 ................................\n",
      "[CV] .... max_depth=4, min_samples_leaf=10, score=0.727, total=   0.6s\n",
      "[CV] max_depth=4, min_samples_leaf=10 ................................\n",
      "[CV] .... max_depth=4, min_samples_leaf=10, score=0.727, total=   0.5s\n",
      "[CV] max_depth=4, min_samples_leaf=10 ................................\n",
      "[CV] .... max_depth=4, min_samples_leaf=10, score=0.716, total=   0.8s\n",
      "[CV] max_depth=4, min_samples_leaf=10 ................................\n",
      "[CV] .... max_depth=4, min_samples_leaf=10, score=0.737, total=   1.0s\n",
      "[CV] max_depth=4, min_samples_leaf=10 ................................\n",
      "[CV] .... max_depth=4, min_samples_leaf=10, score=0.757, total=   0.7s\n",
      "[CV] max_depth=4, min_samples_leaf=10 ................................\n",
      "[CV] .... max_depth=4, min_samples_leaf=10, score=0.735, total=   0.7s\n",
      "[CV] max_depth=4, min_samples_leaf=20 ................................\n",
      "[CV] .... max_depth=4, min_samples_leaf=20, score=0.749, total=   0.7s\n",
      "[CV] max_depth=4, min_samples_leaf=20 ................................\n",
      "[CV] .... max_depth=4, min_samples_leaf=20, score=0.741, total=   0.6s\n",
      "[CV] max_depth=4, min_samples_leaf=20 ................................\n",
      "[CV] .... max_depth=4, min_samples_leaf=20, score=0.762, total=   0.5s\n",
      "[CV] max_depth=4, min_samples_leaf=20 ................................\n",
      "[CV] .... max_depth=4, min_samples_leaf=20, score=0.727, total=   0.8s\n",
      "[CV] max_depth=4, min_samples_leaf=20 ................................\n",
      "[CV] .... max_depth=4, min_samples_leaf=20, score=0.727, total=   0.6s\n",
      "[CV] max_depth=4, min_samples_leaf=20 ................................\n",
      "[CV] .... max_depth=4, min_samples_leaf=20, score=0.727, total=   0.6s\n",
      "[CV] max_depth=4, min_samples_leaf=20 ................................\n",
      "[CV] .... max_depth=4, min_samples_leaf=20, score=0.718, total=   0.5s\n",
      "[CV] max_depth=4, min_samples_leaf=20 ................................\n",
      "[CV] .... max_depth=4, min_samples_leaf=20, score=0.737, total=   0.6s\n",
      "[CV] max_depth=4, min_samples_leaf=20 ................................\n",
      "[CV] .... max_depth=4, min_samples_leaf=20, score=0.757, total=   0.6s\n",
      "[CV] max_depth=4, min_samples_leaf=20 ................................\n",
      "[CV] .... max_depth=4, min_samples_leaf=20, score=0.735, total=   0.6s\n",
      "[CV] max_depth=5, min_samples_leaf=1 .................................\n",
      "[CV] ..... max_depth=5, min_samples_leaf=1, score=0.748, total=   0.6s\n",
      "[CV] max_depth=5, min_samples_leaf=1 .................................\n",
      "[CV] ..... max_depth=5, min_samples_leaf=1, score=0.749, total=   0.7s\n",
      "[CV] max_depth=5, min_samples_leaf=1 .................................\n",
      "[CV] ..... max_depth=5, min_samples_leaf=1, score=0.763, total=   0.7s\n",
      "[CV] max_depth=5, min_samples_leaf=1 .................................\n",
      "[CV] ..... max_depth=5, min_samples_leaf=1, score=0.728, total=   1.2s\n",
      "[CV] max_depth=5, min_samples_leaf=1 .................................\n",
      "[CV] ..... max_depth=5, min_samples_leaf=1, score=0.727, total=   1.2s\n",
      "[CV] max_depth=5, min_samples_leaf=1 .................................\n",
      "[CV] ..... max_depth=5, min_samples_leaf=1, score=0.727, total=   0.7s\n",
      "[CV] max_depth=5, min_samples_leaf=1 .................................\n",
      "[CV] ..... max_depth=5, min_samples_leaf=1, score=0.718, total=   1.0s\n",
      "[CV] max_depth=5, min_samples_leaf=1 .................................\n",
      "[CV] ..... max_depth=5, min_samples_leaf=1, score=0.742, total=   1.1s\n",
      "[CV] max_depth=5, min_samples_leaf=1 .................................\n",
      "[CV] ..... max_depth=5, min_samples_leaf=1, score=0.757, total=   0.7s\n",
      "[CV] max_depth=5, min_samples_leaf=1 .................................\n",
      "[CV] ..... max_depth=5, min_samples_leaf=1, score=0.735, total=   0.7s\n",
      "[CV] max_depth=5, min_samples_leaf=5 .................................\n",
      "[CV] ..... max_depth=5, min_samples_leaf=5, score=0.748, total=   1.0s\n",
      "[CV] max_depth=5, min_samples_leaf=5 .................................\n",
      "[CV] ..... max_depth=5, min_samples_leaf=5, score=0.749, total=   0.8s\n",
      "[CV] max_depth=5, min_samples_leaf=5 .................................\n",
      "[CV] ..... max_depth=5, min_samples_leaf=5, score=0.763, total=   0.7s\n",
      "[CV] max_depth=5, min_samples_leaf=5 .................................\n",
      "[CV] ..... max_depth=5, min_samples_leaf=5, score=0.728, total=   0.9s\n",
      "[CV] max_depth=5, min_samples_leaf=5 .................................\n",
      "[CV] ..... max_depth=5, min_samples_leaf=5, score=0.727, total=   0.7s\n",
      "[CV] max_depth=5, min_samples_leaf=5 .................................\n",
      "[CV] ..... max_depth=5, min_samples_leaf=5, score=0.727, total=   0.6s\n",
      "[CV] max_depth=5, min_samples_leaf=5 .................................\n",
      "[CV] ..... max_depth=5, min_samples_leaf=5, score=0.718, total=   0.6s\n",
      "[CV] max_depth=5, min_samples_leaf=5 .................................\n",
      "[CV] ..... max_depth=5, min_samples_leaf=5, score=0.742, total=   0.6s\n",
      "[CV] max_depth=5, min_samples_leaf=5 .................................\n"
     ]
    },
    {
     "name": "stdout",
     "output_type": "stream",
     "text": [
      "[CV] ..... max_depth=5, min_samples_leaf=5, score=0.757, total=   0.6s\n",
      "[CV] max_depth=5, min_samples_leaf=5 .................................\n",
      "[CV] ..... max_depth=5, min_samples_leaf=5, score=0.735, total=   0.6s\n",
      "[CV] max_depth=5, min_samples_leaf=10 ................................\n",
      "[CV] .... max_depth=5, min_samples_leaf=10, score=0.748, total=   0.6s\n",
      "[CV] max_depth=5, min_samples_leaf=10 ................................\n",
      "[CV] .... max_depth=5, min_samples_leaf=10, score=0.749, total=   0.6s\n",
      "[CV] max_depth=5, min_samples_leaf=10 ................................\n",
      "[CV] .... max_depth=5, min_samples_leaf=10, score=0.763, total=   0.6s\n",
      "[CV] max_depth=5, min_samples_leaf=10 ................................\n",
      "[CV] .... max_depth=5, min_samples_leaf=10, score=0.728, total=   0.6s\n",
      "[CV] max_depth=5, min_samples_leaf=10 ................................\n",
      "[CV] .... max_depth=5, min_samples_leaf=10, score=0.727, total=   0.6s\n",
      "[CV] max_depth=5, min_samples_leaf=10 ................................\n",
      "[CV] .... max_depth=5, min_samples_leaf=10, score=0.727, total=   0.7s\n",
      "[CV] max_depth=5, min_samples_leaf=10 ................................\n",
      "[CV] .... max_depth=5, min_samples_leaf=10, score=0.716, total=   1.0s\n",
      "[CV] max_depth=5, min_samples_leaf=10 ................................\n",
      "[CV] .... max_depth=5, min_samples_leaf=10, score=0.741, total=   1.0s\n",
      "[CV] max_depth=5, min_samples_leaf=10 ................................\n",
      "[CV] .... max_depth=5, min_samples_leaf=10, score=0.757, total=   0.9s\n",
      "[CV] max_depth=5, min_samples_leaf=10 ................................\n",
      "[CV] .... max_depth=5, min_samples_leaf=10, score=0.735, total=   1.4s\n",
      "[CV] max_depth=5, min_samples_leaf=20 ................................\n",
      "[CV] .... max_depth=5, min_samples_leaf=20, score=0.749, total=   1.1s\n",
      "[CV] max_depth=5, min_samples_leaf=20 ................................\n",
      "[CV] .... max_depth=5, min_samples_leaf=20, score=0.749, total=   0.9s\n",
      "[CV] max_depth=5, min_samples_leaf=20 ................................\n",
      "[CV] .... max_depth=5, min_samples_leaf=20, score=0.762, total=   0.7s\n",
      "[CV] max_depth=5, min_samples_leaf=20 ................................\n",
      "[CV] .... max_depth=5, min_samples_leaf=20, score=0.727, total=   0.7s\n",
      "[CV] max_depth=5, min_samples_leaf=20 ................................\n",
      "[CV] .... max_depth=5, min_samples_leaf=20, score=0.727, total=   0.7s\n",
      "[CV] max_depth=5, min_samples_leaf=20 ................................\n",
      "[CV] .... max_depth=5, min_samples_leaf=20, score=0.727, total=   0.7s\n",
      "[CV] max_depth=5, min_samples_leaf=20 ................................\n",
      "[CV] .... max_depth=5, min_samples_leaf=20, score=0.718, total=   0.7s\n",
      "[CV] max_depth=5, min_samples_leaf=20 ................................\n",
      "[CV] .... max_depth=5, min_samples_leaf=20, score=0.741, total=   1.3s\n",
      "[CV] max_depth=5, min_samples_leaf=20 ................................\n",
      "[CV] .... max_depth=5, min_samples_leaf=20, score=0.757, total=   1.7s\n",
      "[CV] max_depth=5, min_samples_leaf=20 ................................\n",
      "[CV] .... max_depth=5, min_samples_leaf=20, score=0.735, total=   0.9s\n",
      "[CV] max_depth=6, min_samples_leaf=1 .................................\n",
      "[CV] ..... max_depth=6, min_samples_leaf=1, score=0.758, total=   1.1s\n",
      "[CV] max_depth=6, min_samples_leaf=1 .................................\n",
      "[CV] ..... max_depth=6, min_samples_leaf=1, score=0.762, total=   1.3s\n",
      "[CV] max_depth=6, min_samples_leaf=1 .................................\n",
      "[CV] ..... max_depth=6, min_samples_leaf=1, score=0.777, total=   1.3s\n",
      "[CV] max_depth=6, min_samples_leaf=1 .................................\n",
      "[CV] ..... max_depth=6, min_samples_leaf=1, score=0.749, total=   1.2s\n",
      "[CV] max_depth=6, min_samples_leaf=1 .................................\n",
      "[CV] ..... max_depth=6, min_samples_leaf=1, score=0.751, total=   0.9s\n",
      "[CV] max_depth=6, min_samples_leaf=1 .................................\n",
      "[CV] ..... max_depth=6, min_samples_leaf=1, score=0.748, total=   0.9s\n",
      "[CV] max_depth=6, min_samples_leaf=1 .................................\n",
      "[CV] ..... max_depth=6, min_samples_leaf=1, score=0.763, total=   0.9s\n",
      "[CV] max_depth=6, min_samples_leaf=1 .................................\n",
      "[CV] ..... max_depth=6, min_samples_leaf=1, score=0.757, total=   1.2s\n",
      "[CV] max_depth=6, min_samples_leaf=1 .................................\n",
      "[CV] ..... max_depth=6, min_samples_leaf=1, score=0.779, total=   0.9s\n",
      "[CV] max_depth=6, min_samples_leaf=1 .................................\n",
      "[CV] ..... max_depth=6, min_samples_leaf=1, score=0.745, total=   1.1s\n",
      "[CV] max_depth=6, min_samples_leaf=5 .................................\n",
      "[CV] ..... max_depth=6, min_samples_leaf=5, score=0.756, total=   0.9s\n",
      "[CV] max_depth=6, min_samples_leaf=5 .................................\n",
      "[CV] ..... max_depth=6, min_samples_leaf=5, score=0.762, total=   0.9s\n",
      "[CV] max_depth=6, min_samples_leaf=5 .................................\n",
      "[CV] ..... max_depth=6, min_samples_leaf=5, score=0.776, total=   0.7s\n",
      "[CV] max_depth=6, min_samples_leaf=5 .................................\n",
      "[CV] ..... max_depth=6, min_samples_leaf=5, score=0.748, total=   0.8s\n",
      "[CV] max_depth=6, min_samples_leaf=5 .................................\n",
      "[CV] ..... max_depth=6, min_samples_leaf=5, score=0.751, total=   1.0s\n",
      "[CV] max_depth=6, min_samples_leaf=5 .................................\n",
      "[CV] ..... max_depth=6, min_samples_leaf=5, score=0.748, total=   0.9s\n",
      "[CV] max_depth=6, min_samples_leaf=5 .................................\n",
      "[CV] ..... max_depth=6, min_samples_leaf=5, score=0.764, total=   0.9s\n",
      "[CV] max_depth=6, min_samples_leaf=5 .................................\n",
      "[CV] ..... max_depth=6, min_samples_leaf=5, score=0.757, total=   0.8s\n",
      "[CV] max_depth=6, min_samples_leaf=5 .................................\n",
      "[CV] ..... max_depth=6, min_samples_leaf=5, score=0.779, total=   0.8s\n",
      "[CV] max_depth=6, min_samples_leaf=5 .................................\n",
      "[CV] ..... max_depth=6, min_samples_leaf=5, score=0.745, total=   0.9s\n",
      "[CV] max_depth=6, min_samples_leaf=10 ................................\n",
      "[CV] .... max_depth=6, min_samples_leaf=10, score=0.756, total=   0.8s\n",
      "[CV] max_depth=6, min_samples_leaf=10 ................................\n",
      "[CV] .... max_depth=6, min_samples_leaf=10, score=0.762, total=   0.9s\n",
      "[CV] max_depth=6, min_samples_leaf=10 ................................\n",
      "[CV] .... max_depth=6, min_samples_leaf=10, score=0.776, total=   0.9s\n",
      "[CV] max_depth=6, min_samples_leaf=10 ................................\n",
      "[CV] .... max_depth=6, min_samples_leaf=10, score=0.749, total=   1.2s\n",
      "[CV] max_depth=6, min_samples_leaf=10 ................................\n",
      "[CV] .... max_depth=6, min_samples_leaf=10, score=0.750, total=   1.1s\n",
      "[CV] max_depth=6, min_samples_leaf=10 ................................\n",
      "[CV] .... max_depth=6, min_samples_leaf=10, score=0.748, total=   1.1s\n",
      "[CV] max_depth=6, min_samples_leaf=10 ................................\n",
      "[CV] .... max_depth=6, min_samples_leaf=10, score=0.762, total=   0.9s\n",
      "[CV] max_depth=6, min_samples_leaf=10 ................................\n",
      "[CV] .... max_depth=6, min_samples_leaf=10, score=0.754, total=   0.7s\n",
      "[CV] max_depth=6, min_samples_leaf=10 ................................\n",
      "[CV] .... max_depth=6, min_samples_leaf=10, score=0.778, total=   0.8s\n",
      "[CV] max_depth=6, min_samples_leaf=10 ................................\n",
      "[CV] .... max_depth=6, min_samples_leaf=10, score=0.745, total=   0.7s\n",
      "[CV] max_depth=6, min_samples_leaf=20 ................................\n",
      "[CV] .... max_depth=6, min_samples_leaf=20, score=0.757, total=   0.7s\n",
      "[CV] max_depth=6, min_samples_leaf=20 ................................\n",
      "[CV] .... max_depth=6, min_samples_leaf=20, score=0.762, total=   0.8s\n",
      "[CV] max_depth=6, min_samples_leaf=20 ................................\n",
      "[CV] .... max_depth=6, min_samples_leaf=20, score=0.775, total=   0.9s\n",
      "[CV] max_depth=6, min_samples_leaf=20 ................................\n",
      "[CV] .... max_depth=6, min_samples_leaf=20, score=0.748, total=   0.9s\n",
      "[CV] max_depth=6, min_samples_leaf=20 ................................\n",
      "[CV] .... max_depth=6, min_samples_leaf=20, score=0.750, total=   1.6s\n",
      "[CV] max_depth=6, min_samples_leaf=20 ................................\n",
      "[CV] .... max_depth=6, min_samples_leaf=20, score=0.748, total=   1.1s\n",
      "[CV] max_depth=6, min_samples_leaf=20 ................................\n"
     ]
    },
    {
     "name": "stdout",
     "output_type": "stream",
     "text": [
      "[CV] .... max_depth=6, min_samples_leaf=20, score=0.764, total=   1.1s\n",
      "[CV] max_depth=6, min_samples_leaf=20 ................................\n",
      "[CV] .... max_depth=6, min_samples_leaf=20, score=0.754, total=   1.1s\n",
      "[CV] max_depth=6, min_samples_leaf=20 ................................\n",
      "[CV] .... max_depth=6, min_samples_leaf=20, score=0.779, total=   1.4s\n",
      "[CV] max_depth=6, min_samples_leaf=20 ................................\n",
      "[CV] .... max_depth=6, min_samples_leaf=20, score=0.745, total=   1.3s\n",
      "[CV] max_depth=7, min_samples_leaf=1 .................................\n",
      "[CV] ..... max_depth=7, min_samples_leaf=1, score=0.775, total=   1.5s\n",
      "[CV] max_depth=7, min_samples_leaf=1 .................................\n",
      "[CV] ..... max_depth=7, min_samples_leaf=1, score=0.756, total=   1.1s\n",
      "[CV] max_depth=7, min_samples_leaf=1 .................................\n",
      "[CV] ..... max_depth=7, min_samples_leaf=1, score=0.786, total=   1.3s\n",
      "[CV] max_depth=7, min_samples_leaf=1 .................................\n",
      "[CV] ..... max_depth=7, min_samples_leaf=1, score=0.750, total=   1.3s\n",
      "[CV] max_depth=7, min_samples_leaf=1 .................................\n",
      "[CV] ..... max_depth=7, min_samples_leaf=1, score=0.753, total=   0.9s\n",
      "[CV] max_depth=7, min_samples_leaf=1 .................................\n",
      "[CV] ..... max_depth=7, min_samples_leaf=1, score=0.750, total=   0.8s\n",
      "[CV] max_depth=7, min_samples_leaf=1 .................................\n",
      "[CV] ..... max_depth=7, min_samples_leaf=1, score=0.758, total=   0.8s\n",
      "[CV] max_depth=7, min_samples_leaf=1 .................................\n",
      "[CV] ..... max_depth=7, min_samples_leaf=1, score=0.758, total=   1.0s\n",
      "[CV] max_depth=7, min_samples_leaf=1 .................................\n",
      "[CV] ..... max_depth=7, min_samples_leaf=1, score=0.780, total=   1.3s\n",
      "[CV] max_depth=7, min_samples_leaf=1 .................................\n",
      "[CV] ..... max_depth=7, min_samples_leaf=1, score=0.751, total=   1.0s\n",
      "[CV] max_depth=7, min_samples_leaf=5 .................................\n",
      "[CV] ..... max_depth=7, min_samples_leaf=5, score=0.774, total=   1.2s\n",
      "[CV] max_depth=7, min_samples_leaf=5 .................................\n",
      "[CV] ..... max_depth=7, min_samples_leaf=5, score=0.756, total=   1.0s\n",
      "[CV] max_depth=7, min_samples_leaf=5 .................................\n",
      "[CV] ..... max_depth=7, min_samples_leaf=5, score=0.785, total=   1.1s\n",
      "[CV] max_depth=7, min_samples_leaf=5 .................................\n",
      "[CV] ..... max_depth=7, min_samples_leaf=5, score=0.749, total=   1.0s\n",
      "[CV] max_depth=7, min_samples_leaf=5 .................................\n",
      "[CV] ..... max_depth=7, min_samples_leaf=5, score=0.753, total=   0.9s\n",
      "[CV] max_depth=7, min_samples_leaf=5 .................................\n",
      "[CV] ..... max_depth=7, min_samples_leaf=5, score=0.751, total=   1.0s\n",
      "[CV] max_depth=7, min_samples_leaf=5 .................................\n",
      "[CV] ..... max_depth=7, min_samples_leaf=5, score=0.759, total=   0.9s\n",
      "[CV] max_depth=7, min_samples_leaf=5 .................................\n",
      "[CV] ..... max_depth=7, min_samples_leaf=5, score=0.760, total=   1.0s\n",
      "[CV] max_depth=7, min_samples_leaf=5 .................................\n",
      "[CV] ..... max_depth=7, min_samples_leaf=5, score=0.780, total=   1.0s\n",
      "[CV] max_depth=7, min_samples_leaf=5 .................................\n",
      "[CV] ..... max_depth=7, min_samples_leaf=5, score=0.751, total=   1.1s\n",
      "[CV] max_depth=7, min_samples_leaf=10 ................................\n",
      "[CV] .... max_depth=7, min_samples_leaf=10, score=0.773, total=   0.9s\n",
      "[CV] max_depth=7, min_samples_leaf=10 ................................\n",
      "[CV] .... max_depth=7, min_samples_leaf=10, score=0.755, total=   0.8s\n",
      "[CV] max_depth=7, min_samples_leaf=10 ................................\n",
      "[CV] .... max_depth=7, min_samples_leaf=10, score=0.785, total=   0.9s\n",
      "[CV] max_depth=7, min_samples_leaf=10 ................................\n",
      "[CV] .... max_depth=7, min_samples_leaf=10, score=0.750, total=   1.1s\n",
      "[CV] max_depth=7, min_samples_leaf=10 ................................\n",
      "[CV] .... max_depth=7, min_samples_leaf=10, score=0.752, total=   1.1s\n",
      "[CV] max_depth=7, min_samples_leaf=10 ................................\n",
      "[CV] .... max_depth=7, min_samples_leaf=10, score=0.751, total=   0.9s\n",
      "[CV] max_depth=7, min_samples_leaf=10 ................................\n",
      "[CV] .... max_depth=7, min_samples_leaf=10, score=0.757, total=   1.0s\n",
      "[CV] max_depth=7, min_samples_leaf=10 ................................\n",
      "[CV] .... max_depth=7, min_samples_leaf=10, score=0.759, total=   1.1s\n",
      "[CV] max_depth=7, min_samples_leaf=10 ................................\n",
      "[CV] .... max_depth=7, min_samples_leaf=10, score=0.779, total=   1.0s\n",
      "[CV] max_depth=7, min_samples_leaf=10 ................................\n",
      "[CV] .... max_depth=7, min_samples_leaf=10, score=0.751, total=   1.0s\n",
      "[CV] max_depth=7, min_samples_leaf=20 ................................\n",
      "[CV] .... max_depth=7, min_samples_leaf=20, score=0.767, total=   1.0s\n",
      "[CV] max_depth=7, min_samples_leaf=20 ................................\n",
      "[CV] .... max_depth=7, min_samples_leaf=20, score=0.755, total=   1.0s\n",
      "[CV] max_depth=7, min_samples_leaf=20 ................................\n",
      "[CV] .... max_depth=7, min_samples_leaf=20, score=0.785, total=   1.0s\n",
      "[CV] max_depth=7, min_samples_leaf=20 ................................\n",
      "[CV] .... max_depth=7, min_samples_leaf=20, score=0.748, total=   1.0s\n",
      "[CV] max_depth=7, min_samples_leaf=20 ................................\n",
      "[CV] .... max_depth=7, min_samples_leaf=20, score=0.752, total=   1.0s\n",
      "[CV] max_depth=7, min_samples_leaf=20 ................................\n",
      "[CV] .... max_depth=7, min_samples_leaf=20, score=0.751, total=   1.1s\n",
      "[CV] max_depth=7, min_samples_leaf=20 ................................\n",
      "[CV] .... max_depth=7, min_samples_leaf=20, score=0.760, total=   1.1s\n",
      "[CV] max_depth=7, min_samples_leaf=20 ................................\n",
      "[CV] .... max_depth=7, min_samples_leaf=20, score=0.759, total=   0.9s\n",
      "[CV] max_depth=7, min_samples_leaf=20 ................................\n",
      "[CV] .... max_depth=7, min_samples_leaf=20, score=0.780, total=   1.3s\n",
      "[CV] max_depth=7, min_samples_leaf=20 ................................\n",
      "[CV] .... max_depth=7, min_samples_leaf=20, score=0.752, total=   1.1s\n",
      "[CV] max_depth=8, min_samples_leaf=1 .................................\n",
      "[CV] ..... max_depth=8, min_samples_leaf=1, score=0.758, total=   1.0s\n",
      "[CV] max_depth=8, min_samples_leaf=1 .................................\n",
      "[CV] ..... max_depth=8, min_samples_leaf=1, score=0.752, total=   1.1s\n",
      "[CV] max_depth=8, min_samples_leaf=1 .................................\n",
      "[CV] ..... max_depth=8, min_samples_leaf=1, score=0.786, total=   1.3s\n",
      "[CV] max_depth=8, min_samples_leaf=1 .................................\n",
      "[CV] ..... max_depth=8, min_samples_leaf=1, score=0.746, total=   1.2s\n",
      "[CV] max_depth=8, min_samples_leaf=1 .................................\n",
      "[CV] ..... max_depth=8, min_samples_leaf=1, score=0.745, total=   1.4s\n",
      "[CV] max_depth=8, min_samples_leaf=1 .................................\n",
      "[CV] ..... max_depth=8, min_samples_leaf=1, score=0.747, total=   1.2s\n",
      "[CV] max_depth=8, min_samples_leaf=1 .................................\n",
      "[CV] ..... max_depth=8, min_samples_leaf=1, score=0.747, total=   1.6s\n",
      "[CV] max_depth=8, min_samples_leaf=1 .................................\n",
      "[CV] ..... max_depth=8, min_samples_leaf=1, score=0.747, total=   1.5s\n",
      "[CV] max_depth=8, min_samples_leaf=1 .................................\n",
      "[CV] ..... max_depth=8, min_samples_leaf=1, score=0.782, total=   1.1s\n",
      "[CV] max_depth=8, min_samples_leaf=1 .................................\n",
      "[CV] ..... max_depth=8, min_samples_leaf=1, score=0.740, total=   1.1s\n",
      "[CV] max_depth=8, min_samples_leaf=5 .................................\n",
      "[CV] ..... max_depth=8, min_samples_leaf=5, score=0.756, total=   1.5s\n",
      "[CV] max_depth=8, min_samples_leaf=5 .................................\n",
      "[CV] ..... max_depth=8, min_samples_leaf=5, score=0.753, total=   1.7s\n",
      "[CV] max_depth=8, min_samples_leaf=5 .................................\n",
      "[CV] ..... max_depth=8, min_samples_leaf=5, score=0.786, total=   1.8s\n",
      "[CV] max_depth=8, min_samples_leaf=5 .................................\n",
      "[CV] ..... max_depth=8, min_samples_leaf=5, score=0.747, total=   1.2s\n",
      "[CV] max_depth=8, min_samples_leaf=5 .................................\n"
     ]
    },
    {
     "name": "stdout",
     "output_type": "stream",
     "text": [
      "[CV] ..... max_depth=8, min_samples_leaf=5, score=0.745, total=   1.5s\n",
      "[CV] max_depth=8, min_samples_leaf=5 .................................\n",
      "[CV] ..... max_depth=8, min_samples_leaf=5, score=0.749, total=   2.0s\n",
      "[CV] max_depth=8, min_samples_leaf=5 .................................\n",
      "[CV] ..... max_depth=8, min_samples_leaf=5, score=0.748, total=   1.4s\n",
      "[CV] max_depth=8, min_samples_leaf=5 .................................\n",
      "[CV] ..... max_depth=8, min_samples_leaf=5, score=0.750, total=   1.1s\n",
      "[CV] max_depth=8, min_samples_leaf=5 .................................\n",
      "[CV] ..... max_depth=8, min_samples_leaf=5, score=0.782, total=   1.1s\n",
      "[CV] max_depth=8, min_samples_leaf=5 .................................\n",
      "[CV] ..... max_depth=8, min_samples_leaf=5, score=0.746, total=   1.2s\n",
      "[CV] max_depth=8, min_samples_leaf=10 ................................\n",
      "[CV] .... max_depth=8, min_samples_leaf=10, score=0.756, total=   1.0s\n",
      "[CV] max_depth=8, min_samples_leaf=10 ................................\n",
      "[CV] .... max_depth=8, min_samples_leaf=10, score=0.752, total=   1.2s\n",
      "[CV] max_depth=8, min_samples_leaf=10 ................................\n",
      "[CV] .... max_depth=8, min_samples_leaf=10, score=0.787, total=   1.9s\n",
      "[CV] max_depth=8, min_samples_leaf=10 ................................\n",
      "[CV] .... max_depth=8, min_samples_leaf=10, score=0.750, total=   1.2s\n",
      "[CV] max_depth=8, min_samples_leaf=10 ................................\n",
      "[CV] .... max_depth=8, min_samples_leaf=10, score=0.744, total=   1.3s\n",
      "[CV] max_depth=8, min_samples_leaf=10 ................................\n",
      "[CV] .... max_depth=8, min_samples_leaf=10, score=0.751, total=   0.9s\n",
      "[CV] max_depth=8, min_samples_leaf=10 ................................\n",
      "[CV] .... max_depth=8, min_samples_leaf=10, score=0.746, total=   1.0s\n",
      "[CV] max_depth=8, min_samples_leaf=10 ................................\n",
      "[CV] .... max_depth=8, min_samples_leaf=10, score=0.745, total=   1.1s\n",
      "[CV] max_depth=8, min_samples_leaf=10 ................................\n",
      "[CV] .... max_depth=8, min_samples_leaf=10, score=0.781, total=   1.4s\n",
      "[CV] max_depth=8, min_samples_leaf=10 ................................\n",
      "[CV] .... max_depth=8, min_samples_leaf=10, score=0.744, total=   1.1s\n",
      "[CV] max_depth=8, min_samples_leaf=20 ................................\n",
      "[CV] .... max_depth=8, min_samples_leaf=20, score=0.760, total=   1.0s\n",
      "[CV] max_depth=8, min_samples_leaf=20 ................................\n",
      "[CV] .... max_depth=8, min_samples_leaf=20, score=0.753, total=   1.0s\n",
      "[CV] max_depth=8, min_samples_leaf=20 ................................\n",
      "[CV] .... max_depth=8, min_samples_leaf=20, score=0.780, total=   0.9s\n",
      "[CV] max_depth=8, min_samples_leaf=20 ................................\n",
      "[CV] .... max_depth=8, min_samples_leaf=20, score=0.748, total=   1.0s\n",
      "[CV] max_depth=8, min_samples_leaf=20 ................................\n",
      "[CV] .... max_depth=8, min_samples_leaf=20, score=0.744, total=   1.2s\n",
      "[CV] max_depth=8, min_samples_leaf=20 ................................\n",
      "[CV] .... max_depth=8, min_samples_leaf=20, score=0.749, total=   0.9s\n",
      "[CV] max_depth=8, min_samples_leaf=20 ................................\n",
      "[CV] .... max_depth=8, min_samples_leaf=20, score=0.745, total=   1.0s\n",
      "[CV] max_depth=8, min_samples_leaf=20 ................................\n",
      "[CV] .... max_depth=8, min_samples_leaf=20, score=0.747, total=   1.1s\n",
      "[CV] max_depth=8, min_samples_leaf=20 ................................\n",
      "[CV] .... max_depth=8, min_samples_leaf=20, score=0.781, total=   1.4s\n",
      "[CV] max_depth=8, min_samples_leaf=20 ................................\n",
      "[CV] .... max_depth=8, min_samples_leaf=20, score=0.741, total=   1.2s\n",
      "[CV] max_depth=9, min_samples_leaf=1 .................................\n",
      "[CV] ..... max_depth=9, min_samples_leaf=1, score=0.748, total=   1.3s\n",
      "[CV] max_depth=9, min_samples_leaf=1 .................................\n",
      "[CV] ..... max_depth=9, min_samples_leaf=1, score=0.751, total=   2.2s\n",
      "[CV] max_depth=9, min_samples_leaf=1 .................................\n",
      "[CV] ..... max_depth=9, min_samples_leaf=1, score=0.776, total=   1.7s\n",
      "[CV] max_depth=9, min_samples_leaf=1 .................................\n",
      "[CV] ..... max_depth=9, min_samples_leaf=1, score=0.748, total=   1.2s\n",
      "[CV] max_depth=9, min_samples_leaf=1 .................................\n",
      "[CV] ..... max_depth=9, min_samples_leaf=1, score=0.745, total=   1.6s\n",
      "[CV] max_depth=9, min_samples_leaf=1 .................................\n",
      "[CV] ..... max_depth=9, min_samples_leaf=1, score=0.745, total=   1.2s\n",
      "[CV] max_depth=9, min_samples_leaf=1 .................................\n",
      "[CV] ..... max_depth=9, min_samples_leaf=1, score=0.746, total=   1.2s\n",
      "[CV] max_depth=9, min_samples_leaf=1 .................................\n",
      "[CV] ..... max_depth=9, min_samples_leaf=1, score=0.750, total=   1.0s\n",
      "[CV] max_depth=9, min_samples_leaf=1 .................................\n",
      "[CV] ..... max_depth=9, min_samples_leaf=1, score=0.776, total=   0.9s\n",
      "[CV] max_depth=9, min_samples_leaf=1 .................................\n",
      "[CV] ..... max_depth=9, min_samples_leaf=1, score=0.733, total=   0.9s\n",
      "[CV] max_depth=9, min_samples_leaf=5 .................................\n",
      "[CV] ..... max_depth=9, min_samples_leaf=5, score=0.748, total=   1.2s\n",
      "[CV] max_depth=9, min_samples_leaf=5 .................................\n",
      "[CV] ..... max_depth=9, min_samples_leaf=5, score=0.758, total=   1.1s\n",
      "[CV] max_depth=9, min_samples_leaf=5 .................................\n",
      "[CV] ..... max_depth=9, min_samples_leaf=5, score=0.776, total=   1.1s\n",
      "[CV] max_depth=9, min_samples_leaf=5 .................................\n",
      "[CV] ..... max_depth=9, min_samples_leaf=5, score=0.744, total=   1.1s\n",
      "[CV] max_depth=9, min_samples_leaf=5 .................................\n",
      "[CV] ..... max_depth=9, min_samples_leaf=5, score=0.744, total=   1.3s\n",
      "[CV] max_depth=9, min_samples_leaf=5 .................................\n",
      "[CV] ..... max_depth=9, min_samples_leaf=5, score=0.745, total=   1.9s\n",
      "[CV] max_depth=9, min_samples_leaf=5 .................................\n",
      "[CV] ..... max_depth=9, min_samples_leaf=5, score=0.749, total=   1.4s\n",
      "[CV] max_depth=9, min_samples_leaf=5 .................................\n",
      "[CV] ..... max_depth=9, min_samples_leaf=5, score=0.756, total=   1.3s\n",
      "[CV] max_depth=9, min_samples_leaf=5 .................................\n",
      "[CV] ..... max_depth=9, min_samples_leaf=5, score=0.776, total=   2.0s\n",
      "[CV] max_depth=9, min_samples_leaf=5 .................................\n",
      "[CV] ..... max_depth=9, min_samples_leaf=5, score=0.746, total=   1.3s\n",
      "[CV] max_depth=9, min_samples_leaf=10 ................................\n",
      "[CV] .... max_depth=9, min_samples_leaf=10, score=0.748, total=   1.2s\n",
      "[CV] max_depth=9, min_samples_leaf=10 ................................\n",
      "[CV] .... max_depth=9, min_samples_leaf=10, score=0.758, total=   1.2s\n",
      "[CV] max_depth=9, min_samples_leaf=10 ................................\n",
      "[CV] .... max_depth=9, min_samples_leaf=10, score=0.778, total=   1.4s\n",
      "[CV] max_depth=9, min_samples_leaf=10 ................................\n",
      "[CV] .... max_depth=9, min_samples_leaf=10, score=0.751, total=   1.1s\n",
      "[CV] max_depth=9, min_samples_leaf=10 ................................\n",
      "[CV] .... max_depth=9, min_samples_leaf=10, score=0.743, total=   1.0s\n",
      "[CV] max_depth=9, min_samples_leaf=10 ................................\n",
      "[CV] .... max_depth=9, min_samples_leaf=10, score=0.746, total=   1.1s\n",
      "[CV] max_depth=9, min_samples_leaf=10 ................................\n",
      "[CV] .... max_depth=9, min_samples_leaf=10, score=0.755, total=   1.3s\n",
      "[CV] max_depth=9, min_samples_leaf=10 ................................\n",
      "[CV] .... max_depth=9, min_samples_leaf=10, score=0.750, total=   1.1s\n",
      "[CV] max_depth=9, min_samples_leaf=10 ................................\n",
      "[CV] .... max_depth=9, min_samples_leaf=10, score=0.777, total=   1.0s\n",
      "[CV] max_depth=9, min_samples_leaf=10 ................................\n",
      "[CV] .... max_depth=9, min_samples_leaf=10, score=0.745, total=   1.1s\n",
      "[CV] max_depth=9, min_samples_leaf=20 ................................\n",
      "[CV] .... max_depth=9, min_samples_leaf=20, score=0.757, total=   1.3s\n",
      "[CV] max_depth=9, min_samples_leaf=20 ................................\n",
      "[CV] .... max_depth=9, min_samples_leaf=20, score=0.757, total=   1.2s\n",
      "[CV] max_depth=9, min_samples_leaf=20 ................................\n"
     ]
    },
    {
     "name": "stdout",
     "output_type": "stream",
     "text": [
      "[CV] .... max_depth=9, min_samples_leaf=20, score=0.783, total=   1.1s\n",
      "[CV] max_depth=9, min_samples_leaf=20 ................................\n",
      "[CV] .... max_depth=9, min_samples_leaf=20, score=0.748, total=   1.0s\n",
      "[CV] max_depth=9, min_samples_leaf=20 ................................\n",
      "[CV] .... max_depth=9, min_samples_leaf=20, score=0.746, total=   1.0s\n",
      "[CV] max_depth=9, min_samples_leaf=20 ................................\n",
      "[CV] .... max_depth=9, min_samples_leaf=20, score=0.751, total=   1.1s\n",
      "[CV] max_depth=9, min_samples_leaf=20 ................................\n",
      "[CV] .... max_depth=9, min_samples_leaf=20, score=0.751, total=   1.0s\n",
      "[CV] max_depth=9, min_samples_leaf=20 ................................\n",
      "[CV] .... max_depth=9, min_samples_leaf=20, score=0.748, total=   1.0s\n",
      "[CV] max_depth=9, min_samples_leaf=20 ................................\n",
      "[CV] .... max_depth=9, min_samples_leaf=20, score=0.775, total=   1.1s\n",
      "[CV] max_depth=9, min_samples_leaf=20 ................................\n",
      "[CV] .... max_depth=9, min_samples_leaf=20, score=0.749, total=   1.0s\n"
     ]
    },
    {
     "name": "stderr",
     "output_type": "stream",
     "text": [
      "[Parallel(n_jobs=1)]: Done 360 out of 360 | elapsed:  4.9min finished\n"
     ]
    },
    {
     "data": {
      "text/plain": [
       "GridSearchCV(cv=10, error_score='raise-deprecating',\n",
       "             estimator=DecisionTreeClassifier(class_weight=None,\n",
       "                                              criterion='gini', max_depth=None,\n",
       "                                              max_features=None,\n",
       "                                              max_leaf_nodes=None,\n",
       "                                              min_impurity_decrease=0.0,\n",
       "                                              min_impurity_split=None,\n",
       "                                              min_samples_leaf=1,\n",
       "                                              min_samples_split=2,\n",
       "                                              min_weight_fraction_leaf=0.0,\n",
       "                                              presort=False, random_state=None,\n",
       "                                              splitter='best'),\n",
       "             iid='warn', n_jobs=None,\n",
       "             param_grid={'max_depth': array([1, 2, 3, 4, 5, 6, 7, 8, 9]),\n",
       "                         'min_samples_leaf': [1, 5, 10, 20]},\n",
       "             pre_dispatch='2*n_jobs', refit=True, return_train_score=False,\n",
       "             scoring='f1', verbose=5)"
      ]
     },
     "execution_count": 168,
     "metadata": {},
     "output_type": "execute_result"
    }
   ],
   "source": [
    "algo = DecisionTreeClassifier()\n",
    "params = {'max_depth' : np.arange(5,10),\n",
    "         'min_samples_leaf' : [1,2,3,4,5],\n",
    "         'max_features ' : [1,2,3,4,5,6,7,8,9,10]}\n",
    "\n",
    "classifier =  GridSearchCV(estimator=algo, param_grid= params, scoring='f1', cv = 10,verbose=5,n_jobs=-1)\n",
    "classifier.fit(X_train, Y_train)"
   ]
  },
  {
   "cell_type": "code",
   "execution_count": 172,
   "metadata": {
    "scrolled": true
   },
   "outputs": [
    {
     "data": {
      "text/plain": [
       "{'max_depth': 7, 'min_samples_leaf': 1}"
      ]
     },
     "execution_count": 172,
     "metadata": {},
     "output_type": "execute_result"
    }
   ],
   "source": [
    "classifier.best_params_"
   ]
  },
  {
   "cell_type": "code",
   "execution_count": 179,
   "metadata": {},
   "outputs": [
    {
     "data": {
      "text/plain": [
       "0.9855400941738702"
      ]
     },
     "execution_count": 179,
     "metadata": {},
     "output_type": "execute_result"
    }
   ],
   "source": [
    "classifier.best_estimator_.score(X_test, Y_test)"
   ]
  },
  {
   "cell_type": "code",
   "execution_count": 180,
   "metadata": {},
   "outputs": [
    {
     "data": {
      "text/plain": [
       "0.986348302761965"
      ]
     },
     "execution_count": 180,
     "metadata": {},
     "output_type": "execute_result"
    }
   ],
   "source": [
    "classifier.best_estimator_.score(X_train, Y_train)"
   ]
  },
  {
   "cell_type": "code",
   "execution_count": 181,
   "metadata": {
    "scrolled": true
   },
   "outputs": [
    {
     "name": "stdout",
     "output_type": "stream",
     "text": [
      "Predictions on training set...\n",
      "...Done.\n",
      "[0 0 0 ... 0 0 0]\n",
      "\n"
     ]
    }
   ],
   "source": [
    "# Predictions on training set\n",
    "print(\"Predictions on training set...\")\n",
    "Y_train_pred = classifier.predict(X_train)\n",
    "print(\"...Done.\")\n",
    "print(Y_train_pred)\n",
    "print()"
   ]
  },
  {
   "cell_type": "code",
   "execution_count": 183,
   "metadata": {},
   "outputs": [
    {
     "name": "stdout",
     "output_type": "stream",
     "text": [
      "f1 score de train: 0.7675044883303412\n",
      "f1 score de test: 0.7580596565230492\n"
     ]
    }
   ],
   "source": [
    "print('f1 score de train:', f1_score(Y_train_pred, Y_train))\n",
    "print('f1 score de test:', f1_score(Y_test_pred, Y_test))"
   ]
  },
  {
   "cell_type": "markdown",
   "metadata": {},
   "source": [
    "## TEST PIPELINE"
   ]
  },
  {
   "cell_type": "code",
   "execution_count": 149,
   "metadata": {},
   "outputs": [
    {
     "name": "stdout",
     "output_type": "stream",
     "text": [
      "Encoding categorical features and standardizing numerical features...\n",
      "...Done\n",
      "[[-1.27912164  0.63598611  0.          0.          0.          1.\n",
      "   0.          1.          1.          0.          0.        ]\n",
      " [ 0.05165043  0.03803388  0.          0.          0.          1.\n",
      "   0.          1.          0.          0.          1.        ]\n",
      " [-0.3112874  -0.26094223  0.          0.          0.          1.\n",
      "   1.          0.          0.          0.          1.        ]\n",
      " [-0.67422524 -0.26094223  0.          1.          0.          0.\n",
      "   0.          1.          1.          0.          0.        ]\n",
      " [ 1.62438106  0.63598611  0.          0.          0.          1.\n",
      "   1.          0.          1.          0.          0.        ]]\n"
     ]
    }
   ],
   "source": [
    "# Use X_test, and the same preprocessings as in training pipeline, \n",
    "# but call \"transform()\" instead of \"fit_transform\" methods (see example below)\n",
    "\n",
    "print(\"Encoding categorical features and standardizing numerical features...\")\n",
    "\n",
    "X_test = feature_encoder.transform(X_test)\n",
    "print(\"...Done\")\n",
    "print(X_test[0:5,:])"
   ]
  },
  {
   "cell_type": "code",
   "execution_count": 150,
   "metadata": {},
   "outputs": [
    {
     "name": "stdout",
     "output_type": "stream",
     "text": [
      "Predictions on test set...\n",
      "...Done.\n",
      "[0 0 0 ... 0 0 0]\n",
      "\n"
     ]
    }
   ],
   "source": [
    "# Predictions on test set\n",
    "print(\"Predictions on test set...\")\n",
    "Y_test_pred = classifier.predict(X_test)\n",
    "print(\"...Done.\")\n",
    "print(Y_test_pred)\n",
    "print()"
   ]
  },
  {
   "cell_type": "markdown",
   "metadata": {},
   "source": [
    "## Performance assessment"
   ]
  },
  {
   "cell_type": "code",
   "execution_count": 151,
   "metadata": {},
   "outputs": [
    {
     "name": "stdout",
     "output_type": "stream",
     "text": [
      "f1-score on train set :  0.7652606956915415\n",
      "f1-score on test set :  0.7580596565230492\n"
     ]
    }
   ],
   "source": [
    "# WARNING : Use the same score as the one that will be used by Kaggle !\n",
    "# Here, the f1-score will be used to assess the performances on the leaderboard\n",
    "print(\"f1-score on train set : \", f1_score(Y_train, Y_train_pred))\n",
    "print(\"f1-score on test set : \", f1_score(Y_test, Y_test_pred))"
   ]
  },
  {
   "cell_type": "code",
   "execution_count": 152,
   "metadata": {
    "scrolled": true
   },
   "outputs": [
    {
     "name": "stdout",
     "output_type": "stream",
     "text": [
      "Confusion matrix on train set : \n",
      "[[219482    852]\n",
      " [  2259   5071]]\n",
      "\n",
      "Confusion matrix on test set : \n",
      "[[54855   211]\n",
      " [  592  1258]]\n",
      "\n"
     ]
    }
   ],
   "source": [
    "# You can also check more performance metrics to better understand what your model is doing\n",
    "print(\"Confusion matrix on train set : \")\n",
    "print(confusion_matrix(Y_train, Y_train_pred))\n",
    "print()\n",
    "print(\"Confusion matrix on test set : \")\n",
    "print(confusion_matrix(Y_test, Y_test_pred))\n",
    "print()"
   ]
  },
  {
   "cell_type": "markdown",
   "metadata": {},
   "source": [
    "## Train best classifier on all data and use it to make predictions on X_without_labels"
   ]
  },
  {
   "cell_type": "code",
   "execution_count": 157,
   "metadata": {},
   "outputs": [
    {
     "name": "stderr",
     "output_type": "stream",
     "text": [
      "C:\\Users\\alexi\\Anaconda3\\lib\\site-packages\\sklearn\\linear_model\\logistic.py:432: FutureWarning: Default solver will be changed to 'lbfgs' in 0.22. Specify a solver to silence this warning.\n",
      "  FutureWarning)\n"
     ]
    },
    {
     "data": {
      "text/plain": [
       "LogisticRegression(C=1.0, class_weight=None, dual=False, fit_intercept=True,\n",
       "                   intercept_scaling=1, l1_ratio=None, max_iter=100,\n",
       "                   multi_class='warn', n_jobs=None, penalty='l2',\n",
       "                   random_state=None, solver='warn', tol=0.0001, verbose=0,\n",
       "                   warm_start=False)"
      ]
     },
     "execution_count": 157,
     "metadata": {},
     "output_type": "execute_result"
    }
   ],
   "source": [
    "# Concatenate our train and test set to train your best classifier on all data with labels\n",
    "X = np.append(X_train,X_test,axis=0)\n",
    "Y = np.append(Y_train,Y_test)\n",
    "\n",
    "classifier.fit(X,Y)"
   ]
  },
  {
   "cell_type": "code",
   "execution_count": 158,
   "metadata": {},
   "outputs": [
    {
     "name": "stdout",
     "output_type": "stream",
     "text": [
      "Prediction set (without labels) : (31620, 5)\n",
      "Convert pandas DataFrames to numpy arrays...\n",
      "...Done\n",
      "[['UK' 28 0 'Seo' 16]\n",
      " ['UK' 22 1 'Direct' 5]\n",
      " ['China' 32 1 'Seo' 1]\n",
      " ['US' 32 1 'Ads' 6]\n",
      " ['China' 25 0 'Seo' 3]]\n"
     ]
    }
   ],
   "source": [
    "# Read data without labels\n",
    "data_without_labels = pd.read_csv('C:/Users/alexi/Downloads/conversion_data_test.csv')\n",
    "print('Prediction set (without labels) :', data_without_labels.shape)\n",
    "\n",
    "# Warning : check consistency of features_list (must be the same than the features \n",
    "# used by your best classifier)\n",
    "features_list = ['country','age','new_user','source','total_pages_visited']\n",
    "X_without_labels = data_without_labels.loc[:, features_list]\n",
    "\n",
    "# Convert pandas DataFrames to numpy arrays before using scikit-learn\n",
    "print(\"Convert pandas DataFrames to numpy arrays...\")\n",
    "X_without_labels = X_without_labels.values\n",
    "print(\"...Done\")\n",
    "\n",
    "print(X_without_labels[0:5,:])"
   ]
  },
  {
   "cell_type": "code",
   "execution_count": 159,
   "metadata": {},
   "outputs": [
    {
     "name": "stdout",
     "output_type": "stream",
     "text": [
      "Encoding categorical features and standardizing numerical features...\n",
      "...Done\n",
      "[[-0.3112874   3.32677112  0.          0.          1.          0.\n",
      "   1.          0.          0.          0.          1.        ]\n",
      " [-1.03716308  0.03803388  0.          0.          1.          0.\n",
      "   0.          1.          0.          1.          0.        ]\n",
      " [ 0.17262971 -1.15787057  1.          0.          0.          0.\n",
      "   0.          1.          0.          0.          1.        ]\n",
      " [ 0.17262971  0.33701     0.          0.          0.          1.\n",
      "   0.          1.          1.          0.          0.        ]\n",
      " [-0.67422524 -0.55991834  1.          0.          0.          0.\n",
      "   1.          0.          0.          0.          1.        ]]\n"
     ]
    }
   ],
   "source": [
    "# WARNING : PUT HERE THE SAME PREPROCESSING AS FOR YOUR TEST SET\n",
    "# CHECK YOU ARE USING X_without_labels\n",
    "print(\"Encoding categorical features and standardizing numerical features...\")\n",
    "\n",
    "X_without_labels = feature_encoder.transform(X_without_labels)\n",
    "print(\"...Done\")\n",
    "print(X_without_labels[0:5,:])"
   ]
  },
  {
   "cell_type": "code",
   "execution_count": 160,
   "metadata": {},
   "outputs": [],
   "source": [
    "# Make predictions and dump to file\n",
    "# WARNING : MAKE SURE THE FILE IS A CSV WITH ONE COLUMN NAMED 'converted' AND NO INDEX !\n",
    "# WARNING : FILE NAME MUST HAVE FORMAT 'conversion_data_test_predictions_[name].csv'\n",
    "# where [name] is the name of your team/model separated by a '-'\n",
    "# For example : [name] = AURELIE-baseline\n",
    "data = {\n",
    "    'converted': classifier.predict(X_without_labels)\n",
    "}\n",
    "\n",
    "Y_predictions = pd.DataFrame(columns=['converted'],data=data)\n",
    "Y_predictions.to_csv('C:/Users/alexi/Downloads/conversion_data_test_LesPingouinsv{}.csv'.format(iteration), index=False)\n",
    "iteration +=1"
   ]
  },
  {
   "cell_type": "code",
   "execution_count": 171,
   "metadata": {},
   "outputs": [
    {
     "data": {
      "text/plain": [
       "1"
      ]
     },
     "execution_count": 171,
     "metadata": {},
     "output_type": "execute_result"
    }
   ],
   "source": [
    "iteration"
   ]
  }
 ],
 "metadata": {
  "kernelspec": {
   "display_name": "Python 3",
   "language": "python",
   "name": "python3"
  },
  "language_info": {
   "codemirror_mode": {
    "name": "ipython",
    "version": 3
   },
   "file_extension": ".py",
   "mimetype": "text/x-python",
   "name": "python",
   "nbconvert_exporter": "python",
   "pygments_lexer": "ipython3",
   "version": "3.7.3"
  }
 },
 "nbformat": 4,
 "nbformat_minor": 2
}
